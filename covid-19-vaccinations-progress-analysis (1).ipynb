{
 "cells": [
  {
   "cell_type": "markdown",
   "source": [
    "**Si Nguyen Pham**\n",
    "\n",
    "**Senior at VNU HCM International University**\n",
    "\n",
    "**August, 7th, 2021**\n",
    "\n",
    "**AN OVERVIEW OF GLOBAL COVID-19 VACCINATIONS PROGRESS**"
   ],
   "metadata": {
    "papermill": {
     "duration": 0.049746,
     "end_time": "2021-08-07T13:53:37.711550",
     "exception": false,
     "start_time": "2021-08-07T13:53:37.661804",
     "status": "completed"
    },
    "tags": []
   }
  },
  {
   "cell_type": "markdown",
   "source": [
    "**Introduction:**\n",
    "\n",
    "At the moment, I guess almost everyone in this world has heard at least once about COVID-19. It has been nearly two years since the world recorded the first case of COVID-19. Fortunately, we have produced several types of vaccines against the pandemic. If you regurlarly update daily news, you must see and hear about COVID-19 statistics. In case you are wondering how people work with it, then this notebook is suitable for you. In this notebook, I mainly focus on analyzing information that related to the vaccinations progress. We will go through step by step to reach the final result. This notebook is also suitable for those who are at beginner level or intermediate. Follow this notebook thoroughly, you will get all of the information I provided since I explained everything in detail.\n",
    "\n",
    "This project uses Python languague.\n",
    "\n",
    "Many thanks to Gabriel Preda and Rishav Sharma for providing the two dataframes."
   ],
   "metadata": {
    "papermill": {
     "duration": 0.043368,
     "end_time": "2021-08-07T13:53:37.804525",
     "exception": false,
     "start_time": "2021-08-07T13:53:37.761157",
     "status": "completed"
    },
    "tags": []
   }
  },
  {
   "cell_type": "markdown",
   "source": [
    "**I. Setting environment:**"
   ],
   "metadata": {
    "papermill": {
     "duration": 0.042674,
     "end_time": "2021-08-07T13:53:37.890328",
     "exception": false,
     "start_time": "2021-08-07T13:53:37.847654",
     "status": "completed"
    },
    "tags": []
   }
  },
  {
   "cell_type": "markdown",
   "source": [
    "**1.1. Import librabries:**"
   ],
   "metadata": {
    "papermill": {
     "duration": 0.043381,
     "end_time": "2021-08-07T13:53:37.976599",
     "exception": false,
     "start_time": "2021-08-07T13:53:37.933218",
     "status": "completed"
    },
    "tags": []
   }
  },
  {
   "cell_type": "code",
   "execution_count": 1,
   "source": [
    "# Import librabries:\r\n",
    "import pandas as pd\r\n",
    "import seaborn as sns\r\n",
    "import matplotlib.pyplot as plt\r\n",
    "import plotly.express as px"
   ],
   "outputs": [],
   "metadata": {
    "execution": {
     "iopub.execute_input": "2021-08-07T13:53:38.074459Z",
     "iopub.status.busy": "2021-08-07T13:53:38.073723Z",
     "iopub.status.idle": "2021-08-07T13:53:40.261678Z",
     "shell.execute_reply": "2021-08-07T13:53:40.260947Z",
     "shell.execute_reply.started": "2021-08-07T12:09:24.101742Z"
    },
    "papermill": {
     "duration": 2.242593,
     "end_time": "2021-08-07T13:53:40.261922",
     "exception": false,
     "start_time": "2021-08-07T13:53:38.019329",
     "status": "completed"
    },
    "tags": []
   }
  },
  {
   "cell_type": "markdown",
   "source": [
    "**1.2. Reading files:**"
   ],
   "metadata": {
    "papermill": {
     "duration": 0.042297,
     "end_time": "2021-08-07T13:53:40.347618",
     "exception": false,
     "start_time": "2021-08-07T13:53:40.305321",
     "status": "completed"
    },
    "tags": []
   }
  },
  {
   "cell_type": "code",
   "execution_count": 2,
   "source": [
    "# Read the country_vaccinations dataset\r\n",
    "df = pd.read_csv(\"country_vaccinations.csv\")\r\n"
   ],
   "outputs": [],
   "metadata": {
    "execution": {
     "iopub.execute_input": "2021-08-07T13:53:40.437113Z",
     "iopub.status.busy": "2021-08-07T13:53:40.436514Z",
     "iopub.status.idle": "2021-08-07T13:53:40.630353Z",
     "shell.execute_reply": "2021-08-07T13:53:40.629840Z",
     "shell.execute_reply.started": "2021-08-07T12:09:24.108231Z"
    },
    "papermill": {
     "duration": 0.240445,
     "end_time": "2021-08-07T13:53:40.630497",
     "exception": false,
     "start_time": "2021-08-07T13:53:40.390052",
     "status": "completed"
    },
    "tags": []
   }
  },
  {
   "cell_type": "code",
   "execution_count": 3,
   "source": [
    "# Read the country_vaccinations_by_manufacturer dataset\r\n",
    "vbm = pd.read_csv(\"country_vaccinations_by_manufacturer.csv\")\r\n",
    "# Read the 2021_population dataset\r\n",
    "wp = pd.read_csv(\"2021_population.csv\")"
   ],
   "outputs": [],
   "metadata": {}
  },
  {
   "cell_type": "markdown",
   "source": [
    "**II. Data Checking and Cleaning:**"
   ],
   "metadata": {
    "papermill": {
     "duration": 0.042174,
     "end_time": "2021-08-07T13:53:40.715452",
     "exception": false,
     "start_time": "2021-08-07T13:53:40.673278",
     "status": "completed"
    },
    "tags": []
   }
  },
  {
   "cell_type": "markdown",
   "source": [
    "**2.1. Country_vaccinations dataset:**"
   ],
   "metadata": {
    "papermill": {
     "duration": 0.042584,
     "end_time": "2021-08-07T13:53:40.800715",
     "exception": false,
     "start_time": "2021-08-07T13:53:40.758131",
     "status": "completed"
    },
    "tags": []
   }
  },
  {
   "cell_type": "code",
   "execution_count": 4,
   "source": [
    "# Call out the first 5 rows of the dataset\r\n",
    "df.head()"
   ],
   "outputs": [
    {
     "output_type": "execute_result",
     "data": {
      "text/plain": [
       "       country iso_code        date  total_vaccinations  people_vaccinated  \\\n",
       "0  Afghanistan      AFG  2021-02-22                 0.0                0.0   \n",
       "1  Afghanistan      AFG  2021-02-23                 NaN                NaN   \n",
       "2  Afghanistan      AFG  2021-02-24                 NaN                NaN   \n",
       "3  Afghanistan      AFG  2021-02-25                 NaN                NaN   \n",
       "4  Afghanistan      AFG  2021-02-26                 NaN                NaN   \n",
       "\n",
       "   people_fully_vaccinated  daily_vaccinations_raw  daily_vaccinations  \\\n",
       "0                      NaN                     NaN                 NaN   \n",
       "1                      NaN                     NaN              1367.0   \n",
       "2                      NaN                     NaN              1367.0   \n",
       "3                      NaN                     NaN              1367.0   \n",
       "4                      NaN                     NaN              1367.0   \n",
       "\n",
       "   total_vaccinations_per_hundred  people_vaccinated_per_hundred  \\\n",
       "0                             0.0                            0.0   \n",
       "1                             NaN                            NaN   \n",
       "2                             NaN                            NaN   \n",
       "3                             NaN                            NaN   \n",
       "4                             NaN                            NaN   \n",
       "\n",
       "   people_fully_vaccinated_per_hundred  daily_vaccinations_per_million  \\\n",
       "0                                  NaN                             NaN   \n",
       "1                                  NaN                            35.0   \n",
       "2                                  NaN                            35.0   \n",
       "3                                  NaN                            35.0   \n",
       "4                                  NaN                            35.0   \n",
       "\n",
       "                                            vaccines  \\\n",
       "0  Johnson&Johnson, Oxford/AstraZeneca, Pfizer/Bi...   \n",
       "1  Johnson&Johnson, Oxford/AstraZeneca, Pfizer/Bi...   \n",
       "2  Johnson&Johnson, Oxford/AstraZeneca, Pfizer/Bi...   \n",
       "3  Johnson&Johnson, Oxford/AstraZeneca, Pfizer/Bi...   \n",
       "4  Johnson&Johnson, Oxford/AstraZeneca, Pfizer/Bi...   \n",
       "\n",
       "                 source_name            source_website  \n",
       "0  World Health Organization  https://covid19.who.int/  \n",
       "1  World Health Organization  https://covid19.who.int/  \n",
       "2  World Health Organization  https://covid19.who.int/  \n",
       "3  World Health Organization  https://covid19.who.int/  \n",
       "4  World Health Organization  https://covid19.who.int/  "
      ],
      "text/html": [
       "<div>\n",
       "<style scoped>\n",
       "    .dataframe tbody tr th:only-of-type {\n",
       "        vertical-align: middle;\n",
       "    }\n",
       "\n",
       "    .dataframe tbody tr th {\n",
       "        vertical-align: top;\n",
       "    }\n",
       "\n",
       "    .dataframe thead th {\n",
       "        text-align: right;\n",
       "    }\n",
       "</style>\n",
       "<table border=\"1\" class=\"dataframe\">\n",
       "  <thead>\n",
       "    <tr style=\"text-align: right;\">\n",
       "      <th></th>\n",
       "      <th>country</th>\n",
       "      <th>iso_code</th>\n",
       "      <th>date</th>\n",
       "      <th>total_vaccinations</th>\n",
       "      <th>people_vaccinated</th>\n",
       "      <th>people_fully_vaccinated</th>\n",
       "      <th>daily_vaccinations_raw</th>\n",
       "      <th>daily_vaccinations</th>\n",
       "      <th>total_vaccinations_per_hundred</th>\n",
       "      <th>people_vaccinated_per_hundred</th>\n",
       "      <th>people_fully_vaccinated_per_hundred</th>\n",
       "      <th>daily_vaccinations_per_million</th>\n",
       "      <th>vaccines</th>\n",
       "      <th>source_name</th>\n",
       "      <th>source_website</th>\n",
       "    </tr>\n",
       "  </thead>\n",
       "  <tbody>\n",
       "    <tr>\n",
       "      <th>0</th>\n",
       "      <td>Afghanistan</td>\n",
       "      <td>AFG</td>\n",
       "      <td>2021-02-22</td>\n",
       "      <td>0.0</td>\n",
       "      <td>0.0</td>\n",
       "      <td>NaN</td>\n",
       "      <td>NaN</td>\n",
       "      <td>NaN</td>\n",
       "      <td>0.0</td>\n",
       "      <td>0.0</td>\n",
       "      <td>NaN</td>\n",
       "      <td>NaN</td>\n",
       "      <td>Johnson&amp;Johnson, Oxford/AstraZeneca, Pfizer/Bi...</td>\n",
       "      <td>World Health Organization</td>\n",
       "      <td>https://covid19.who.int/</td>\n",
       "    </tr>\n",
       "    <tr>\n",
       "      <th>1</th>\n",
       "      <td>Afghanistan</td>\n",
       "      <td>AFG</td>\n",
       "      <td>2021-02-23</td>\n",
       "      <td>NaN</td>\n",
       "      <td>NaN</td>\n",
       "      <td>NaN</td>\n",
       "      <td>NaN</td>\n",
       "      <td>1367.0</td>\n",
       "      <td>NaN</td>\n",
       "      <td>NaN</td>\n",
       "      <td>NaN</td>\n",
       "      <td>35.0</td>\n",
       "      <td>Johnson&amp;Johnson, Oxford/AstraZeneca, Pfizer/Bi...</td>\n",
       "      <td>World Health Organization</td>\n",
       "      <td>https://covid19.who.int/</td>\n",
       "    </tr>\n",
       "    <tr>\n",
       "      <th>2</th>\n",
       "      <td>Afghanistan</td>\n",
       "      <td>AFG</td>\n",
       "      <td>2021-02-24</td>\n",
       "      <td>NaN</td>\n",
       "      <td>NaN</td>\n",
       "      <td>NaN</td>\n",
       "      <td>NaN</td>\n",
       "      <td>1367.0</td>\n",
       "      <td>NaN</td>\n",
       "      <td>NaN</td>\n",
       "      <td>NaN</td>\n",
       "      <td>35.0</td>\n",
       "      <td>Johnson&amp;Johnson, Oxford/AstraZeneca, Pfizer/Bi...</td>\n",
       "      <td>World Health Organization</td>\n",
       "      <td>https://covid19.who.int/</td>\n",
       "    </tr>\n",
       "    <tr>\n",
       "      <th>3</th>\n",
       "      <td>Afghanistan</td>\n",
       "      <td>AFG</td>\n",
       "      <td>2021-02-25</td>\n",
       "      <td>NaN</td>\n",
       "      <td>NaN</td>\n",
       "      <td>NaN</td>\n",
       "      <td>NaN</td>\n",
       "      <td>1367.0</td>\n",
       "      <td>NaN</td>\n",
       "      <td>NaN</td>\n",
       "      <td>NaN</td>\n",
       "      <td>35.0</td>\n",
       "      <td>Johnson&amp;Johnson, Oxford/AstraZeneca, Pfizer/Bi...</td>\n",
       "      <td>World Health Organization</td>\n",
       "      <td>https://covid19.who.int/</td>\n",
       "    </tr>\n",
       "    <tr>\n",
       "      <th>4</th>\n",
       "      <td>Afghanistan</td>\n",
       "      <td>AFG</td>\n",
       "      <td>2021-02-26</td>\n",
       "      <td>NaN</td>\n",
       "      <td>NaN</td>\n",
       "      <td>NaN</td>\n",
       "      <td>NaN</td>\n",
       "      <td>1367.0</td>\n",
       "      <td>NaN</td>\n",
       "      <td>NaN</td>\n",
       "      <td>NaN</td>\n",
       "      <td>35.0</td>\n",
       "      <td>Johnson&amp;Johnson, Oxford/AstraZeneca, Pfizer/Bi...</td>\n",
       "      <td>World Health Organization</td>\n",
       "      <td>https://covid19.who.int/</td>\n",
       "    </tr>\n",
       "  </tbody>\n",
       "</table>\n",
       "</div>"
      ]
     },
     "metadata": {},
     "execution_count": 4
    }
   ],
   "metadata": {
    "execution": {
     "iopub.execute_input": "2021-08-07T13:53:40.896368Z",
     "iopub.status.busy": "2021-08-07T13:53:40.895014Z",
     "iopub.status.idle": "2021-08-07T13:53:40.922697Z",
     "shell.execute_reply": "2021-08-07T13:53:40.922245Z",
     "shell.execute_reply.started": "2021-08-07T12:09:24.299724Z"
    },
    "papermill": {
     "duration": 0.078826,
     "end_time": "2021-08-07T13:53:40.922836",
     "exception": false,
     "start_time": "2021-08-07T13:53:40.844010",
     "status": "completed"
    },
    "tags": []
   }
  },
  {
   "cell_type": "code",
   "execution_count": 5,
   "source": [
    "# Dataset information\r\n",
    "df.info()"
   ],
   "outputs": [
    {
     "output_type": "stream",
     "name": "stdout",
     "text": [
      "<class 'pandas.core.frame.DataFrame'>\n",
      "RangeIndex: 35943 entries, 0 to 35942\n",
      "Data columns (total 15 columns):\n",
      " #   Column                               Non-Null Count  Dtype  \n",
      "---  ------                               --------------  -----  \n",
      " 0   country                              35943 non-null  object \n",
      " 1   iso_code                             35943 non-null  object \n",
      " 2   date                                 35943 non-null  object \n",
      " 3   total_vaccinations                   20041 non-null  float64\n",
      " 4   people_vaccinated                    19152 non-null  float64\n",
      " 5   people_fully_vaccinated              16290 non-null  float64\n",
      " 6   daily_vaccinations_raw               16538 non-null  float64\n",
      " 7   daily_vaccinations                   35684 non-null  float64\n",
      " 8   total_vaccinations_per_hundred       20041 non-null  float64\n",
      " 9   people_vaccinated_per_hundred        19152 non-null  float64\n",
      " 10  people_fully_vaccinated_per_hundred  16290 non-null  float64\n",
      " 11  daily_vaccinations_per_million       35684 non-null  float64\n",
      " 12  vaccines                             35943 non-null  object \n",
      " 13  source_name                          35943 non-null  object \n",
      " 14  source_website                       35943 non-null  object \n",
      "dtypes: float64(9), object(6)\n",
      "memory usage: 4.1+ MB\n"
     ]
    }
   ],
   "metadata": {
    "execution": {
     "iopub.execute_input": "2021-08-07T13:53:41.017608Z",
     "iopub.status.busy": "2021-08-07T13:53:41.016996Z",
     "iopub.status.idle": "2021-08-07T13:53:41.044639Z",
     "shell.execute_reply": "2021-08-07T13:53:41.045231Z",
     "shell.execute_reply.started": "2021-08-07T12:09:24.321781Z"
    },
    "papermill": {
     "duration": 0.078103,
     "end_time": "2021-08-07T13:53:41.045397",
     "exception": false,
     "start_time": "2021-08-07T13:53:40.967294",
     "status": "completed"
    },
    "tags": []
   }
  },
  {
   "cell_type": "markdown",
   "source": [
    "Since it looks like that the null values do not affect our calculation seen the values at the total_vaccionations columns are cummulative. Therefore, we did not need to clean our data."
   ],
   "metadata": {
    "papermill": {
     "duration": 0.044538,
     "end_time": "2021-08-07T13:53:41.133700",
     "exception": false,
     "start_time": "2021-08-07T13:53:41.089162",
     "status": "completed"
    },
    "tags": []
   }
  },
  {
   "cell_type": "code",
   "execution_count": 6,
   "source": [
    "# Count the number of countries in the dataset\r\n",
    "df['country'].nunique()"
   ],
   "outputs": [
    {
     "output_type": "execute_result",
     "data": {
      "text/plain": [
       "219"
      ]
     },
     "metadata": {},
     "execution_count": 6
    }
   ],
   "metadata": {
    "execution": {
     "iopub.execute_input": "2021-08-07T13:53:41.224482Z",
     "iopub.status.busy": "2021-08-07T13:53:41.223885Z",
     "iopub.status.idle": "2021-08-07T13:53:41.233924Z",
     "shell.execute_reply": "2021-08-07T13:53:41.233253Z",
     "shell.execute_reply.started": "2021-08-07T12:09:24.365496Z"
    },
    "papermill": {
     "duration": 0.056442,
     "end_time": "2021-08-07T13:53:41.234068",
     "exception": false,
     "start_time": "2021-08-07T13:53:41.177626",
     "status": "completed"
    },
    "tags": []
   }
  },
  {
   "cell_type": "markdown",
   "source": [
    "There are 219 countries listed in the country_vaccinations dataset"
   ],
   "metadata": {
    "papermill": {
     "duration": 0.043398,
     "end_time": "2021-08-07T13:53:41.322622",
     "exception": false,
     "start_time": "2021-08-07T13:53:41.279224",
     "status": "completed"
    },
    "tags": []
   }
  },
  {
   "cell_type": "markdown",
   "source": [
    "**2.2. Counttry_vaccinations_by_manufacturers:**"
   ],
   "metadata": {
    "papermill": {
     "duration": 0.043412,
     "end_time": "2021-08-07T13:53:41.410116",
     "exception": false,
     "start_time": "2021-08-07T13:53:41.366704",
     "status": "completed"
    },
    "tags": []
   }
  },
  {
   "cell_type": "code",
   "execution_count": 7,
   "source": [
    "# Call out the first 5 rows of the dataset\r\n",
    "vbm.head()"
   ],
   "outputs": [
    {
     "output_type": "execute_result",
     "data": {
      "text/plain": [
       "  location        date             vaccine  total_vaccinations\n",
       "0  Austria  2021-01-08     Johnson&Johnson                   0\n",
       "1  Austria  2021-01-08             Moderna                   0\n",
       "2  Austria  2021-01-08  Oxford/AstraZeneca                   0\n",
       "3  Austria  2021-01-08     Pfizer/BioNTech               31020\n",
       "4  Austria  2021-01-15     Johnson&Johnson                   0"
      ],
      "text/html": [
       "<div>\n",
       "<style scoped>\n",
       "    .dataframe tbody tr th:only-of-type {\n",
       "        vertical-align: middle;\n",
       "    }\n",
       "\n",
       "    .dataframe tbody tr th {\n",
       "        vertical-align: top;\n",
       "    }\n",
       "\n",
       "    .dataframe thead th {\n",
       "        text-align: right;\n",
       "    }\n",
       "</style>\n",
       "<table border=\"1\" class=\"dataframe\">\n",
       "  <thead>\n",
       "    <tr style=\"text-align: right;\">\n",
       "      <th></th>\n",
       "      <th>location</th>\n",
       "      <th>date</th>\n",
       "      <th>vaccine</th>\n",
       "      <th>total_vaccinations</th>\n",
       "    </tr>\n",
       "  </thead>\n",
       "  <tbody>\n",
       "    <tr>\n",
       "      <th>0</th>\n",
       "      <td>Austria</td>\n",
       "      <td>2021-01-08</td>\n",
       "      <td>Johnson&amp;Johnson</td>\n",
       "      <td>0</td>\n",
       "    </tr>\n",
       "    <tr>\n",
       "      <th>1</th>\n",
       "      <td>Austria</td>\n",
       "      <td>2021-01-08</td>\n",
       "      <td>Moderna</td>\n",
       "      <td>0</td>\n",
       "    </tr>\n",
       "    <tr>\n",
       "      <th>2</th>\n",
       "      <td>Austria</td>\n",
       "      <td>2021-01-08</td>\n",
       "      <td>Oxford/AstraZeneca</td>\n",
       "      <td>0</td>\n",
       "    </tr>\n",
       "    <tr>\n",
       "      <th>3</th>\n",
       "      <td>Austria</td>\n",
       "      <td>2021-01-08</td>\n",
       "      <td>Pfizer/BioNTech</td>\n",
       "      <td>31020</td>\n",
       "    </tr>\n",
       "    <tr>\n",
       "      <th>4</th>\n",
       "      <td>Austria</td>\n",
       "      <td>2021-01-15</td>\n",
       "      <td>Johnson&amp;Johnson</td>\n",
       "      <td>0</td>\n",
       "    </tr>\n",
       "  </tbody>\n",
       "</table>\n",
       "</div>"
      ]
     },
     "metadata": {},
     "execution_count": 7
    }
   ],
   "metadata": {
    "execution": {
     "iopub.execute_input": "2021-08-07T13:53:41.508410Z",
     "iopub.status.busy": "2021-08-07T13:53:41.507530Z",
     "iopub.status.idle": "2021-08-07T13:53:41.511632Z",
     "shell.execute_reply": "2021-08-07T13:53:41.511181Z",
     "shell.execute_reply.started": "2021-08-07T12:09:24.523250Z"
    },
    "papermill": {
     "duration": 0.057711,
     "end_time": "2021-08-07T13:53:41.511778",
     "exception": false,
     "start_time": "2021-08-07T13:53:41.454067",
     "status": "completed"
    },
    "tags": []
   }
  },
  {
   "cell_type": "code",
   "execution_count": 8,
   "source": [
    "# Dataset information\r\n",
    "vbm.info()"
   ],
   "outputs": [
    {
     "output_type": "stream",
     "name": "stdout",
     "text": [
      "<class 'pandas.core.frame.DataFrame'>\n",
      "RangeIndex: 10965 entries, 0 to 10964\n",
      "Data columns (total 4 columns):\n",
      " #   Column              Non-Null Count  Dtype \n",
      "---  ------              --------------  ----- \n",
      " 0   location            10965 non-null  object\n",
      " 1   date                10965 non-null  object\n",
      " 2   vaccine             10965 non-null  object\n",
      " 3   total_vaccinations  10965 non-null  int64 \n",
      "dtypes: int64(1), object(3)\n",
      "memory usage: 342.8+ KB\n"
     ]
    }
   ],
   "metadata": {
    "execution": {
     "iopub.execute_input": "2021-08-07T13:53:41.602368Z",
     "iopub.status.busy": "2021-08-07T13:53:41.601826Z",
     "iopub.status.idle": "2021-08-07T13:53:41.615795Z",
     "shell.execute_reply": "2021-08-07T13:53:41.615296Z",
     "shell.execute_reply.started": "2021-08-07T12:09:24.537867Z"
    },
    "papermill": {
     "duration": 0.059896,
     "end_time": "2021-08-07T13:53:41.615931",
     "exception": false,
     "start_time": "2021-08-07T13:53:41.556035",
     "status": "completed"
    },
    "tags": []
   }
  },
  {
   "cell_type": "markdown",
   "source": [
    "This dataset looks perfect!"
   ],
   "metadata": {
    "papermill": {
     "duration": 0.044498,
     "end_time": "2021-08-07T13:53:41.704771",
     "exception": false,
     "start_time": "2021-08-07T13:53:41.660273",
     "status": "completed"
    },
    "tags": []
   }
  },
  {
   "cell_type": "code",
   "execution_count": 9,
   "source": [
    "vbm['location'].nunique()"
   ],
   "outputs": [
    {
     "output_type": "execute_result",
     "data": {
      "text/plain": [
       "34"
      ]
     },
     "metadata": {},
     "execution_count": 9
    }
   ],
   "metadata": {
    "execution": {
     "iopub.execute_input": "2021-08-07T13:53:41.798455Z",
     "iopub.status.busy": "2021-08-07T13:53:41.797886Z",
     "iopub.status.idle": "2021-08-07T13:53:41.802463Z",
     "shell.execute_reply": "2021-08-07T13:53:41.802940Z",
     "shell.execute_reply.started": "2021-08-07T12:09:24.556820Z"
    },
    "papermill": {
     "duration": 0.0539,
     "end_time": "2021-08-07T13:53:41.803103",
     "exception": false,
     "start_time": "2021-08-07T13:53:41.749203",
     "status": "completed"
    },
    "tags": []
   }
  },
  {
   "cell_type": "markdown",
   "source": [
    "Meanwhile, in the country_vaccinations_by_manufacturers, there are only 33 countries listed"
   ],
   "metadata": {
    "papermill": {
     "duration": 0.044491,
     "end_time": "2021-08-07T13:53:41.892357",
     "exception": false,
     "start_time": "2021-08-07T13:53:41.847866",
     "status": "completed"
    },
    "tags": []
   }
  },
  {
   "cell_type": "markdown",
   "source": [
    "**2.3. World_population dataset:**"
   ],
   "metadata": {
    "papermill": {
     "duration": 0.044362,
     "end_time": "2021-08-07T13:53:41.981541",
     "exception": false,
     "start_time": "2021-08-07T13:53:41.937179",
     "status": "completed"
    },
    "tags": []
   }
  },
  {
   "cell_type": "code",
   "execution_count": 10,
   "source": [
    "# Call out the first 5 rows of the dataset\r\n",
    "wp.head()"
   ],
   "outputs": [
    {
     "output_type": "execute_result",
     "data": {
      "text/plain": [
       "  iso_code        country 2021_last_updated 2020_population             area  \\\n",
       "0      CHN          China     1,444,712,023   1,439,323,776  9,706,961 sq_km   \n",
       "1      IND          India     1,394,784,323   1,380,004,385  3,287,590 sq_km   \n",
       "2      USA  United States       333,114,077     331,002,651  9,372,610 sq_km   \n",
       "3      IDN      Indonesia       276,653,405     273,523,615  1,904,569 sq_km   \n",
       "4      PAK       Pakistan       225,639,396     220,892,340    881,912 sq_km   \n",
       "\n",
       "  density_sq_km growth_rate world_%  rank  \n",
       "0     149/sq_km       0.34%  18.34%     1  \n",
       "1     424/sq_km       0.97%  17.69%     2  \n",
       "2      36/sq_km       0.58%   4.23%     3  \n",
       "3     145/sq_km       1.04%   3.51%     4  \n",
       "4     255/sq_km       1.95%   2.86%     5  "
      ],
      "text/html": [
       "<div>\n",
       "<style scoped>\n",
       "    .dataframe tbody tr th:only-of-type {\n",
       "        vertical-align: middle;\n",
       "    }\n",
       "\n",
       "    .dataframe tbody tr th {\n",
       "        vertical-align: top;\n",
       "    }\n",
       "\n",
       "    .dataframe thead th {\n",
       "        text-align: right;\n",
       "    }\n",
       "</style>\n",
       "<table border=\"1\" class=\"dataframe\">\n",
       "  <thead>\n",
       "    <tr style=\"text-align: right;\">\n",
       "      <th></th>\n",
       "      <th>iso_code</th>\n",
       "      <th>country</th>\n",
       "      <th>2021_last_updated</th>\n",
       "      <th>2020_population</th>\n",
       "      <th>area</th>\n",
       "      <th>density_sq_km</th>\n",
       "      <th>growth_rate</th>\n",
       "      <th>world_%</th>\n",
       "      <th>rank</th>\n",
       "    </tr>\n",
       "  </thead>\n",
       "  <tbody>\n",
       "    <tr>\n",
       "      <th>0</th>\n",
       "      <td>CHN</td>\n",
       "      <td>China</td>\n",
       "      <td>1,444,712,023</td>\n",
       "      <td>1,439,323,776</td>\n",
       "      <td>9,706,961 sq_km</td>\n",
       "      <td>149/sq_km</td>\n",
       "      <td>0.34%</td>\n",
       "      <td>18.34%</td>\n",
       "      <td>1</td>\n",
       "    </tr>\n",
       "    <tr>\n",
       "      <th>1</th>\n",
       "      <td>IND</td>\n",
       "      <td>India</td>\n",
       "      <td>1,394,784,323</td>\n",
       "      <td>1,380,004,385</td>\n",
       "      <td>3,287,590 sq_km</td>\n",
       "      <td>424/sq_km</td>\n",
       "      <td>0.97%</td>\n",
       "      <td>17.69%</td>\n",
       "      <td>2</td>\n",
       "    </tr>\n",
       "    <tr>\n",
       "      <th>2</th>\n",
       "      <td>USA</td>\n",
       "      <td>United States</td>\n",
       "      <td>333,114,077</td>\n",
       "      <td>331,002,651</td>\n",
       "      <td>9,372,610 sq_km</td>\n",
       "      <td>36/sq_km</td>\n",
       "      <td>0.58%</td>\n",
       "      <td>4.23%</td>\n",
       "      <td>3</td>\n",
       "    </tr>\n",
       "    <tr>\n",
       "      <th>3</th>\n",
       "      <td>IDN</td>\n",
       "      <td>Indonesia</td>\n",
       "      <td>276,653,405</td>\n",
       "      <td>273,523,615</td>\n",
       "      <td>1,904,569 sq_km</td>\n",
       "      <td>145/sq_km</td>\n",
       "      <td>1.04%</td>\n",
       "      <td>3.51%</td>\n",
       "      <td>4</td>\n",
       "    </tr>\n",
       "    <tr>\n",
       "      <th>4</th>\n",
       "      <td>PAK</td>\n",
       "      <td>Pakistan</td>\n",
       "      <td>225,639,396</td>\n",
       "      <td>220,892,340</td>\n",
       "      <td>881,912 sq_km</td>\n",
       "      <td>255/sq_km</td>\n",
       "      <td>1.95%</td>\n",
       "      <td>2.86%</td>\n",
       "      <td>5</td>\n",
       "    </tr>\n",
       "  </tbody>\n",
       "</table>\n",
       "</div>"
      ]
     },
     "metadata": {},
     "execution_count": 10
    }
   ],
   "metadata": {
    "execution": {
     "iopub.execute_input": "2021-08-07T13:53:42.074181Z",
     "iopub.status.busy": "2021-08-07T13:53:42.073577Z",
     "iopub.status.idle": "2021-08-07T13:53:42.087138Z",
     "shell.execute_reply": "2021-08-07T13:53:42.086684Z",
     "shell.execute_reply.started": "2021-08-07T12:09:24.777928Z"
    },
    "papermill": {
     "duration": 0.060928,
     "end_time": "2021-08-07T13:53:42.087269",
     "exception": false,
     "start_time": "2021-08-07T13:53:42.026341",
     "status": "completed"
    },
    "tags": []
   }
  },
  {
   "cell_type": "code",
   "execution_count": 11,
   "source": [
    "# Dataset infomartion\r\n",
    "wp.info()"
   ],
   "outputs": [
    {
     "output_type": "stream",
     "name": "stdout",
     "text": [
      "<class 'pandas.core.frame.DataFrame'>\n",
      "RangeIndex: 228 entries, 0 to 227\n",
      "Data columns (total 9 columns):\n",
      " #   Column             Non-Null Count  Dtype \n",
      "---  ------             --------------  ----- \n",
      " 0   iso_code           228 non-null    object\n",
      " 1   country            228 non-null    object\n",
      " 2   2021_last_updated  228 non-null    object\n",
      " 3   2020_population    228 non-null    object\n",
      " 4   area               228 non-null    object\n",
      " 5   density_sq_km      228 non-null    object\n",
      " 6   growth_rate        228 non-null    object\n",
      " 7   world_%            228 non-null    object\n",
      " 8   rank               228 non-null    int64 \n",
      "dtypes: int64(1), object(8)\n",
      "memory usage: 16.2+ KB\n"
     ]
    }
   ],
   "metadata": {
    "execution": {
     "iopub.execute_input": "2021-08-07T13:53:42.191510Z",
     "iopub.status.busy": "2021-08-07T13:53:42.190830Z",
     "iopub.status.idle": "2021-08-07T13:53:42.194302Z",
     "shell.execute_reply": "2021-08-07T13:53:42.194953Z",
     "shell.execute_reply.started": "2021-08-07T12:09:24.798452Z"
    },
    "papermill": {
     "duration": 0.062121,
     "end_time": "2021-08-07T13:53:42.195123",
     "exception": false,
     "start_time": "2021-08-07T13:53:42.133002",
     "status": "completed"
    },
    "tags": []
   }
  },
  {
   "cell_type": "markdown",
   "source": [
    "This dataset is perfect, too!"
   ],
   "metadata": {
    "papermill": {
     "duration": 0.045913,
     "end_time": "2021-08-07T13:53:42.286670",
     "exception": false,
     "start_time": "2021-08-07T13:53:42.240757",
     "status": "completed"
    },
    "tags": []
   }
  },
  {
   "cell_type": "code",
   "execution_count": 12,
   "source": [
    "wp['country'].nunique()"
   ],
   "outputs": [
    {
     "output_type": "execute_result",
     "data": {
      "text/plain": [
       "228"
      ]
     },
     "metadata": {},
     "execution_count": 12
    }
   ],
   "metadata": {
    "execution": {
     "iopub.execute_input": "2021-08-07T13:53:42.382233Z",
     "iopub.status.busy": "2021-08-07T13:53:42.381656Z",
     "iopub.status.idle": "2021-08-07T13:53:42.385016Z",
     "shell.execute_reply": "2021-08-07T13:53:42.385526Z",
     "shell.execute_reply.started": "2021-08-07T12:09:24.819694Z"
    },
    "papermill": {
     "duration": 0.053783,
     "end_time": "2021-08-07T13:53:42.385686",
     "exception": false,
     "start_time": "2021-08-07T13:53:42.331903",
     "status": "completed"
    },
    "tags": []
   }
  },
  {
   "cell_type": "markdown",
   "source": [
    "There are 228 countries listed in this dataset."
   ],
   "metadata": {
    "papermill": {
     "duration": 0.045423,
     "end_time": "2021-08-07T13:53:42.477001",
     "exception": false,
     "start_time": "2021-08-07T13:53:42.431578",
     "status": "completed"
    },
    "tags": []
   }
  },
  {
   "cell_type": "markdown",
   "source": [
    "**2.4. Concatenate two dataframes:**"
   ],
   "metadata": {
    "papermill": {
     "duration": 0.045074,
     "end_time": "2021-08-07T13:53:42.567471",
     "exception": false,
     "start_time": "2021-08-07T13:53:42.522397",
     "status": "completed"
    },
    "tags": []
   }
  },
  {
   "cell_type": "markdown",
   "source": [
    "To estimate the rate of fully vaccinated people of one country per its population, I needed to concat two dataframes. As we can see, in the world population dataset, there are 228 countries listed while in country vaccinations dataset there are only 219 countries. That means we need to clean and remove countries that are mentioned once.\n",
    "\n",
    "As a beginner, I do not have many advanced techniques. Howerver, I am proud to get the below dataset. The idea here is to choose the neccesary columns, concat the chosen dataframes, filter out values that appear more than once in the new dataframes (remove values that appear only in 1 of the 2 dataframes which means that they are redundant data), drop duplicated values (keep last and first in order to keep the neccesary data) and reset their index. Actually, you can also clean the data using Excel but I wanted to challenge myself by using Python, so if you want to do the same thing, you can reference the idea."
   ],
   "metadata": {
    "papermill": {
     "duration": 0.045046,
     "end_time": "2021-08-07T13:53:42.657947",
     "exception": false,
     "start_time": "2021-08-07T13:53:42.612901",
     "status": "completed"
    },
    "tags": []
   }
  },
  {
   "cell_type": "code",
   "execution_count": 13,
   "source": [
    "wp_sort = wp[['country', '2021_last_updated']] \r\n",
    "wp_sort.sort_values('country') \r\n",
    "vcn_drop = df.drop_duplicates('country', keep = \"last\") \r\n",
    "vcn_sort = vcn_drop[['country', 'people_fully_vaccinated']]\r\n",
    "df_same = pd.concat([wp_sort,vcn_sort]) \r\n",
    "df_same = df_same[df_same.groupby('country').country.transform(len) > 1] \r\n",
    "df_same = df_same.drop_duplicates('country', keep = \"last\") \r\n",
    "df_same_sort = df_same[['country', 'people_fully_vaccinated']] \r\n",
    "df_same_sort = df_same_sort.rename(columns={'country' : 'country_vaccinations'}) \r\n",
    "df_same_sort.reset_index(drop=True, inplace=True) \r\n",
    "wp_clean = pd.concat([wp, df_same])\r\n",
    "wp_clean = wp_clean[wp_clean.groupby('country').country.transform(len) > 1]\r\n",
    "wp_clean = wp_clean.drop_duplicates('country', keep = \"first\")\r\n",
    "wp_clean_sort = wp_clean[['country', '2021_last_updated']]\r\n",
    "wp_clean_sort = wp_clean_sort.sort_values('country')\r\n",
    "wp_clean_sort.reset_index(drop = True, inplace=True)\r\n",
    "cbn = pd.concat([wp_clean_sort, df_same_sort], axis=1)\r\n",
    "cbn\r\n"
   ],
   "outputs": [
    {
     "output_type": "execute_result",
     "data": {
      "text/plain": [
       "         country 2021_last_updated country_vaccinations  \\\n",
       "0    Afghanistan        39,929,284          Afghanistan   \n",
       "1        Albania         2,872,370              Albania   \n",
       "2        Algeria        44,694,125              Algeria   \n",
       "3        Andorra            77,355              Andorra   \n",
       "4         Angola        34,043,709               Angola   \n",
       "..           ...               ...                  ...   \n",
       "183    Venezuela        28,728,962            Venezuela   \n",
       "184      Vietnam        98,253,611              Vietnam   \n",
       "185        Yemen        30,558,838                Yemen   \n",
       "186       Zambia        18,975,907               Zambia   \n",
       "187     Zimbabwe        15,116,142             Zimbabwe   \n",
       "\n",
       "     people_fully_vaccinated  \n",
       "0                        NaN  \n",
       "1                   545036.0  \n",
       "2                   724812.0  \n",
       "3                    33904.0  \n",
       "4                   710113.0  \n",
       "..                       ...  \n",
       "183                1100000.0  \n",
       "184                 888459.0  \n",
       "185                  13322.0  \n",
       "186                 188219.0  \n",
       "187                 863667.0  \n",
       "\n",
       "[188 rows x 4 columns]"
      ],
      "text/html": [
       "<div>\n",
       "<style scoped>\n",
       "    .dataframe tbody tr th:only-of-type {\n",
       "        vertical-align: middle;\n",
       "    }\n",
       "\n",
       "    .dataframe tbody tr th {\n",
       "        vertical-align: top;\n",
       "    }\n",
       "\n",
       "    .dataframe thead th {\n",
       "        text-align: right;\n",
       "    }\n",
       "</style>\n",
       "<table border=\"1\" class=\"dataframe\">\n",
       "  <thead>\n",
       "    <tr style=\"text-align: right;\">\n",
       "      <th></th>\n",
       "      <th>country</th>\n",
       "      <th>2021_last_updated</th>\n",
       "      <th>country_vaccinations</th>\n",
       "      <th>people_fully_vaccinated</th>\n",
       "    </tr>\n",
       "  </thead>\n",
       "  <tbody>\n",
       "    <tr>\n",
       "      <th>0</th>\n",
       "      <td>Afghanistan</td>\n",
       "      <td>39,929,284</td>\n",
       "      <td>Afghanistan</td>\n",
       "      <td>NaN</td>\n",
       "    </tr>\n",
       "    <tr>\n",
       "      <th>1</th>\n",
       "      <td>Albania</td>\n",
       "      <td>2,872,370</td>\n",
       "      <td>Albania</td>\n",
       "      <td>545036.0</td>\n",
       "    </tr>\n",
       "    <tr>\n",
       "      <th>2</th>\n",
       "      <td>Algeria</td>\n",
       "      <td>44,694,125</td>\n",
       "      <td>Algeria</td>\n",
       "      <td>724812.0</td>\n",
       "    </tr>\n",
       "    <tr>\n",
       "      <th>3</th>\n",
       "      <td>Andorra</td>\n",
       "      <td>77,355</td>\n",
       "      <td>Andorra</td>\n",
       "      <td>33904.0</td>\n",
       "    </tr>\n",
       "    <tr>\n",
       "      <th>4</th>\n",
       "      <td>Angola</td>\n",
       "      <td>34,043,709</td>\n",
       "      <td>Angola</td>\n",
       "      <td>710113.0</td>\n",
       "    </tr>\n",
       "    <tr>\n",
       "      <th>...</th>\n",
       "      <td>...</td>\n",
       "      <td>...</td>\n",
       "      <td>...</td>\n",
       "      <td>...</td>\n",
       "    </tr>\n",
       "    <tr>\n",
       "      <th>183</th>\n",
       "      <td>Venezuela</td>\n",
       "      <td>28,728,962</td>\n",
       "      <td>Venezuela</td>\n",
       "      <td>1100000.0</td>\n",
       "    </tr>\n",
       "    <tr>\n",
       "      <th>184</th>\n",
       "      <td>Vietnam</td>\n",
       "      <td>98,253,611</td>\n",
       "      <td>Vietnam</td>\n",
       "      <td>888459.0</td>\n",
       "    </tr>\n",
       "    <tr>\n",
       "      <th>185</th>\n",
       "      <td>Yemen</td>\n",
       "      <td>30,558,838</td>\n",
       "      <td>Yemen</td>\n",
       "      <td>13322.0</td>\n",
       "    </tr>\n",
       "    <tr>\n",
       "      <th>186</th>\n",
       "      <td>Zambia</td>\n",
       "      <td>18,975,907</td>\n",
       "      <td>Zambia</td>\n",
       "      <td>188219.0</td>\n",
       "    </tr>\n",
       "    <tr>\n",
       "      <th>187</th>\n",
       "      <td>Zimbabwe</td>\n",
       "      <td>15,116,142</td>\n",
       "      <td>Zimbabwe</td>\n",
       "      <td>863667.0</td>\n",
       "    </tr>\n",
       "  </tbody>\n",
       "</table>\n",
       "<p>188 rows × 4 columns</p>\n",
       "</div>"
      ]
     },
     "metadata": {},
     "execution_count": 13
    }
   ],
   "metadata": {
    "execution": {
     "iopub.execute_input": "2021-08-07T13:53:42.752215Z",
     "iopub.status.busy": "2021-08-07T13:53:42.751527Z",
     "iopub.status.idle": "2021-08-07T13:53:42.872523Z",
     "shell.execute_reply": "2021-08-07T13:53:42.871947Z",
     "shell.execute_reply.started": "2021-08-07T13:18:32.281437Z"
    },
    "papermill": {
     "duration": 0.16917,
     "end_time": "2021-08-07T13:53:42.872656",
     "exception": false,
     "start_time": "2021-08-07T13:53:42.703486",
     "status": "completed"
    },
    "tags": []
   }
  },
  {
   "cell_type": "markdown",
   "source": [
    "Great, so bascially, we already had our wanted dataframe which is the combination of the country_vaccinations dataframe and the world_population dataframe with no unwanted country. Let's check once again to see whether the new dataframe is really clean or not."
   ],
   "metadata": {
    "papermill": {
     "duration": 0.047225,
     "end_time": "2021-08-07T13:53:42.966140",
     "exception": false,
     "start_time": "2021-08-07T13:53:42.918915",
     "status": "completed"
    },
    "tags": []
   }
  },
  {
   "cell_type": "code",
   "execution_count": 14,
   "source": [
    "cbn.isna().sum()"
   ],
   "outputs": [
    {
     "output_type": "execute_result",
     "data": {
      "text/plain": [
       "country                     0\n",
       "2021_last_updated           0\n",
       "country_vaccinations        0\n",
       "people_fully_vaccinated    13\n",
       "dtype: int64"
      ]
     },
     "metadata": {},
     "execution_count": 14
    }
   ],
   "metadata": {
    "execution": {
     "iopub.execute_input": "2021-08-07T13:53:43.064804Z",
     "iopub.status.busy": "2021-08-07T13:53:43.064179Z",
     "iopub.status.idle": "2021-08-07T13:53:43.071509Z",
     "shell.execute_reply": "2021-08-07T13:53:43.070952Z",
     "shell.execute_reply.started": "2021-08-07T12:09:25.082770Z"
    },
    "papermill": {
     "duration": 0.056505,
     "end_time": "2021-08-07T13:53:43.071637",
     "exception": false,
     "start_time": "2021-08-07T13:53:43.015132",
     "status": "completed"
    },
    "tags": []
   }
  },
  {
   "cell_type": "markdown",
   "source": [
    "As we can see, there are 14 null values in the people_fully_vaccinated column. Therefore, I needed to drop all of it."
   ],
   "metadata": {
    "papermill": {
     "duration": 0.046758,
     "end_time": "2021-08-07T13:53:43.164971",
     "exception": false,
     "start_time": "2021-08-07T13:53:43.118213",
     "status": "completed"
    },
    "tags": []
   }
  },
  {
   "cell_type": "code",
   "execution_count": 15,
   "source": [
    "cbn = cbn.dropna()\r\n",
    "cbn = cbn.reset_index()\r\n",
    "cbn"
   ],
   "outputs": [
    {
     "output_type": "execute_result",
     "data": {
      "text/plain": [
       "     index    country 2021_last_updated country_vaccinations  \\\n",
       "0        1    Albania         2,872,370              Albania   \n",
       "1        2    Algeria        44,694,125              Algeria   \n",
       "2        3    Andorra            77,355              Andorra   \n",
       "3        4     Angola        34,043,709               Angola   \n",
       "4        5   Anguilla            15,117             Anguilla   \n",
       "..     ...        ...               ...                  ...   \n",
       "170    183  Venezuela        28,728,962            Venezuela   \n",
       "171    184    Vietnam        98,253,611              Vietnam   \n",
       "172    185      Yemen        30,558,838                Yemen   \n",
       "173    186     Zambia        18,975,907               Zambia   \n",
       "174    187   Zimbabwe        15,116,142             Zimbabwe   \n",
       "\n",
       "     people_fully_vaccinated  \n",
       "0                   545036.0  \n",
       "1                   724812.0  \n",
       "2                    33904.0  \n",
       "3                   710113.0  \n",
       "4                     8765.0  \n",
       "..                       ...  \n",
       "170                1100000.0  \n",
       "171                 888459.0  \n",
       "172                  13322.0  \n",
       "173                 188219.0  \n",
       "174                 863667.0  \n",
       "\n",
       "[175 rows x 5 columns]"
      ],
      "text/html": [
       "<div>\n",
       "<style scoped>\n",
       "    .dataframe tbody tr th:only-of-type {\n",
       "        vertical-align: middle;\n",
       "    }\n",
       "\n",
       "    .dataframe tbody tr th {\n",
       "        vertical-align: top;\n",
       "    }\n",
       "\n",
       "    .dataframe thead th {\n",
       "        text-align: right;\n",
       "    }\n",
       "</style>\n",
       "<table border=\"1\" class=\"dataframe\">\n",
       "  <thead>\n",
       "    <tr style=\"text-align: right;\">\n",
       "      <th></th>\n",
       "      <th>index</th>\n",
       "      <th>country</th>\n",
       "      <th>2021_last_updated</th>\n",
       "      <th>country_vaccinations</th>\n",
       "      <th>people_fully_vaccinated</th>\n",
       "    </tr>\n",
       "  </thead>\n",
       "  <tbody>\n",
       "    <tr>\n",
       "      <th>0</th>\n",
       "      <td>1</td>\n",
       "      <td>Albania</td>\n",
       "      <td>2,872,370</td>\n",
       "      <td>Albania</td>\n",
       "      <td>545036.0</td>\n",
       "    </tr>\n",
       "    <tr>\n",
       "      <th>1</th>\n",
       "      <td>2</td>\n",
       "      <td>Algeria</td>\n",
       "      <td>44,694,125</td>\n",
       "      <td>Algeria</td>\n",
       "      <td>724812.0</td>\n",
       "    </tr>\n",
       "    <tr>\n",
       "      <th>2</th>\n",
       "      <td>3</td>\n",
       "      <td>Andorra</td>\n",
       "      <td>77,355</td>\n",
       "      <td>Andorra</td>\n",
       "      <td>33904.0</td>\n",
       "    </tr>\n",
       "    <tr>\n",
       "      <th>3</th>\n",
       "      <td>4</td>\n",
       "      <td>Angola</td>\n",
       "      <td>34,043,709</td>\n",
       "      <td>Angola</td>\n",
       "      <td>710113.0</td>\n",
       "    </tr>\n",
       "    <tr>\n",
       "      <th>4</th>\n",
       "      <td>5</td>\n",
       "      <td>Anguilla</td>\n",
       "      <td>15,117</td>\n",
       "      <td>Anguilla</td>\n",
       "      <td>8765.0</td>\n",
       "    </tr>\n",
       "    <tr>\n",
       "      <th>...</th>\n",
       "      <td>...</td>\n",
       "      <td>...</td>\n",
       "      <td>...</td>\n",
       "      <td>...</td>\n",
       "      <td>...</td>\n",
       "    </tr>\n",
       "    <tr>\n",
       "      <th>170</th>\n",
       "      <td>183</td>\n",
       "      <td>Venezuela</td>\n",
       "      <td>28,728,962</td>\n",
       "      <td>Venezuela</td>\n",
       "      <td>1100000.0</td>\n",
       "    </tr>\n",
       "    <tr>\n",
       "      <th>171</th>\n",
       "      <td>184</td>\n",
       "      <td>Vietnam</td>\n",
       "      <td>98,253,611</td>\n",
       "      <td>Vietnam</td>\n",
       "      <td>888459.0</td>\n",
       "    </tr>\n",
       "    <tr>\n",
       "      <th>172</th>\n",
       "      <td>185</td>\n",
       "      <td>Yemen</td>\n",
       "      <td>30,558,838</td>\n",
       "      <td>Yemen</td>\n",
       "      <td>13322.0</td>\n",
       "    </tr>\n",
       "    <tr>\n",
       "      <th>173</th>\n",
       "      <td>186</td>\n",
       "      <td>Zambia</td>\n",
       "      <td>18,975,907</td>\n",
       "      <td>Zambia</td>\n",
       "      <td>188219.0</td>\n",
       "    </tr>\n",
       "    <tr>\n",
       "      <th>174</th>\n",
       "      <td>187</td>\n",
       "      <td>Zimbabwe</td>\n",
       "      <td>15,116,142</td>\n",
       "      <td>Zimbabwe</td>\n",
       "      <td>863667.0</td>\n",
       "    </tr>\n",
       "  </tbody>\n",
       "</table>\n",
       "<p>175 rows × 5 columns</p>\n",
       "</div>"
      ]
     },
     "metadata": {},
     "execution_count": 15
    }
   ],
   "metadata": {
    "execution": {
     "iopub.execute_input": "2021-08-07T13:53:43.261121Z",
     "iopub.status.busy": "2021-08-07T13:53:43.260509Z",
     "iopub.status.idle": "2021-08-07T13:53:43.278551Z",
     "shell.execute_reply": "2021-08-07T13:53:43.279019Z",
     "shell.execute_reply.started": "2021-08-07T12:09:25.152359Z"
    },
    "papermill": {
     "duration": 0.06772,
     "end_time": "2021-08-07T13:53:43.279184",
     "exception": false,
     "start_time": "2021-08-07T13:53:43.211464",
     "status": "completed"
    },
    "tags": []
   }
  },
  {
   "cell_type": "markdown",
   "source": [
    "One other important step when cleaning data is to check whether that targeted data is in the right type or not. In further calculation, I worked with values from 2021_last_updated and people_fully_vaccinated. Therefore, I had to make sure that they were in the same type."
   ],
   "metadata": {
    "papermill": {
     "duration": 0.046368,
     "end_time": "2021-08-07T13:53:43.373199",
     "exception": false,
     "start_time": "2021-08-07T13:53:43.326831",
     "status": "completed"
    },
    "tags": []
   }
  },
  {
   "cell_type": "code",
   "execution_count": 16,
   "source": [
    "# Check data types\r\n",
    "cbn.info()"
   ],
   "outputs": [
    {
     "output_type": "stream",
     "name": "stdout",
     "text": [
      "<class 'pandas.core.frame.DataFrame'>\n",
      "RangeIndex: 175 entries, 0 to 174\n",
      "Data columns (total 5 columns):\n",
      " #   Column                   Non-Null Count  Dtype  \n",
      "---  ------                   --------------  -----  \n",
      " 0   index                    175 non-null    int64  \n",
      " 1   country                  175 non-null    object \n",
      " 2   2021_last_updated        175 non-null    object \n",
      " 3   country_vaccinations     175 non-null    object \n",
      " 4   people_fully_vaccinated  175 non-null    float64\n",
      "dtypes: float64(1), int64(1), object(3)\n",
      "memory usage: 7.0+ KB\n"
     ]
    }
   ],
   "metadata": {
    "execution": {
     "iopub.execute_input": "2021-08-07T13:53:43.479774Z",
     "iopub.status.busy": "2021-08-07T13:53:43.479037Z",
     "iopub.status.idle": "2021-08-07T13:53:43.482210Z",
     "shell.execute_reply": "2021-08-07T13:53:43.482638Z",
     "shell.execute_reply.started": "2021-08-07T12:09:25.176369Z"
    },
    "papermill": {
     "duration": 0.062556,
     "end_time": "2021-08-07T13:53:43.482811",
     "exception": false,
     "start_time": "2021-08-07T13:53:43.420255",
     "status": "completed"
    },
    "tags": []
   }
  },
  {
   "cell_type": "markdown",
   "source": [
    "Since the data in 2021_last_updated column was not in the type I want, so I reformatted it."
   ],
   "metadata": {
    "papermill": {
     "duration": 0.046715,
     "end_time": "2021-08-07T13:53:43.576489",
     "exception": false,
     "start_time": "2021-08-07T13:53:43.529774",
     "status": "completed"
    },
    "tags": []
   }
  },
  {
   "cell_type": "code",
   "execution_count": 17,
   "source": [
    "# Reformat data type\r\n",
    "cbn.replace(',','', regex=True, inplace=True)\r\n",
    "cbn['2021_last_updated'] = cbn['2021_last_updated'].map(lambda x: float(x))\r\n",
    "cbn['people_fully_vaccinated'] = cbn['people_fully_vaccinated'].map(lambda x: float(x))\r\n",
    "cbn"
   ],
   "outputs": [
    {
     "output_type": "execute_result",
     "data": {
      "text/plain": [
       "     index    country  2021_last_updated country_vaccinations  \\\n",
       "0        1    Albania          2872370.0              Albania   \n",
       "1        2    Algeria         44694125.0              Algeria   \n",
       "2        3    Andorra            77355.0              Andorra   \n",
       "3        4     Angola         34043709.0               Angola   \n",
       "4        5   Anguilla            15117.0             Anguilla   \n",
       "..     ...        ...                ...                  ...   \n",
       "170    183  Venezuela         28728962.0            Venezuela   \n",
       "171    184    Vietnam         98253611.0              Vietnam   \n",
       "172    185      Yemen         30558838.0                Yemen   \n",
       "173    186     Zambia         18975907.0               Zambia   \n",
       "174    187   Zimbabwe         15116142.0             Zimbabwe   \n",
       "\n",
       "     people_fully_vaccinated  \n",
       "0                   545036.0  \n",
       "1                   724812.0  \n",
       "2                    33904.0  \n",
       "3                   710113.0  \n",
       "4                     8765.0  \n",
       "..                       ...  \n",
       "170                1100000.0  \n",
       "171                 888459.0  \n",
       "172                  13322.0  \n",
       "173                 188219.0  \n",
       "174                 863667.0  \n",
       "\n",
       "[175 rows x 5 columns]"
      ],
      "text/html": [
       "<div>\n",
       "<style scoped>\n",
       "    .dataframe tbody tr th:only-of-type {\n",
       "        vertical-align: middle;\n",
       "    }\n",
       "\n",
       "    .dataframe tbody tr th {\n",
       "        vertical-align: top;\n",
       "    }\n",
       "\n",
       "    .dataframe thead th {\n",
       "        text-align: right;\n",
       "    }\n",
       "</style>\n",
       "<table border=\"1\" class=\"dataframe\">\n",
       "  <thead>\n",
       "    <tr style=\"text-align: right;\">\n",
       "      <th></th>\n",
       "      <th>index</th>\n",
       "      <th>country</th>\n",
       "      <th>2021_last_updated</th>\n",
       "      <th>country_vaccinations</th>\n",
       "      <th>people_fully_vaccinated</th>\n",
       "    </tr>\n",
       "  </thead>\n",
       "  <tbody>\n",
       "    <tr>\n",
       "      <th>0</th>\n",
       "      <td>1</td>\n",
       "      <td>Albania</td>\n",
       "      <td>2872370.0</td>\n",
       "      <td>Albania</td>\n",
       "      <td>545036.0</td>\n",
       "    </tr>\n",
       "    <tr>\n",
       "      <th>1</th>\n",
       "      <td>2</td>\n",
       "      <td>Algeria</td>\n",
       "      <td>44694125.0</td>\n",
       "      <td>Algeria</td>\n",
       "      <td>724812.0</td>\n",
       "    </tr>\n",
       "    <tr>\n",
       "      <th>2</th>\n",
       "      <td>3</td>\n",
       "      <td>Andorra</td>\n",
       "      <td>77355.0</td>\n",
       "      <td>Andorra</td>\n",
       "      <td>33904.0</td>\n",
       "    </tr>\n",
       "    <tr>\n",
       "      <th>3</th>\n",
       "      <td>4</td>\n",
       "      <td>Angola</td>\n",
       "      <td>34043709.0</td>\n",
       "      <td>Angola</td>\n",
       "      <td>710113.0</td>\n",
       "    </tr>\n",
       "    <tr>\n",
       "      <th>4</th>\n",
       "      <td>5</td>\n",
       "      <td>Anguilla</td>\n",
       "      <td>15117.0</td>\n",
       "      <td>Anguilla</td>\n",
       "      <td>8765.0</td>\n",
       "    </tr>\n",
       "    <tr>\n",
       "      <th>...</th>\n",
       "      <td>...</td>\n",
       "      <td>...</td>\n",
       "      <td>...</td>\n",
       "      <td>...</td>\n",
       "      <td>...</td>\n",
       "    </tr>\n",
       "    <tr>\n",
       "      <th>170</th>\n",
       "      <td>183</td>\n",
       "      <td>Venezuela</td>\n",
       "      <td>28728962.0</td>\n",
       "      <td>Venezuela</td>\n",
       "      <td>1100000.0</td>\n",
       "    </tr>\n",
       "    <tr>\n",
       "      <th>171</th>\n",
       "      <td>184</td>\n",
       "      <td>Vietnam</td>\n",
       "      <td>98253611.0</td>\n",
       "      <td>Vietnam</td>\n",
       "      <td>888459.0</td>\n",
       "    </tr>\n",
       "    <tr>\n",
       "      <th>172</th>\n",
       "      <td>185</td>\n",
       "      <td>Yemen</td>\n",
       "      <td>30558838.0</td>\n",
       "      <td>Yemen</td>\n",
       "      <td>13322.0</td>\n",
       "    </tr>\n",
       "    <tr>\n",
       "      <th>173</th>\n",
       "      <td>186</td>\n",
       "      <td>Zambia</td>\n",
       "      <td>18975907.0</td>\n",
       "      <td>Zambia</td>\n",
       "      <td>188219.0</td>\n",
       "    </tr>\n",
       "    <tr>\n",
       "      <th>174</th>\n",
       "      <td>187</td>\n",
       "      <td>Zimbabwe</td>\n",
       "      <td>15116142.0</td>\n",
       "      <td>Zimbabwe</td>\n",
       "      <td>863667.0</td>\n",
       "    </tr>\n",
       "  </tbody>\n",
       "</table>\n",
       "<p>175 rows × 5 columns</p>\n",
       "</div>"
      ]
     },
     "metadata": {},
     "execution_count": 17
    }
   ],
   "metadata": {
    "execution": {
     "iopub.execute_input": "2021-08-07T13:53:43.673862Z",
     "iopub.status.busy": "2021-08-07T13:53:43.673246Z",
     "iopub.status.idle": "2021-08-07T13:53:43.693886Z",
     "shell.execute_reply": "2021-08-07T13:53:43.694322Z",
     "shell.execute_reply.started": "2021-08-07T12:09:25.344516Z"
    },
    "papermill": {
     "duration": 0.070603,
     "end_time": "2021-08-07T13:53:43.694484",
     "exception": false,
     "start_time": "2021-08-07T13:53:43.623881",
     "status": "completed"
    },
    "tags": []
   }
  },
  {
   "cell_type": "markdown",
   "source": [
    "So far so good. Then, I had to clean data once again to make sure that there was no weird value or logic. In this case, I would check whether there was any country with the number of fully vaccinated people was higher than the last updated population number."
   ],
   "metadata": {
    "papermill": {
     "duration": 0.04775,
     "end_time": "2021-08-07T13:53:43.790209",
     "exception": false,
     "start_time": "2021-08-07T13:53:43.742459",
     "status": "completed"
    },
    "tags": []
   }
  },
  {
   "cell_type": "code",
   "execution_count": 18,
   "source": [
    "# Check weird data\r\n",
    "cbn[cbn['2021_last_updated'] < cbn['people_fully_vaccinated']]"
   ],
   "outputs": [
    {
     "output_type": "execute_result",
     "data": {
      "text/plain": [
       "    index    country  2021_last_updated country_vaccinations  \\\n",
       "61     65  Gibraltar            33698.0            Gibraltar   \n",
       "\n",
       "    people_fully_vaccinated  \n",
       "61                  39119.0  "
      ],
      "text/html": [
       "<div>\n",
       "<style scoped>\n",
       "    .dataframe tbody tr th:only-of-type {\n",
       "        vertical-align: middle;\n",
       "    }\n",
       "\n",
       "    .dataframe tbody tr th {\n",
       "        vertical-align: top;\n",
       "    }\n",
       "\n",
       "    .dataframe thead th {\n",
       "        text-align: right;\n",
       "    }\n",
       "</style>\n",
       "<table border=\"1\" class=\"dataframe\">\n",
       "  <thead>\n",
       "    <tr style=\"text-align: right;\">\n",
       "      <th></th>\n",
       "      <th>index</th>\n",
       "      <th>country</th>\n",
       "      <th>2021_last_updated</th>\n",
       "      <th>country_vaccinations</th>\n",
       "      <th>people_fully_vaccinated</th>\n",
       "    </tr>\n",
       "  </thead>\n",
       "  <tbody>\n",
       "    <tr>\n",
       "      <th>61</th>\n",
       "      <td>65</td>\n",
       "      <td>Gibraltar</td>\n",
       "      <td>33698.0</td>\n",
       "      <td>Gibraltar</td>\n",
       "      <td>39119.0</td>\n",
       "    </tr>\n",
       "  </tbody>\n",
       "</table>\n",
       "</div>"
      ]
     },
     "metadata": {},
     "execution_count": 18
    }
   ],
   "metadata": {
    "execution": {
     "iopub.execute_input": "2021-08-07T13:53:43.898135Z",
     "iopub.status.busy": "2021-08-07T13:53:43.897178Z",
     "iopub.status.idle": "2021-08-07T13:53:43.901358Z",
     "shell.execute_reply": "2021-08-07T13:53:43.900818Z",
     "shell.execute_reply.started": "2021-08-07T12:09:25.525716Z"
    },
    "papermill": {
     "duration": 0.063656,
     "end_time": "2021-08-07T13:53:43.901485",
     "exception": false,
     "start_time": "2021-08-07T13:53:43.837829",
     "status": "completed"
    },
    "tags": []
   }
  },
  {
   "cell_type": "markdown",
   "source": [
    "Because I was using two independent datasets. Therefore, the updated data might not match for some country, Gibraltar for example. All I had to do was to remove this country."
   ],
   "metadata": {
    "papermill": {
     "duration": 0.048299,
     "end_time": "2021-08-07T13:53:43.997898",
     "exception": false,
     "start_time": "2021-08-07T13:53:43.949599",
     "status": "completed"
    },
    "tags": []
   }
  },
  {
   "cell_type": "code",
   "execution_count": 19,
   "source": [
    "# Remove weird data \r\n",
    "cbn = cbn.drop(index = [61])\r\n"
   ],
   "outputs": [],
   "metadata": {
    "execution": {
     "iopub.execute_input": "2021-08-07T13:53:44.100384Z",
     "iopub.status.busy": "2021-08-07T13:53:44.099680Z",
     "iopub.status.idle": "2021-08-07T13:53:44.101568Z",
     "shell.execute_reply": "2021-08-07T13:53:44.102084Z",
     "shell.execute_reply.started": "2021-08-07T12:09:25.540674Z"
    },
    "papermill": {
     "duration": 0.056228,
     "end_time": "2021-08-07T13:53:44.102254",
     "exception": false,
     "start_time": "2021-08-07T13:53:44.046026",
     "status": "completed"
    },
    "tags": []
   }
  },
  {
   "cell_type": "markdown",
   "source": [
    "Well, so I have pretty much done with our dataframes!\n",
    "\n",
    "Let's get started out EDA!"
   ],
   "metadata": {
    "papermill": {
     "duration": 0.047902,
     "end_time": "2021-08-07T13:53:44.199020",
     "exception": false,
     "start_time": "2021-08-07T13:53:44.151118",
     "status": "completed"
    },
    "tags": []
   }
  },
  {
   "cell_type": "markdown",
   "source": [
    "**III. Exploratory Data Analysis:**"
   ],
   "metadata": {
    "papermill": {
     "duration": 0.04801,
     "end_time": "2021-08-07T13:53:44.295362",
     "exception": false,
     "start_time": "2021-08-07T13:53:44.247352",
     "status": "completed"
    },
    "tags": []
   }
  },
  {
   "cell_type": "markdown",
   "source": [
    "Firstly, let's analyze the global country vaccinations data progress. Here, we have the following questions to answer:\n",
    "1. What are the top 5 biggest and smallest countries with vaccinations progress ?\n",
    "2. Which countries are outstanding vaccinations progress ?\n",
    "3. What is the global average vaccinations by month ?\n",
    "4. What vaccine is most common and least used ?\n",
    "5. What are the top 5 countries that are having the highest and lowest of fully vaccinated people per population ?\n"
   ],
   "metadata": {
    "papermill": {
     "duration": 0.048828,
     "end_time": "2021-08-07T13:53:44.392938",
     "exception": false,
     "start_time": "2021-08-07T13:53:44.344110",
     "status": "completed"
    },
    "tags": []
   }
  },
  {
   "cell_type": "markdown",
   "source": [
    "**3.1.1. What are the top 5 biggest countries with vaccinations progress ?**\r\n",
    "\r\n",
    "Here, I tried to find 5 countries with highest number of vaccinations. Since I saw that in total_vaccinations columns, the values are cummulative. Therefore, instead of using sum function, I used max function to take the lastest value. You can alsop use sum function but in this case, the column you work with is the daily_vaccinations."
   ],
   "metadata": {
    "papermill": {
     "duration": 0.048179,
     "end_time": "2021-08-07T13:53:44.489342",
     "exception": false,
     "start_time": "2021-08-07T13:53:44.441163",
     "status": "completed"
    },
    "tags": []
   }
  },
  {
   "cell_type": "code",
   "execution_count": 20,
   "source": [
    "#Five Highest Countries\r\n",
    "total = df.groupby('country')['total_vaccinations'].max().reset_index()\r\n",
    "fhc = total.sort_values('total_vaccinations', ascending=False).head(5)\r\n",
    "pd.set_option('display.float_format', lambda x: '%.0f'% x)\r\n",
    "fhc"
   ],
   "outputs": [
    {
     "output_type": "execute_result",
     "data": {
      "text/plain": [
       "           country  total_vaccinations\n",
       "40           China          1782525000\n",
       "90           India           508664759\n",
       "208  United States           351400930\n",
       "27          Brazil           152989038\n",
       "99           Japan            99651092"
      ],
      "text/html": [
       "<div>\n",
       "<style scoped>\n",
       "    .dataframe tbody tr th:only-of-type {\n",
       "        vertical-align: middle;\n",
       "    }\n",
       "\n",
       "    .dataframe tbody tr th {\n",
       "        vertical-align: top;\n",
       "    }\n",
       "\n",
       "    .dataframe thead th {\n",
       "        text-align: right;\n",
       "    }\n",
       "</style>\n",
       "<table border=\"1\" class=\"dataframe\">\n",
       "  <thead>\n",
       "    <tr style=\"text-align: right;\">\n",
       "      <th></th>\n",
       "      <th>country</th>\n",
       "      <th>total_vaccinations</th>\n",
       "    </tr>\n",
       "  </thead>\n",
       "  <tbody>\n",
       "    <tr>\n",
       "      <th>40</th>\n",
       "      <td>China</td>\n",
       "      <td>1782525000</td>\n",
       "    </tr>\n",
       "    <tr>\n",
       "      <th>90</th>\n",
       "      <td>India</td>\n",
       "      <td>508664759</td>\n",
       "    </tr>\n",
       "    <tr>\n",
       "      <th>208</th>\n",
       "      <td>United States</td>\n",
       "      <td>351400930</td>\n",
       "    </tr>\n",
       "    <tr>\n",
       "      <th>27</th>\n",
       "      <td>Brazil</td>\n",
       "      <td>152989038</td>\n",
       "    </tr>\n",
       "    <tr>\n",
       "      <th>99</th>\n",
       "      <td>Japan</td>\n",
       "      <td>99651092</td>\n",
       "    </tr>\n",
       "  </tbody>\n",
       "</table>\n",
       "</div>"
      ]
     },
     "metadata": {},
     "execution_count": 20
    }
   ],
   "metadata": {
    "execution": {
     "iopub.execute_input": "2021-08-07T13:53:44.589166Z",
     "iopub.status.busy": "2021-08-07T13:53:44.588460Z",
     "iopub.status.idle": "2021-08-07T13:53:44.607622Z",
     "shell.execute_reply": "2021-08-07T13:53:44.607031Z",
     "shell.execute_reply.started": "2021-08-07T12:09:25.703273Z"
    },
    "papermill": {
     "duration": 0.069817,
     "end_time": "2021-08-07T13:53:44.607801",
     "exception": false,
     "start_time": "2021-08-07T13:53:44.537984",
     "status": "completed"
    },
    "tags": []
   }
  },
  {
   "cell_type": "markdown",
   "source": [
    "Here, you can see that China, known as the first country that the COVID-19 pandemic occurred has the highest number of total vaccinations. Nearly 1.76 billions vaccine doses were used. It is reasonable because China has faced the pandemic for 2 years and they population is the highest in the world. The next 3 positions are for India, United States and Brazil. It is expected because these 3 countries have the highest number of cases."
   ],
   "metadata": {
    "papermill": {
     "duration": 0.04819,
     "end_time": "2021-08-07T13:53:44.705440",
     "exception": false,
     "start_time": "2021-08-07T13:53:44.657250",
     "status": "completed"
    },
    "tags": []
   }
  },
  {
   "cell_type": "code",
   "execution_count": 21,
   "source": [
    "fig = px.bar(fhc, \r\n",
    "             x='country', \r\n",
    "             y='total_vaccinations',\r\n",
    "             labels = {'country' : 'Country', 'total_vaccinations' : 'Total Vaccinations'},\r\n",
    "             title = \"Top 5 Countries With Biggest Vaccinations Progress\"\r\n",
    "            )\r\n",
    "fig.show()"
   ],
   "outputs": [],
   "metadata": {
    "execution": {
     "iopub.execute_input": "2021-08-07T13:53:44.807572Z",
     "iopub.status.busy": "2021-08-07T13:53:44.807007Z",
     "iopub.status.idle": "2021-08-07T13:53:45.895317Z",
     "shell.execute_reply": "2021-08-07T13:53:45.895703Z",
     "shell.execute_reply.started": "2021-08-07T12:09:25.872607Z"
    },
    "papermill": {
     "duration": 1.141879,
     "end_time": "2021-08-07T13:53:45.895891",
     "exception": false,
     "start_time": "2021-08-07T13:53:44.754012",
     "status": "completed"
    },
    "tags": []
   }
  },
  {
   "cell_type": "markdown",
   "source": [
    "Thanks to the graph, it is obviously that China is dominating in the number of vaccine used."
   ],
   "metadata": {
    "papermill": {
     "duration": 0.049433,
     "end_time": "2021-08-07T13:53:45.994716",
     "exception": false,
     "start_time": "2021-08-07T13:53:45.945283",
     "status": "completed"
    },
    "tags": []
   }
  },
  {
   "cell_type": "markdown",
   "source": [
    "**3.1.2. What are the top 5 smallest countries with vaccinations progress ?**\n",
    "\n",
    "Similarly, I try to find the top 5 countries with the least vaccinations progress. In this case, I do not put the asceding command.\n"
   ],
   "metadata": {
    "papermill": {
     "duration": 0.048795,
     "end_time": "2021-08-07T13:53:46.093254",
     "exception": false,
     "start_time": "2021-08-07T13:53:46.044459",
     "status": "completed"
    },
    "tags": []
   }
  },
  {
   "cell_type": "code",
   "execution_count": null,
   "source": [],
   "outputs": [],
   "metadata": {
    "papermill": {
     "duration": 0.048694,
     "end_time": "2021-08-07T13:53:46.190898",
     "exception": false,
     "start_time": "2021-08-07T13:53:46.142204",
     "status": "completed"
    },
    "tags": []
   }
  },
  {
   "cell_type": "code",
   "execution_count": null,
   "source": [
    "# Top 5 smallest countries with vaccinations progress\r\n",
    "flc = total.sort_values('total_vaccinations', ascending=False).tail(5)\r\n",
    "flc"
   ],
   "outputs": [
    {
     "output_type": "execute_result",
     "data": {
      "text/plain": [
       "              country  total_vaccinations\n",
       "203            Tuvalu                4772\n",
       "66   Falkland Islands                4407\n",
       "130        Montserrat                2791\n",
       "143              Niue                1216\n",
       "156          Pitcairn                  83"
      ],
      "text/html": [
       "<div>\n",
       "<style scoped>\n",
       "    .dataframe tbody tr th:only-of-type {\n",
       "        vertical-align: middle;\n",
       "    }\n",
       "\n",
       "    .dataframe tbody tr th {\n",
       "        vertical-align: top;\n",
       "    }\n",
       "\n",
       "    .dataframe thead th {\n",
       "        text-align: right;\n",
       "    }\n",
       "</style>\n",
       "<table border=\"1\" class=\"dataframe\">\n",
       "  <thead>\n",
       "    <tr style=\"text-align: right;\">\n",
       "      <th></th>\n",
       "      <th>country</th>\n",
       "      <th>total_vaccinations</th>\n",
       "    </tr>\n",
       "  </thead>\n",
       "  <tbody>\n",
       "    <tr>\n",
       "      <th>203</th>\n",
       "      <td>Tuvalu</td>\n",
       "      <td>4772</td>\n",
       "    </tr>\n",
       "    <tr>\n",
       "      <th>66</th>\n",
       "      <td>Falkland Islands</td>\n",
       "      <td>4407</td>\n",
       "    </tr>\n",
       "    <tr>\n",
       "      <th>130</th>\n",
       "      <td>Montserrat</td>\n",
       "      <td>2791</td>\n",
       "    </tr>\n",
       "    <tr>\n",
       "      <th>143</th>\n",
       "      <td>Niue</td>\n",
       "      <td>1216</td>\n",
       "    </tr>\n",
       "    <tr>\n",
       "      <th>156</th>\n",
       "      <td>Pitcairn</td>\n",
       "      <td>83</td>\n",
       "    </tr>\n",
       "  </tbody>\n",
       "</table>\n",
       "</div>"
      ]
     },
     "metadata": {},
     "execution_count": 22
    }
   ],
   "metadata": {
    "execution": {
     "iopub.execute_input": "2021-08-07T13:53:46.291486Z",
     "iopub.status.busy": "2021-08-07T13:53:46.290888Z",
     "iopub.status.idle": "2021-08-07T13:53:46.301315Z",
     "shell.execute_reply": "2021-08-07T13:53:46.301750Z",
     "shell.execute_reply.started": "2021-08-07T12:09:26.047488Z"
    },
    "papermill": {
     "duration": 0.062077,
     "end_time": "2021-08-07T13:53:46.301922",
     "exception": false,
     "start_time": "2021-08-07T13:53:46.239845",
     "status": "completed"
    },
    "tags": []
   }
  },
  {
   "cell_type": "markdown",
   "source": [
    "It is weird to see that there is a country with only 83 in total vaccinations. By searching for this country, I figured out that Pitcairn is an islands whose sorvereign state is United Kingdom and in 2021, it is estimated that the population here is only approximately 50 residents.\n"
   ],
   "metadata": {
    "papermill": {
     "duration": 0.049722,
     "end_time": "2021-08-07T13:53:46.401203",
     "exception": false,
     "start_time": "2021-08-07T13:53:46.351481",
     "status": "completed"
    },
    "tags": []
   }
  },
  {
   "cell_type": "code",
   "execution_count": null,
   "source": [
    "fig = px.bar(flc, \r\n",
    "             x='country', \r\n",
    "             y='total_vaccinations',\r\n",
    "             labels = {'country' : 'Country', 'total_vaccinations' : 'Total Vaccinations'},\r\n",
    "             title = \"Top 5 Countries With Lowest Vaccinations Progress\"\r\n",
    "            )\r\n",
    "fig.show()"
   ],
   "outputs": [
    {
     "output_type": "display_data",
     "data": {
      "application/vnd.plotly.v1+json": {
       "config": {
        "plotlyServerURL": "https://plot.ly"
       },
       "data": [
        {
         "alignmentgroup": "True",
         "hovertemplate": "Country=%{x}<br>Total Vaccinations=%{y}<extra></extra>",
         "legendgroup": "",
         "marker": {
          "color": "#636efa",
          "pattern": {
           "shape": ""
          }
         },
         "name": "",
         "offsetgroup": "",
         "orientation": "v",
         "showlegend": false,
         "textposition": "auto",
         "type": "bar",
         "x": [
          "Tuvalu",
          "Falkland Islands",
          "Montserrat",
          "Niue",
          "Pitcairn"
         ],
         "xaxis": "x",
         "y": [
          4772,
          4407,
          2791,
          1216,
          83
         ],
         "yaxis": "y"
        }
       ],
       "layout": {
        "barmode": "relative",
        "legend": {
         "tracegroupgap": 0
        },
        "template": {
         "data": {
          "bar": [
           {
            "error_x": {
             "color": "#2a3f5f"
            },
            "error_y": {
             "color": "#2a3f5f"
            },
            "marker": {
             "line": {
              "color": "#E5ECF6",
              "width": 0.5
             },
             "pattern": {
              "fillmode": "overlay",
              "size": 10,
              "solidity": 0.2
             }
            },
            "type": "bar"
           }
          ],
          "barpolar": [
           {
            "marker": {
             "line": {
              "color": "#E5ECF6",
              "width": 0.5
             },
             "pattern": {
              "fillmode": "overlay",
              "size": 10,
              "solidity": 0.2
             }
            },
            "type": "barpolar"
           }
          ],
          "carpet": [
           {
            "aaxis": {
             "endlinecolor": "#2a3f5f",
             "gridcolor": "white",
             "linecolor": "white",
             "minorgridcolor": "white",
             "startlinecolor": "#2a3f5f"
            },
            "baxis": {
             "endlinecolor": "#2a3f5f",
             "gridcolor": "white",
             "linecolor": "white",
             "minorgridcolor": "white",
             "startlinecolor": "#2a3f5f"
            },
            "type": "carpet"
           }
          ],
          "choropleth": [
           {
            "colorbar": {
             "outlinewidth": 0,
             "ticks": ""
            },
            "type": "choropleth"
           }
          ],
          "contour": [
           {
            "colorbar": {
             "outlinewidth": 0,
             "ticks": ""
            },
            "colorscale": [
             [
              0,
              "#0d0887"
             ],
             [
              0.1111111111111111,
              "#46039f"
             ],
             [
              0.2222222222222222,
              "#7201a8"
             ],
             [
              0.3333333333333333,
              "#9c179e"
             ],
             [
              0.4444444444444444,
              "#bd3786"
             ],
             [
              0.5555555555555556,
              "#d8576b"
             ],
             [
              0.6666666666666666,
              "#ed7953"
             ],
             [
              0.7777777777777778,
              "#fb9f3a"
             ],
             [
              0.8888888888888888,
              "#fdca26"
             ],
             [
              1,
              "#f0f921"
             ]
            ],
            "type": "contour"
           }
          ],
          "contourcarpet": [
           {
            "colorbar": {
             "outlinewidth": 0,
             "ticks": ""
            },
            "type": "contourcarpet"
           }
          ],
          "heatmap": [
           {
            "colorbar": {
             "outlinewidth": 0,
             "ticks": ""
            },
            "colorscale": [
             [
              0,
              "#0d0887"
             ],
             [
              0.1111111111111111,
              "#46039f"
             ],
             [
              0.2222222222222222,
              "#7201a8"
             ],
             [
              0.3333333333333333,
              "#9c179e"
             ],
             [
              0.4444444444444444,
              "#bd3786"
             ],
             [
              0.5555555555555556,
              "#d8576b"
             ],
             [
              0.6666666666666666,
              "#ed7953"
             ],
             [
              0.7777777777777778,
              "#fb9f3a"
             ],
             [
              0.8888888888888888,
              "#fdca26"
             ],
             [
              1,
              "#f0f921"
             ]
            ],
            "type": "heatmap"
           }
          ],
          "heatmapgl": [
           {
            "colorbar": {
             "outlinewidth": 0,
             "ticks": ""
            },
            "colorscale": [
             [
              0,
              "#0d0887"
             ],
             [
              0.1111111111111111,
              "#46039f"
             ],
             [
              0.2222222222222222,
              "#7201a8"
             ],
             [
              0.3333333333333333,
              "#9c179e"
             ],
             [
              0.4444444444444444,
              "#bd3786"
             ],
             [
              0.5555555555555556,
              "#d8576b"
             ],
             [
              0.6666666666666666,
              "#ed7953"
             ],
             [
              0.7777777777777778,
              "#fb9f3a"
             ],
             [
              0.8888888888888888,
              "#fdca26"
             ],
             [
              1,
              "#f0f921"
             ]
            ],
            "type": "heatmapgl"
           }
          ],
          "histogram": [
           {
            "marker": {
             "pattern": {
              "fillmode": "overlay",
              "size": 10,
              "solidity": 0.2
             }
            },
            "type": "histogram"
           }
          ],
          "histogram2d": [
           {
            "colorbar": {
             "outlinewidth": 0,
             "ticks": ""
            },
            "colorscale": [
             [
              0,
              "#0d0887"
             ],
             [
              0.1111111111111111,
              "#46039f"
             ],
             [
              0.2222222222222222,
              "#7201a8"
             ],
             [
              0.3333333333333333,
              "#9c179e"
             ],
             [
              0.4444444444444444,
              "#bd3786"
             ],
             [
              0.5555555555555556,
              "#d8576b"
             ],
             [
              0.6666666666666666,
              "#ed7953"
             ],
             [
              0.7777777777777778,
              "#fb9f3a"
             ],
             [
              0.8888888888888888,
              "#fdca26"
             ],
             [
              1,
              "#f0f921"
             ]
            ],
            "type": "histogram2d"
           }
          ],
          "histogram2dcontour": [
           {
            "colorbar": {
             "outlinewidth": 0,
             "ticks": ""
            },
            "colorscale": [
             [
              0,
              "#0d0887"
             ],
             [
              0.1111111111111111,
              "#46039f"
             ],
             [
              0.2222222222222222,
              "#7201a8"
             ],
             [
              0.3333333333333333,
              "#9c179e"
             ],
             [
              0.4444444444444444,
              "#bd3786"
             ],
             [
              0.5555555555555556,
              "#d8576b"
             ],
             [
              0.6666666666666666,
              "#ed7953"
             ],
             [
              0.7777777777777778,
              "#fb9f3a"
             ],
             [
              0.8888888888888888,
              "#fdca26"
             ],
             [
              1,
              "#f0f921"
             ]
            ],
            "type": "histogram2dcontour"
           }
          ],
          "mesh3d": [
           {
            "colorbar": {
             "outlinewidth": 0,
             "ticks": ""
            },
            "type": "mesh3d"
           }
          ],
          "parcoords": [
           {
            "line": {
             "colorbar": {
              "outlinewidth": 0,
              "ticks": ""
             }
            },
            "type": "parcoords"
           }
          ],
          "pie": [
           {
            "automargin": true,
            "type": "pie"
           }
          ],
          "scatter": [
           {
            "marker": {
             "colorbar": {
              "outlinewidth": 0,
              "ticks": ""
             }
            },
            "type": "scatter"
           }
          ],
          "scatter3d": [
           {
            "line": {
             "colorbar": {
              "outlinewidth": 0,
              "ticks": ""
             }
            },
            "marker": {
             "colorbar": {
              "outlinewidth": 0,
              "ticks": ""
             }
            },
            "type": "scatter3d"
           }
          ],
          "scattercarpet": [
           {
            "marker": {
             "colorbar": {
              "outlinewidth": 0,
              "ticks": ""
             }
            },
            "type": "scattercarpet"
           }
          ],
          "scattergeo": [
           {
            "marker": {
             "colorbar": {
              "outlinewidth": 0,
              "ticks": ""
             }
            },
            "type": "scattergeo"
           }
          ],
          "scattergl": [
           {
            "marker": {
             "colorbar": {
              "outlinewidth": 0,
              "ticks": ""
             }
            },
            "type": "scattergl"
           }
          ],
          "scattermapbox": [
           {
            "marker": {
             "colorbar": {
              "outlinewidth": 0,
              "ticks": ""
             }
            },
            "type": "scattermapbox"
           }
          ],
          "scatterpolar": [
           {
            "marker": {
             "colorbar": {
              "outlinewidth": 0,
              "ticks": ""
             }
            },
            "type": "scatterpolar"
           }
          ],
          "scatterpolargl": [
           {
            "marker": {
             "colorbar": {
              "outlinewidth": 0,
              "ticks": ""
             }
            },
            "type": "scatterpolargl"
           }
          ],
          "scatterternary": [
           {
            "marker": {
             "colorbar": {
              "outlinewidth": 0,
              "ticks": ""
             }
            },
            "type": "scatterternary"
           }
          ],
          "surface": [
           {
            "colorbar": {
             "outlinewidth": 0,
             "ticks": ""
            },
            "colorscale": [
             [
              0,
              "#0d0887"
             ],
             [
              0.1111111111111111,
              "#46039f"
             ],
             [
              0.2222222222222222,
              "#7201a8"
             ],
             [
              0.3333333333333333,
              "#9c179e"
             ],
             [
              0.4444444444444444,
              "#bd3786"
             ],
             [
              0.5555555555555556,
              "#d8576b"
             ],
             [
              0.6666666666666666,
              "#ed7953"
             ],
             [
              0.7777777777777778,
              "#fb9f3a"
             ],
             [
              0.8888888888888888,
              "#fdca26"
             ],
             [
              1,
              "#f0f921"
             ]
            ],
            "type": "surface"
           }
          ],
          "table": [
           {
            "cells": {
             "fill": {
              "color": "#EBF0F8"
             },
             "line": {
              "color": "white"
             }
            },
            "header": {
             "fill": {
              "color": "#C8D4E3"
             },
             "line": {
              "color": "white"
             }
            },
            "type": "table"
           }
          ]
         },
         "layout": {
          "annotationdefaults": {
           "arrowcolor": "#2a3f5f",
           "arrowhead": 0,
           "arrowwidth": 1
          },
          "autotypenumbers": "strict",
          "coloraxis": {
           "colorbar": {
            "outlinewidth": 0,
            "ticks": ""
           }
          },
          "colorscale": {
           "diverging": [
            [
             0,
             "#8e0152"
            ],
            [
             0.1,
             "#c51b7d"
            ],
            [
             0.2,
             "#de77ae"
            ],
            [
             0.3,
             "#f1b6da"
            ],
            [
             0.4,
             "#fde0ef"
            ],
            [
             0.5,
             "#f7f7f7"
            ],
            [
             0.6,
             "#e6f5d0"
            ],
            [
             0.7,
             "#b8e186"
            ],
            [
             0.8,
             "#7fbc41"
            ],
            [
             0.9,
             "#4d9221"
            ],
            [
             1,
             "#276419"
            ]
           ],
           "sequential": [
            [
             0,
             "#0d0887"
            ],
            [
             0.1111111111111111,
             "#46039f"
            ],
            [
             0.2222222222222222,
             "#7201a8"
            ],
            [
             0.3333333333333333,
             "#9c179e"
            ],
            [
             0.4444444444444444,
             "#bd3786"
            ],
            [
             0.5555555555555556,
             "#d8576b"
            ],
            [
             0.6666666666666666,
             "#ed7953"
            ],
            [
             0.7777777777777778,
             "#fb9f3a"
            ],
            [
             0.8888888888888888,
             "#fdca26"
            ],
            [
             1,
             "#f0f921"
            ]
           ],
           "sequentialminus": [
            [
             0,
             "#0d0887"
            ],
            [
             0.1111111111111111,
             "#46039f"
            ],
            [
             0.2222222222222222,
             "#7201a8"
            ],
            [
             0.3333333333333333,
             "#9c179e"
            ],
            [
             0.4444444444444444,
             "#bd3786"
            ],
            [
             0.5555555555555556,
             "#d8576b"
            ],
            [
             0.6666666666666666,
             "#ed7953"
            ],
            [
             0.7777777777777778,
             "#fb9f3a"
            ],
            [
             0.8888888888888888,
             "#fdca26"
            ],
            [
             1,
             "#f0f921"
            ]
           ]
          },
          "colorway": [
           "#636efa",
           "#EF553B",
           "#00cc96",
           "#ab63fa",
           "#FFA15A",
           "#19d3f3",
           "#FF6692",
           "#B6E880",
           "#FF97FF",
           "#FECB52"
          ],
          "font": {
           "color": "#2a3f5f"
          },
          "geo": {
           "bgcolor": "white",
           "lakecolor": "white",
           "landcolor": "#E5ECF6",
           "showlakes": true,
           "showland": true,
           "subunitcolor": "white"
          },
          "hoverlabel": {
           "align": "left"
          },
          "hovermode": "closest",
          "mapbox": {
           "style": "light"
          },
          "paper_bgcolor": "white",
          "plot_bgcolor": "#E5ECF6",
          "polar": {
           "angularaxis": {
            "gridcolor": "white",
            "linecolor": "white",
            "ticks": ""
           },
           "bgcolor": "#E5ECF6",
           "radialaxis": {
            "gridcolor": "white",
            "linecolor": "white",
            "ticks": ""
           }
          },
          "scene": {
           "xaxis": {
            "backgroundcolor": "#E5ECF6",
            "gridcolor": "white",
            "gridwidth": 2,
            "linecolor": "white",
            "showbackground": true,
            "ticks": "",
            "zerolinecolor": "white"
           },
           "yaxis": {
            "backgroundcolor": "#E5ECF6",
            "gridcolor": "white",
            "gridwidth": 2,
            "linecolor": "white",
            "showbackground": true,
            "ticks": "",
            "zerolinecolor": "white"
           },
           "zaxis": {
            "backgroundcolor": "#E5ECF6",
            "gridcolor": "white",
            "gridwidth": 2,
            "linecolor": "white",
            "showbackground": true,
            "ticks": "",
            "zerolinecolor": "white"
           }
          },
          "shapedefaults": {
           "line": {
            "color": "#2a3f5f"
           }
          },
          "ternary": {
           "aaxis": {
            "gridcolor": "white",
            "linecolor": "white",
            "ticks": ""
           },
           "baxis": {
            "gridcolor": "white",
            "linecolor": "white",
            "ticks": ""
           },
           "bgcolor": "#E5ECF6",
           "caxis": {
            "gridcolor": "white",
            "linecolor": "white",
            "ticks": ""
           }
          },
          "title": {
           "x": 0.05
          },
          "xaxis": {
           "automargin": true,
           "gridcolor": "white",
           "linecolor": "white",
           "ticks": "",
           "title": {
            "standoff": 15
           },
           "zerolinecolor": "white",
           "zerolinewidth": 2
          },
          "yaxis": {
           "automargin": true,
           "gridcolor": "white",
           "linecolor": "white",
           "ticks": "",
           "title": {
            "standoff": 15
           },
           "zerolinecolor": "white",
           "zerolinewidth": 2
          }
         }
        },
        "title": {
         "text": "Top 5 Countries With Lowest Vaccinations Progress"
        },
        "xaxis": {
         "anchor": "y",
         "domain": [
          0,
          1
         ],
         "title": {
          "text": "Country"
         }
        },
        "yaxis": {
         "anchor": "x",
         "domain": [
          0,
          1
         ],
         "title": {
          "text": "Total Vaccinations"
         }
        }
       }
      }
     },
     "metadata": {}
    }
   ],
   "metadata": {
    "execution": {
     "iopub.execute_input": "2021-08-07T13:53:46.543866Z",
     "iopub.status.busy": "2021-08-07T13:53:46.538681Z",
     "iopub.status.idle": "2021-08-07T13:53:46.558947Z",
     "shell.execute_reply": "2021-08-07T13:53:46.558432Z",
     "shell.execute_reply.started": "2021-08-07T12:09:26.219870Z"
    },
    "papermill": {
     "duration": 0.108205,
     "end_time": "2021-08-07T13:53:46.559086",
     "exception": false,
     "start_time": "2021-08-07T13:53:46.450881",
     "status": "completed"
    },
    "tags": []
   }
  },
  {
   "cell_type": "markdown",
   "source": [
    "**3.2. Which countries are outstanding vaccinations progress ?**"
   ],
   "metadata": {
    "papermill": {
     "duration": 0.049699,
     "end_time": "2021-08-07T13:53:46.659187",
     "exception": false,
     "start_time": "2021-08-07T13:53:46.609488",
     "status": "completed"
    },
    "tags": []
   }
  },
  {
   "cell_type": "markdown",
   "source": [
    "Seeing the number of vaccinations of top countries compared to bottom countries leads to a question that how many countries are there which are the outliers of the overall. Let's answer this questionn by finding the two types of the outliers."
   ],
   "metadata": {
    "papermill": {
     "duration": 0.049563,
     "end_time": "2021-08-07T13:53:46.758720",
     "exception": false,
     "start_time": "2021-08-07T13:53:46.709157",
     "status": "completed"
    },
    "tags": []
   }
  },
  {
   "cell_type": "code",
   "execution_count": null,
   "source": [
    "# Find the outliers which have far higher total vaccinations than the general status\r\n",
    "pd.set_option('display.float_format', lambda x: '%.0f'% x)\r\n",
    "tvc = total.sort_values('total_vaccinations', ascending=False)\r\n",
    "Q1 = tvc['total_vaccinations'].quantile(0.25)\r\n",
    "Q3 = tvc['total_vaccinations'].quantile(0.75)\r\n",
    "IQR = Q3 - Q1\r\n",
    "Upper = Q3 + 1.5*IQR\r\n",
    "Lower = Q1 - 1.5*IQR"
   ],
   "outputs": [],
   "metadata": {
    "execution": {
     "iopub.execute_input": "2021-08-07T13:53:46.866601Z",
     "iopub.status.busy": "2021-08-07T13:53:46.866021Z",
     "iopub.status.idle": "2021-08-07T13:53:46.872521Z",
     "shell.execute_reply": "2021-08-07T13:53:46.872064Z",
     "shell.execute_reply.started": "2021-08-07T12:09:26.293271Z"
    },
    "papermill": {
     "duration": 0.063363,
     "end_time": "2021-08-07T13:53:46.872661",
     "exception": false,
     "start_time": "2021-08-07T13:53:46.809298",
     "status": "completed"
    },
    "tags": []
   }
  },
  {
   "cell_type": "markdown",
   "source": [
    "This code help us find the quantile range. Now let's look for countries with higher vaccinations progress compared to the general status."
   ],
   "metadata": {
    "papermill": {
     "duration": 0.050564,
     "end_time": "2021-08-07T13:53:46.973968",
     "exception": false,
     "start_time": "2021-08-07T13:53:46.923404",
     "status": "completed"
    },
    "tags": []
   }
  },
  {
   "cell_type": "code",
   "execution_count": null,
   "source": [
    "tvc[(Lower > tvc['total_vaccinations']) | (tvc['total_vaccinations'] > Upper)].reset_index()"
   ],
   "outputs": [
    {
     "output_type": "execute_result",
     "data": {
      "text/plain": [
       "    index         country  total_vaccinations\n",
       "0      40           China          1782525000\n",
       "1      90           India           508664759\n",
       "2     208   United States           351400930\n",
       "3      27          Brazil           152989038\n",
       "4      99           Japan            99651092\n",
       "5      74         Germany            95010040\n",
       "6     207  United Kingdom            86466264\n",
       "7      69          France            76469330\n",
       "8     200          Turkey            76029390\n",
       "9      91       Indonesia            74275263\n",
       "10     60         England            72386948\n",
       "11    125          Mexico            72132661\n",
       "12     97           Italy            71703880\n",
       "13    161          Russia            66245526\n",
       "14    185           Spain            58542495\n",
       "15     34          Canada            50519645\n",
       "16    149        Pakistan            37424706\n",
       "17    157          Poland            34986764\n",
       "18      7       Argentina            34624926\n",
       "19     41        Colombia            30244618\n",
       "20    170    Saudi Arabia            29951707\n",
       "21    183     South Korea            27527266\n",
       "22    131         Morocco            25968795\n",
       "23     39           Chile            25688833\n",
       "24    119        Malaysia            24542437\n",
       "25    155     Philippines            23199187\n",
       "26    137     Netherlands            20825101\n",
       "27    194        Thailand            19632537"
      ],
      "text/html": [
       "<div>\n",
       "<style scoped>\n",
       "    .dataframe tbody tr th:only-of-type {\n",
       "        vertical-align: middle;\n",
       "    }\n",
       "\n",
       "    .dataframe tbody tr th {\n",
       "        vertical-align: top;\n",
       "    }\n",
       "\n",
       "    .dataframe thead th {\n",
       "        text-align: right;\n",
       "    }\n",
       "</style>\n",
       "<table border=\"1\" class=\"dataframe\">\n",
       "  <thead>\n",
       "    <tr style=\"text-align: right;\">\n",
       "      <th></th>\n",
       "      <th>index</th>\n",
       "      <th>country</th>\n",
       "      <th>total_vaccinations</th>\n",
       "    </tr>\n",
       "  </thead>\n",
       "  <tbody>\n",
       "    <tr>\n",
       "      <th>0</th>\n",
       "      <td>40</td>\n",
       "      <td>China</td>\n",
       "      <td>1782525000</td>\n",
       "    </tr>\n",
       "    <tr>\n",
       "      <th>1</th>\n",
       "      <td>90</td>\n",
       "      <td>India</td>\n",
       "      <td>508664759</td>\n",
       "    </tr>\n",
       "    <tr>\n",
       "      <th>2</th>\n",
       "      <td>208</td>\n",
       "      <td>United States</td>\n",
       "      <td>351400930</td>\n",
       "    </tr>\n",
       "    <tr>\n",
       "      <th>3</th>\n",
       "      <td>27</td>\n",
       "      <td>Brazil</td>\n",
       "      <td>152989038</td>\n",
       "    </tr>\n",
       "    <tr>\n",
       "      <th>4</th>\n",
       "      <td>99</td>\n",
       "      <td>Japan</td>\n",
       "      <td>99651092</td>\n",
       "    </tr>\n",
       "    <tr>\n",
       "      <th>5</th>\n",
       "      <td>74</td>\n",
       "      <td>Germany</td>\n",
       "      <td>95010040</td>\n",
       "    </tr>\n",
       "    <tr>\n",
       "      <th>6</th>\n",
       "      <td>207</td>\n",
       "      <td>United Kingdom</td>\n",
       "      <td>86466264</td>\n",
       "    </tr>\n",
       "    <tr>\n",
       "      <th>7</th>\n",
       "      <td>69</td>\n",
       "      <td>France</td>\n",
       "      <td>76469330</td>\n",
       "    </tr>\n",
       "    <tr>\n",
       "      <th>8</th>\n",
       "      <td>200</td>\n",
       "      <td>Turkey</td>\n",
       "      <td>76029390</td>\n",
       "    </tr>\n",
       "    <tr>\n",
       "      <th>9</th>\n",
       "      <td>91</td>\n",
       "      <td>Indonesia</td>\n",
       "      <td>74275263</td>\n",
       "    </tr>\n",
       "    <tr>\n",
       "      <th>10</th>\n",
       "      <td>60</td>\n",
       "      <td>England</td>\n",
       "      <td>72386948</td>\n",
       "    </tr>\n",
       "    <tr>\n",
       "      <th>11</th>\n",
       "      <td>125</td>\n",
       "      <td>Mexico</td>\n",
       "      <td>72132661</td>\n",
       "    </tr>\n",
       "    <tr>\n",
       "      <th>12</th>\n",
       "      <td>97</td>\n",
       "      <td>Italy</td>\n",
       "      <td>71703880</td>\n",
       "    </tr>\n",
       "    <tr>\n",
       "      <th>13</th>\n",
       "      <td>161</td>\n",
       "      <td>Russia</td>\n",
       "      <td>66245526</td>\n",
       "    </tr>\n",
       "    <tr>\n",
       "      <th>14</th>\n",
       "      <td>185</td>\n",
       "      <td>Spain</td>\n",
       "      <td>58542495</td>\n",
       "    </tr>\n",
       "    <tr>\n",
       "      <th>15</th>\n",
       "      <td>34</td>\n",
       "      <td>Canada</td>\n",
       "      <td>50519645</td>\n",
       "    </tr>\n",
       "    <tr>\n",
       "      <th>16</th>\n",
       "      <td>149</td>\n",
       "      <td>Pakistan</td>\n",
       "      <td>37424706</td>\n",
       "    </tr>\n",
       "    <tr>\n",
       "      <th>17</th>\n",
       "      <td>157</td>\n",
       "      <td>Poland</td>\n",
       "      <td>34986764</td>\n",
       "    </tr>\n",
       "    <tr>\n",
       "      <th>18</th>\n",
       "      <td>7</td>\n",
       "      <td>Argentina</td>\n",
       "      <td>34624926</td>\n",
       "    </tr>\n",
       "    <tr>\n",
       "      <th>19</th>\n",
       "      <td>41</td>\n",
       "      <td>Colombia</td>\n",
       "      <td>30244618</td>\n",
       "    </tr>\n",
       "    <tr>\n",
       "      <th>20</th>\n",
       "      <td>170</td>\n",
       "      <td>Saudi Arabia</td>\n",
       "      <td>29951707</td>\n",
       "    </tr>\n",
       "    <tr>\n",
       "      <th>21</th>\n",
       "      <td>183</td>\n",
       "      <td>South Korea</td>\n",
       "      <td>27527266</td>\n",
       "    </tr>\n",
       "    <tr>\n",
       "      <th>22</th>\n",
       "      <td>131</td>\n",
       "      <td>Morocco</td>\n",
       "      <td>25968795</td>\n",
       "    </tr>\n",
       "    <tr>\n",
       "      <th>23</th>\n",
       "      <td>39</td>\n",
       "      <td>Chile</td>\n",
       "      <td>25688833</td>\n",
       "    </tr>\n",
       "    <tr>\n",
       "      <th>24</th>\n",
       "      <td>119</td>\n",
       "      <td>Malaysia</td>\n",
       "      <td>24542437</td>\n",
       "    </tr>\n",
       "    <tr>\n",
       "      <th>25</th>\n",
       "      <td>155</td>\n",
       "      <td>Philippines</td>\n",
       "      <td>23199187</td>\n",
       "    </tr>\n",
       "    <tr>\n",
       "      <th>26</th>\n",
       "      <td>137</td>\n",
       "      <td>Netherlands</td>\n",
       "      <td>20825101</td>\n",
       "    </tr>\n",
       "    <tr>\n",
       "      <th>27</th>\n",
       "      <td>194</td>\n",
       "      <td>Thailand</td>\n",
       "      <td>19632537</td>\n",
       "    </tr>\n",
       "  </tbody>\n",
       "</table>\n",
       "</div>"
      ]
     },
     "metadata": {},
     "execution_count": 25
    }
   ],
   "metadata": {
    "execution": {
     "iopub.execute_input": "2021-08-07T13:53:47.095389Z",
     "iopub.status.busy": "2021-08-07T13:53:47.094536Z",
     "iopub.status.idle": "2021-08-07T13:53:47.100983Z",
     "shell.execute_reply": "2021-08-07T13:53:47.100184Z",
     "shell.execute_reply.started": "2021-08-07T12:09:26.387566Z"
    },
    "papermill": {
     "duration": 0.07673,
     "end_time": "2021-08-07T13:53:47.101131",
     "exception": false,
     "start_time": "2021-08-07T13:53:47.024401",
     "status": "completed"
    },
    "tags": []
   }
  },
  {
   "cell_type": "markdown",
   "source": [
    "This table shows us that there are 29 outstanding countries. It can be explained that almost all of the countries in this table have had to face severe pandemic and they are developed countries. Therefore, they are leading in the vaccinnationns progress. However, there is also a hug difference between the top country (China) from the bottom country (Thailand). While China has used more than 1.6 billions doses, the number of Thailand is only 15.9 million doses."
   ],
   "metadata": {
    "papermill": {
     "duration": 0.050402,
     "end_time": "2021-08-07T13:53:47.203713",
     "exception": false,
     "start_time": "2021-08-07T13:53:47.153311",
     "status": "completed"
    },
    "tags": []
   }
  },
  {
   "cell_type": "markdown",
   "source": [
    "Using violinplot provided a clearer view of the distribution."
   ],
   "metadata": {
    "papermill": {
     "duration": 0.051079,
     "end_time": "2021-08-07T13:53:47.306522",
     "exception": false,
     "start_time": "2021-08-07T13:53:47.255443",
     "status": "completed"
    },
    "tags": []
   }
  },
  {
   "cell_type": "code",
   "execution_count": null,
   "source": [
    "plt.figure(figsize=(20,10))\r\n",
    "plt.suptitle(\"Distribution of Global Vaccinations Progress\")\r\n",
    "sns.violinplot(data = total,\r\n",
    "            x = 'total_vaccinations',\r\n",
    "              showmedians=True,\r\n",
    "              showmeans=True)\r\n",
    "plt.show()"
   ],
   "outputs": [
    {
     "output_type": "display_data",
     "data": {
      "text/plain": [
       "<Figure size 1440x720 with 1 Axes>"
      ],
      "image/svg+xml": "<?xml version=\"1.0\" encoding=\"utf-8\" standalone=\"no\"?>\r\n<!DOCTYPE svg PUBLIC \"-//W3C//DTD SVG 1.1//EN\"\r\n  \"http://www.w3.org/Graphics/SVG/1.1/DTD/svg11.dtd\">\r\n<svg height=\"660.634375pt\" version=\"1.1\" viewBox=\"0 0 1133.9 660.634375\" width=\"1133.9pt\" xmlns=\"http://www.w3.org/2000/svg\" xmlns:xlink=\"http://www.w3.org/1999/xlink\">\r\n <metadata>\r\n  <rdf:RDF xmlns:cc=\"http://creativecommons.org/ns#\" xmlns:dc=\"http://purl.org/dc/elements/1.1/\" xmlns:rdf=\"http://www.w3.org/1999/02/22-rdf-syntax-ns#\">\r\n   <cc:Work>\r\n    <dc:type rdf:resource=\"http://purl.org/dc/dcmitype/StillImage\"/>\r\n    <dc:date>2021-08-14T18:27:48.977344</dc:date>\r\n    <dc:format>image/svg+xml</dc:format>\r\n    <dc:creator>\r\n     <cc:Agent>\r\n      <dc:title>Matplotlib v3.4.2, https://matplotlib.org/</dc:title>\r\n     </cc:Agent>\r\n    </dc:creator>\r\n   </cc:Work>\r\n  </rdf:RDF>\r\n </metadata>\r\n <defs>\r\n  <style type=\"text/css\">*{stroke-linecap:butt;stroke-linejoin:round;}</style>\r\n </defs>\r\n <g id=\"figure_1\">\r\n  <g id=\"patch_1\">\r\n   <path d=\"M 0 660.634375 \r\nL 1133.9 660.634375 \r\nL 1133.9 0 \r\nL 0 0 \r\nz\r\n\" style=\"fill:none;\"/>\r\n  </g>\r\n  <g id=\"axes_1\">\r\n   <g id=\"patch_2\">\r\n    <path d=\"M 10.7 622.8 \r\nL 1126.7 622.8 \r\nL 1126.7 79.2 \r\nL 10.7 79.2 \r\nz\r\n\" style=\"fill:#ffffff;\"/>\r\n   </g>\r\n   <g id=\"PolyCollection_1\">\r\n    <defs>\r\n     <path d=\"M 61.427273 -284.300683 \r\nL 61.427273 -334.968067 \r\nL 71.675207 -367.82939 \r\nL 81.92314 -418.814153 \r\nL 92.171074 -477.117467 \r\nL 102.419008 -520.11482 \r\nL 112.666942 -527.074375 \r\nL 122.914876 -495.430879 \r\nL 133.16281 -442.44801 \r\nL 143.410744 -390.695771 \r\nL 153.658678 -353.330167 \r\nL 163.906612 -331.454561 \r\nL 174.154545 -320.261059 \r\nL 184.402479 -314.867774 \r\nL 194.650413 -312.263274 \r\nL 204.898347 -310.954784 \r\nL 215.146281 -310.272702 \r\nL 225.394215 -309.930973 \r\nL 235.642149 -309.806263 \r\nL 245.890083 -309.845134 \r\nL 256.138017 -310.022261 \r\nL 266.38595 -310.295327 \r\nL 276.633884 -310.567461 \r\nL 286.881818 -310.709743 \r\nL 297.129752 -310.647122 \r\nL 307.377686 -310.425127 \r\nL 317.62562 -310.18266 \r\nL 327.873554 -310.060025 \r\nL 338.121488 -310.123717 \r\nL 348.369421 -310.339585 \r\nL 358.617355 -310.585791 \r\nL 368.865289 -310.712127 \r\nL 379.113223 -310.634319 \r\nL 389.361157 -310.390462 \r\nL 399.609091 -310.099835 \r\nL 409.857025 -309.867627 \r\nL 420.104959 -309.72952 \r\nL 430.352893 -309.665966 \r\nL 440.600826 -309.642913 \r\nL 450.84876 -309.636253 \r\nL 461.096694 -309.634711 \r\nL 471.344628 -309.634424 \r\nL 481.592562 -309.634381 \r\nL 491.840496 -309.634376 \r\nL 502.08843 -309.634375 \r\nL 512.336364 -309.634375 \r\nL 522.584298 -309.634375 \r\nL 532.832231 -309.634375 \r\nL 543.080165 -309.634375 \r\nL 553.328099 -309.634375 \r\nL 563.576033 -309.634375 \r\nL 573.823967 -309.634375 \r\nL 584.071901 -309.634375 \r\nL 594.319835 -309.634375 \r\nL 604.567769 -309.634375 \r\nL 614.815702 -309.634375 \r\nL 625.063636 -309.634375 \r\nL 635.31157 -309.634375 \r\nL 645.559504 -309.634375 \r\nL 655.807438 -309.634375 \r\nL 666.055372 -309.634375 \r\nL 676.303306 -309.634375 \r\nL 686.55124 -309.634375 \r\nL 696.799174 -309.634375 \r\nL 707.047107 -309.634375 \r\nL 717.295041 -309.634375 \r\nL 727.542975 -309.634375 \r\nL 737.790909 -309.634375 \r\nL 748.038843 -309.634375 \r\nL 758.286777 -309.634375 \r\nL 768.534711 -309.634375 \r\nL 778.782645 -309.634375 \r\nL 789.030579 -309.634375 \r\nL 799.278512 -309.634375 \r\nL 809.526446 -309.634375 \r\nL 819.77438 -309.634375 \r\nL 830.022314 -309.634375 \r\nL 840.270248 -309.634375 \r\nL 850.518182 -309.634375 \r\nL 860.766116 -309.634375 \r\nL 871.01405 -309.634375 \r\nL 881.261983 -309.634375 \r\nL 891.509917 -309.634375 \r\nL 901.757851 -309.634375 \r\nL 912.005785 -309.634376 \r\nL 922.253719 -309.634385 \r\nL 932.501653 -309.634458 \r\nL 942.749587 -309.634916 \r\nL 952.997521 -309.637238 \r\nL 963.245455 -309.646698 \r\nL 973.493388 -309.67755 \r\nL 983.741322 -309.757503 \r\nL 993.989256 -309.920197 \r\nL 1004.23719 -310.17444 \r\nL 1014.485124 -310.465005 \r\nL 1024.733058 -310.674252 \r\nL 1034.980992 -310.694039 \r\nL 1045.228926 -310.51333 \r\nL 1055.47686 -310.227815 \r\nL 1065.724793 -309.960512 \r\nL 1075.972727 -309.780268 \r\nL 1075.972727 -309.488482 \r\nL 1075.972727 -309.488482 \r\nL 1065.724793 -309.308238 \r\nL 1055.47686 -309.040935 \r\nL 1045.228926 -308.75542 \r\nL 1034.980992 -308.574711 \r\nL 1024.733058 -308.594498 \r\nL 1014.485124 -308.803745 \r\nL 1004.23719 -309.09431 \r\nL 993.989256 -309.348553 \r\nL 983.741322 -309.511247 \r\nL 973.493388 -309.5912 \r\nL 963.245455 -309.622052 \r\nL 952.997521 -309.631512 \r\nL 942.749587 -309.633834 \r\nL 932.501653 -309.634292 \r\nL 922.253719 -309.634365 \r\nL 912.005785 -309.634374 \r\nL 901.757851 -309.634375 \r\nL 891.509917 -309.634375 \r\nL 881.261983 -309.634375 \r\nL 871.01405 -309.634375 \r\nL 860.766116 -309.634375 \r\nL 850.518182 -309.634375 \r\nL 840.270248 -309.634375 \r\nL 830.022314 -309.634375 \r\nL 819.77438 -309.634375 \r\nL 809.526446 -309.634375 \r\nL 799.278512 -309.634375 \r\nL 789.030579 -309.634375 \r\nL 778.782645 -309.634375 \r\nL 768.534711 -309.634375 \r\nL 758.286777 -309.634375 \r\nL 748.038843 -309.634375 \r\nL 737.790909 -309.634375 \r\nL 727.542975 -309.634375 \r\nL 717.295041 -309.634375 \r\nL 707.047107 -309.634375 \r\nL 696.799174 -309.634375 \r\nL 686.55124 -309.634375 \r\nL 676.303306 -309.634375 \r\nL 666.055372 -309.634375 \r\nL 655.807438 -309.634375 \r\nL 645.559504 -309.634375 \r\nL 635.31157 -309.634375 \r\nL 625.063636 -309.634375 \r\nL 614.815702 -309.634375 \r\nL 604.567769 -309.634375 \r\nL 594.319835 -309.634375 \r\nL 584.071901 -309.634375 \r\nL 573.823967 -309.634375 \r\nL 563.576033 -309.634375 \r\nL 553.328099 -309.634375 \r\nL 543.080165 -309.634375 \r\nL 532.832231 -309.634375 \r\nL 522.584298 -309.634375 \r\nL 512.336364 -309.634375 \r\nL 502.08843 -309.634375 \r\nL 491.840496 -309.634374 \r\nL 481.592562 -309.634369 \r\nL 471.344628 -309.634326 \r\nL 461.096694 -309.634039 \r\nL 450.84876 -309.632497 \r\nL 440.600826 -309.625837 \r\nL 430.352893 -309.602784 \r\nL 420.104959 -309.53923 \r\nL 409.857025 -309.401123 \r\nL 399.609091 -309.168915 \r\nL 389.361157 -308.878288 \r\nL 379.113223 -308.634431 \r\nL 368.865289 -308.556623 \r\nL 358.617355 -308.682959 \r\nL 348.369421 -308.929165 \r\nL 338.121488 -309.145033 \r\nL 327.873554 -309.208725 \r\nL 317.62562 -309.08609 \r\nL 307.377686 -308.843623 \r\nL 297.129752 -308.621628 \r\nL 286.881818 -308.559007 \r\nL 276.633884 -308.701289 \r\nL 266.38595 -308.973423 \r\nL 256.138017 -309.246489 \r\nL 245.890083 -309.423616 \r\nL 235.642149 -309.462487 \r\nL 225.394215 -309.337777 \r\nL 215.146281 -308.996048 \r\nL 204.898347 -308.313966 \r\nL 194.650413 -307.005476 \r\nL 184.402479 -304.400976 \r\nL 174.154545 -299.007691 \r\nL 163.906612 -287.814189 \r\nL 153.658678 -265.938583 \r\nL 143.410744 -228.572979 \r\nL 133.16281 -176.82074 \r\nL 122.914876 -123.837871 \r\nL 112.666942 -92.194375 \r\nL 102.419008 -99.15393 \r\nL 92.171074 -142.151283 \r\nL 81.92314 -200.454597 \r\nL 71.675207 -251.43936 \r\nL 61.427273 -284.300683 \r\nz\r\n\" id=\"mc67a4907e8\" style=\"stroke:#3f3f3f;stroke-width:1.5;\"/>\r\n    </defs>\r\n    <g clip-path=\"url(#p4601a91c29)\">\r\n     <use style=\"fill:#3274a1;stroke:#3f3f3f;stroke-width:1.5;\" x=\"0\" xlink:href=\"#mc67a4907e8\" y=\"660.634375\"/>\r\n    </g>\r\n   </g>\r\n   <g id=\"matplotlib.axis_1\">\r\n    <g id=\"xtick_1\">\r\n     <g id=\"line2d_1\">\r\n      <defs>\r\n       <path d=\"M 0 0 \r\nL 0 3.5 \r\n\" id=\"m9293ab7a6a\" style=\"stroke:#000000;stroke-width:0.8;\"/>\r\n      </defs>\r\n      <g>\r\n       <use style=\"stroke:#000000;stroke-width:0.8;\" x=\"106.604414\" xlink:href=\"#m9293ab7a6a\" y=\"622.8\"/>\r\n      </g>\r\n     </g>\r\n     <g id=\"text_1\">\r\n      <!-- 0.00 -->\r\n      <g transform=\"translate(95.471602 637.398438)scale(0.1 -0.1)\">\r\n       <defs>\r\n        <path d=\"M 2034 4250 \r\nQ 1547 4250 1301 3770 \r\nQ 1056 3291 1056 2328 \r\nQ 1056 1369 1301 889 \r\nQ 1547 409 2034 409 \r\nQ 2525 409 2770 889 \r\nQ 3016 1369 3016 2328 \r\nQ 3016 3291 2770 3770 \r\nQ 2525 4250 2034 4250 \r\nz\r\nM 2034 4750 \r\nQ 2819 4750 3233 4129 \r\nQ 3647 3509 3647 2328 \r\nQ 3647 1150 3233 529 \r\nQ 2819 -91 2034 -91 \r\nQ 1250 -91 836 529 \r\nQ 422 1150 422 2328 \r\nQ 422 3509 836 4129 \r\nQ 1250 4750 2034 4750 \r\nz\r\n\" id=\"DejaVuSans-30\" transform=\"scale(0.015625)\"/>\r\n        <path d=\"M 684 794 \r\nL 1344 794 \r\nL 1344 0 \r\nL 684 0 \r\nL 684 794 \r\nz\r\n\" id=\"DejaVuSans-2e\" transform=\"scale(0.015625)\"/>\r\n       </defs>\r\n       <use xlink:href=\"#DejaVuSans-30\"/>\r\n       <use x=\"63.623047\" xlink:href=\"#DejaVuSans-2e\"/>\r\n       <use x=\"95.410156\" xlink:href=\"#DejaVuSans-30\"/>\r\n       <use x=\"159.033203\" xlink:href=\"#DejaVuSans-30\"/>\r\n      </g>\r\n     </g>\r\n    </g>\r\n    <g id=\"xtick_2\">\r\n     <g id=\"line2d_2\">\r\n      <g>\r\n       <use style=\"stroke:#000000;stroke-width:0.8;\" x=\"236.22267\" xlink:href=\"#m9293ab7a6a\" y=\"622.8\"/>\r\n      </g>\r\n     </g>\r\n     <g id=\"text_2\">\r\n      <!-- 0.25 -->\r\n      <g transform=\"translate(225.089858 637.398438)scale(0.1 -0.1)\">\r\n       <defs>\r\n        <path d=\"M 1228 531 \r\nL 3431 531 \r\nL 3431 0 \r\nL 469 0 \r\nL 469 531 \r\nQ 828 903 1448 1529 \r\nQ 2069 2156 2228 2338 \r\nQ 2531 2678 2651 2914 \r\nQ 2772 3150 2772 3378 \r\nQ 2772 3750 2511 3984 \r\nQ 2250 4219 1831 4219 \r\nQ 1534 4219 1204 4116 \r\nQ 875 4013 500 3803 \r\nL 500 4441 \r\nQ 881 4594 1212 4672 \r\nQ 1544 4750 1819 4750 \r\nQ 2544 4750 2975 4387 \r\nQ 3406 4025 3406 3419 \r\nQ 3406 3131 3298 2873 \r\nQ 3191 2616 2906 2266 \r\nQ 2828 2175 2409 1742 \r\nQ 1991 1309 1228 531 \r\nz\r\n\" id=\"DejaVuSans-32\" transform=\"scale(0.015625)\"/>\r\n        <path d=\"M 691 4666 \r\nL 3169 4666 \r\nL 3169 4134 \r\nL 1269 4134 \r\nL 1269 2991 \r\nQ 1406 3038 1543 3061 \r\nQ 1681 3084 1819 3084 \r\nQ 2600 3084 3056 2656 \r\nQ 3513 2228 3513 1497 \r\nQ 3513 744 3044 326 \r\nQ 2575 -91 1722 -91 \r\nQ 1428 -91 1123 -41 \r\nQ 819 9 494 109 \r\nL 494 744 \r\nQ 775 591 1075 516 \r\nQ 1375 441 1709 441 \r\nQ 2250 441 2565 725 \r\nQ 2881 1009 2881 1497 \r\nQ 2881 1984 2565 2268 \r\nQ 2250 2553 1709 2553 \r\nQ 1456 2553 1204 2497 \r\nQ 953 2441 691 2322 \r\nL 691 4666 \r\nz\r\n\" id=\"DejaVuSans-35\" transform=\"scale(0.015625)\"/>\r\n       </defs>\r\n       <use xlink:href=\"#DejaVuSans-30\"/>\r\n       <use x=\"63.623047\" xlink:href=\"#DejaVuSans-2e\"/>\r\n       <use x=\"95.410156\" xlink:href=\"#DejaVuSans-32\"/>\r\n       <use x=\"159.033203\" xlink:href=\"#DejaVuSans-35\"/>\r\n      </g>\r\n     </g>\r\n    </g>\r\n    <g id=\"xtick_3\">\r\n     <g id=\"line2d_3\">\r\n      <g>\r\n       <use style=\"stroke:#000000;stroke-width:0.8;\" x=\"365.840927\" xlink:href=\"#m9293ab7a6a\" y=\"622.8\"/>\r\n      </g>\r\n     </g>\r\n     <g id=\"text_3\">\r\n      <!-- 0.50 -->\r\n      <g transform=\"translate(354.708114 637.398438)scale(0.1 -0.1)\">\r\n       <use xlink:href=\"#DejaVuSans-30\"/>\r\n       <use x=\"63.623047\" xlink:href=\"#DejaVuSans-2e\"/>\r\n       <use x=\"95.410156\" xlink:href=\"#DejaVuSans-35\"/>\r\n       <use x=\"159.033203\" xlink:href=\"#DejaVuSans-30\"/>\r\n      </g>\r\n     </g>\r\n    </g>\r\n    <g id=\"xtick_4\">\r\n     <g id=\"line2d_4\">\r\n      <g>\r\n       <use style=\"stroke:#000000;stroke-width:0.8;\" x=\"495.459183\" xlink:href=\"#m9293ab7a6a\" y=\"622.8\"/>\r\n      </g>\r\n     </g>\r\n     <g id=\"text_4\">\r\n      <!-- 0.75 -->\r\n      <g transform=\"translate(484.32637 637.398438)scale(0.1 -0.1)\">\r\n       <defs>\r\n        <path d=\"M 525 4666 \r\nL 3525 4666 \r\nL 3525 4397 \r\nL 1831 0 \r\nL 1172 0 \r\nL 2766 4134 \r\nL 525 4134 \r\nL 525 4666 \r\nz\r\n\" id=\"DejaVuSans-37\" transform=\"scale(0.015625)\"/>\r\n       </defs>\r\n       <use xlink:href=\"#DejaVuSans-30\"/>\r\n       <use x=\"63.623047\" xlink:href=\"#DejaVuSans-2e\"/>\r\n       <use x=\"95.410156\" xlink:href=\"#DejaVuSans-37\"/>\r\n       <use x=\"159.033203\" xlink:href=\"#DejaVuSans-35\"/>\r\n      </g>\r\n     </g>\r\n    </g>\r\n    <g id=\"xtick_5\">\r\n     <g id=\"line2d_5\">\r\n      <g>\r\n       <use style=\"stroke:#000000;stroke-width:0.8;\" x=\"625.077439\" xlink:href=\"#m9293ab7a6a\" y=\"622.8\"/>\r\n      </g>\r\n     </g>\r\n     <g id=\"text_5\">\r\n      <!-- 1.00 -->\r\n      <g transform=\"translate(613.944627 637.398438)scale(0.1 -0.1)\">\r\n       <defs>\r\n        <path d=\"M 794 531 \r\nL 1825 531 \r\nL 1825 4091 \r\nL 703 3866 \r\nL 703 4441 \r\nL 1819 4666 \r\nL 2450 4666 \r\nL 2450 531 \r\nL 3481 531 \r\nL 3481 0 \r\nL 794 0 \r\nL 794 531 \r\nz\r\n\" id=\"DejaVuSans-31\" transform=\"scale(0.015625)\"/>\r\n       </defs>\r\n       <use xlink:href=\"#DejaVuSans-31\"/>\r\n       <use x=\"63.623047\" xlink:href=\"#DejaVuSans-2e\"/>\r\n       <use x=\"95.410156\" xlink:href=\"#DejaVuSans-30\"/>\r\n       <use x=\"159.033203\" xlink:href=\"#DejaVuSans-30\"/>\r\n      </g>\r\n     </g>\r\n    </g>\r\n    <g id=\"xtick_6\">\r\n     <g id=\"line2d_6\">\r\n      <g>\r\n       <use style=\"stroke:#000000;stroke-width:0.8;\" x=\"754.695695\" xlink:href=\"#m9293ab7a6a\" y=\"622.8\"/>\r\n      </g>\r\n     </g>\r\n     <g id=\"text_6\">\r\n      <!-- 1.25 -->\r\n      <g transform=\"translate(743.562883 637.398438)scale(0.1 -0.1)\">\r\n       <use xlink:href=\"#DejaVuSans-31\"/>\r\n       <use x=\"63.623047\" xlink:href=\"#DejaVuSans-2e\"/>\r\n       <use x=\"95.410156\" xlink:href=\"#DejaVuSans-32\"/>\r\n       <use x=\"159.033203\" xlink:href=\"#DejaVuSans-35\"/>\r\n      </g>\r\n     </g>\r\n    </g>\r\n    <g id=\"xtick_7\">\r\n     <g id=\"line2d_7\">\r\n      <g>\r\n       <use style=\"stroke:#000000;stroke-width:0.8;\" x=\"884.313951\" xlink:href=\"#m9293ab7a6a\" y=\"622.8\"/>\r\n      </g>\r\n     </g>\r\n     <g id=\"text_7\">\r\n      <!-- 1.50 -->\r\n      <g transform=\"translate(873.181139 637.398438)scale(0.1 -0.1)\">\r\n       <use xlink:href=\"#DejaVuSans-31\"/>\r\n       <use x=\"63.623047\" xlink:href=\"#DejaVuSans-2e\"/>\r\n       <use x=\"95.410156\" xlink:href=\"#DejaVuSans-35\"/>\r\n       <use x=\"159.033203\" xlink:href=\"#DejaVuSans-30\"/>\r\n      </g>\r\n     </g>\r\n    </g>\r\n    <g id=\"xtick_8\">\r\n     <g id=\"line2d_8\">\r\n      <g>\r\n       <use style=\"stroke:#000000;stroke-width:0.8;\" x=\"1013.932208\" xlink:href=\"#m9293ab7a6a\" y=\"622.8\"/>\r\n      </g>\r\n     </g>\r\n     <g id=\"text_8\">\r\n      <!-- 1.75 -->\r\n      <g transform=\"translate(1002.799395 637.398438)scale(0.1 -0.1)\">\r\n       <use xlink:href=\"#DejaVuSans-31\"/>\r\n       <use x=\"63.623047\" xlink:href=\"#DejaVuSans-2e\"/>\r\n       <use x=\"95.410156\" xlink:href=\"#DejaVuSans-37\"/>\r\n       <use x=\"159.033203\" xlink:href=\"#DejaVuSans-35\"/>\r\n      </g>\r\n     </g>\r\n    </g>\r\n    <g id=\"text_9\">\r\n     <!-- total_vaccinations -->\r\n     <g transform=\"translate(523.441406 651.076563)scale(0.1 -0.1)\">\r\n      <defs>\r\n       <path d=\"M 1172 4494 \r\nL 1172 3500 \r\nL 2356 3500 \r\nL 2356 3053 \r\nL 1172 3053 \r\nL 1172 1153 \r\nQ 1172 725 1289 603 \r\nQ 1406 481 1766 481 \r\nL 2356 481 \r\nL 2356 0 \r\nL 1766 0 \r\nQ 1100 0 847 248 \r\nQ 594 497 594 1153 \r\nL 594 3053 \r\nL 172 3053 \r\nL 172 3500 \r\nL 594 3500 \r\nL 594 4494 \r\nL 1172 4494 \r\nz\r\n\" id=\"DejaVuSans-74\" transform=\"scale(0.015625)\"/>\r\n       <path d=\"M 1959 3097 \r\nQ 1497 3097 1228 2736 \r\nQ 959 2375 959 1747 \r\nQ 959 1119 1226 758 \r\nQ 1494 397 1959 397 \r\nQ 2419 397 2687 759 \r\nQ 2956 1122 2956 1747 \r\nQ 2956 2369 2687 2733 \r\nQ 2419 3097 1959 3097 \r\nz\r\nM 1959 3584 \r\nQ 2709 3584 3137 3096 \r\nQ 3566 2609 3566 1747 \r\nQ 3566 888 3137 398 \r\nQ 2709 -91 1959 -91 \r\nQ 1206 -91 779 398 \r\nQ 353 888 353 1747 \r\nQ 353 2609 779 3096 \r\nQ 1206 3584 1959 3584 \r\nz\r\n\" id=\"DejaVuSans-6f\" transform=\"scale(0.015625)\"/>\r\n       <path d=\"M 2194 1759 \r\nQ 1497 1759 1228 1600 \r\nQ 959 1441 959 1056 \r\nQ 959 750 1161 570 \r\nQ 1363 391 1709 391 \r\nQ 2188 391 2477 730 \r\nQ 2766 1069 2766 1631 \r\nL 2766 1759 \r\nL 2194 1759 \r\nz\r\nM 3341 1997 \r\nL 3341 0 \r\nL 2766 0 \r\nL 2766 531 \r\nQ 2569 213 2275 61 \r\nQ 1981 -91 1556 -91 \r\nQ 1019 -91 701 211 \r\nQ 384 513 384 1019 \r\nQ 384 1609 779 1909 \r\nQ 1175 2209 1959 2209 \r\nL 2766 2209 \r\nL 2766 2266 \r\nQ 2766 2663 2505 2880 \r\nQ 2244 3097 1772 3097 \r\nQ 1472 3097 1187 3025 \r\nQ 903 2953 641 2809 \r\nL 641 3341 \r\nQ 956 3463 1253 3523 \r\nQ 1550 3584 1831 3584 \r\nQ 2591 3584 2966 3190 \r\nQ 3341 2797 3341 1997 \r\nz\r\n\" id=\"DejaVuSans-61\" transform=\"scale(0.015625)\"/>\r\n       <path d=\"M 603 4863 \r\nL 1178 4863 \r\nL 1178 0 \r\nL 603 0 \r\nL 603 4863 \r\nz\r\n\" id=\"DejaVuSans-6c\" transform=\"scale(0.015625)\"/>\r\n       <path d=\"M 3263 -1063 \r\nL 3263 -1509 \r\nL -63 -1509 \r\nL -63 -1063 \r\nL 3263 -1063 \r\nz\r\n\" id=\"DejaVuSans-5f\" transform=\"scale(0.015625)\"/>\r\n       <path d=\"M 191 3500 \r\nL 800 3500 \r\nL 1894 563 \r\nL 2988 3500 \r\nL 3597 3500 \r\nL 2284 0 \r\nL 1503 0 \r\nL 191 3500 \r\nz\r\n\" id=\"DejaVuSans-76\" transform=\"scale(0.015625)\"/>\r\n       <path d=\"M 3122 3366 \r\nL 3122 2828 \r\nQ 2878 2963 2633 3030 \r\nQ 2388 3097 2138 3097 \r\nQ 1578 3097 1268 2742 \r\nQ 959 2388 959 1747 \r\nQ 959 1106 1268 751 \r\nQ 1578 397 2138 397 \r\nQ 2388 397 2633 464 \r\nQ 2878 531 3122 666 \r\nL 3122 134 \r\nQ 2881 22 2623 -34 \r\nQ 2366 -91 2075 -91 \r\nQ 1284 -91 818 406 \r\nQ 353 903 353 1747 \r\nQ 353 2603 823 3093 \r\nQ 1294 3584 2113 3584 \r\nQ 2378 3584 2631 3529 \r\nQ 2884 3475 3122 3366 \r\nz\r\n\" id=\"DejaVuSans-63\" transform=\"scale(0.015625)\"/>\r\n       <path d=\"M 603 3500 \r\nL 1178 3500 \r\nL 1178 0 \r\nL 603 0 \r\nL 603 3500 \r\nz\r\nM 603 4863 \r\nL 1178 4863 \r\nL 1178 4134 \r\nL 603 4134 \r\nL 603 4863 \r\nz\r\n\" id=\"DejaVuSans-69\" transform=\"scale(0.015625)\"/>\r\n       <path d=\"M 3513 2113 \r\nL 3513 0 \r\nL 2938 0 \r\nL 2938 2094 \r\nQ 2938 2591 2744 2837 \r\nQ 2550 3084 2163 3084 \r\nQ 1697 3084 1428 2787 \r\nQ 1159 2491 1159 1978 \r\nL 1159 0 \r\nL 581 0 \r\nL 581 3500 \r\nL 1159 3500 \r\nL 1159 2956 \r\nQ 1366 3272 1645 3428 \r\nQ 1925 3584 2291 3584 \r\nQ 2894 3584 3203 3211 \r\nQ 3513 2838 3513 2113 \r\nz\r\n\" id=\"DejaVuSans-6e\" transform=\"scale(0.015625)\"/>\r\n       <path d=\"M 2834 3397 \r\nL 2834 2853 \r\nQ 2591 2978 2328 3040 \r\nQ 2066 3103 1784 3103 \r\nQ 1356 3103 1142 2972 \r\nQ 928 2841 928 2578 \r\nQ 928 2378 1081 2264 \r\nQ 1234 2150 1697 2047 \r\nL 1894 2003 \r\nQ 2506 1872 2764 1633 \r\nQ 3022 1394 3022 966 \r\nQ 3022 478 2636 193 \r\nQ 2250 -91 1575 -91 \r\nQ 1294 -91 989 -36 \r\nQ 684 19 347 128 \r\nL 347 722 \r\nQ 666 556 975 473 \r\nQ 1284 391 1588 391 \r\nQ 1994 391 2212 530 \r\nQ 2431 669 2431 922 \r\nQ 2431 1156 2273 1281 \r\nQ 2116 1406 1581 1522 \r\nL 1381 1569 \r\nQ 847 1681 609 1914 \r\nQ 372 2147 372 2553 \r\nQ 372 3047 722 3315 \r\nQ 1072 3584 1716 3584 \r\nQ 2034 3584 2315 3537 \r\nQ 2597 3491 2834 3397 \r\nz\r\n\" id=\"DejaVuSans-73\" transform=\"scale(0.015625)\"/>\r\n      </defs>\r\n      <use xlink:href=\"#DejaVuSans-74\"/>\r\n      <use x=\"39.208984\" xlink:href=\"#DejaVuSans-6f\"/>\r\n      <use x=\"100.390625\" xlink:href=\"#DejaVuSans-74\"/>\r\n      <use x=\"139.599609\" xlink:href=\"#DejaVuSans-61\"/>\r\n      <use x=\"200.878906\" xlink:href=\"#DejaVuSans-6c\"/>\r\n      <use x=\"228.662109\" xlink:href=\"#DejaVuSans-5f\"/>\r\n      <use x=\"278.662109\" xlink:href=\"#DejaVuSans-76\"/>\r\n      <use x=\"337.841797\" xlink:href=\"#DejaVuSans-61\"/>\r\n      <use x=\"399.121094\" xlink:href=\"#DejaVuSans-63\"/>\r\n      <use x=\"454.101562\" xlink:href=\"#DejaVuSans-63\"/>\r\n      <use x=\"509.082031\" xlink:href=\"#DejaVuSans-69\"/>\r\n      <use x=\"536.865234\" xlink:href=\"#DejaVuSans-6e\"/>\r\n      <use x=\"600.244141\" xlink:href=\"#DejaVuSans-61\"/>\r\n      <use x=\"661.523438\" xlink:href=\"#DejaVuSans-74\"/>\r\n      <use x=\"700.732422\" xlink:href=\"#DejaVuSans-69\"/>\r\n      <use x=\"728.515625\" xlink:href=\"#DejaVuSans-6f\"/>\r\n      <use x=\"789.697266\" xlink:href=\"#DejaVuSans-6e\"/>\r\n      <use x=\"853.076172\" xlink:href=\"#DejaVuSans-73\"/>\r\n     </g>\r\n    </g>\r\n    <g id=\"text_10\">\r\n     <!-- 1e9 -->\r\n     <g transform=\"translate(1107.821875 650.076563)scale(0.1 -0.1)\">\r\n      <defs>\r\n       <path d=\"M 3597 1894 \r\nL 3597 1613 \r\nL 953 1613 \r\nQ 991 1019 1311 708 \r\nQ 1631 397 2203 397 \r\nQ 2534 397 2845 478 \r\nQ 3156 559 3463 722 \r\nL 3463 178 \r\nQ 3153 47 2828 -22 \r\nQ 2503 -91 2169 -91 \r\nQ 1331 -91 842 396 \r\nQ 353 884 353 1716 \r\nQ 353 2575 817 3079 \r\nQ 1281 3584 2069 3584 \r\nQ 2775 3584 3186 3129 \r\nQ 3597 2675 3597 1894 \r\nz\r\nM 3022 2063 \r\nQ 3016 2534 2758 2815 \r\nQ 2500 3097 2075 3097 \r\nQ 1594 3097 1305 2825 \r\nQ 1016 2553 972 2059 \r\nL 3022 2063 \r\nz\r\n\" id=\"DejaVuSans-65\" transform=\"scale(0.015625)\"/>\r\n       <path d=\"M 703 97 \r\nL 703 672 \r\nQ 941 559 1184 500 \r\nQ 1428 441 1663 441 \r\nQ 2288 441 2617 861 \r\nQ 2947 1281 2994 2138 \r\nQ 2813 1869 2534 1725 \r\nQ 2256 1581 1919 1581 \r\nQ 1219 1581 811 2004 \r\nQ 403 2428 403 3163 \r\nQ 403 3881 828 4315 \r\nQ 1253 4750 1959 4750 \r\nQ 2769 4750 3195 4129 \r\nQ 3622 3509 3622 2328 \r\nQ 3622 1225 3098 567 \r\nQ 2575 -91 1691 -91 \r\nQ 1453 -91 1209 -44 \r\nQ 966 3 703 97 \r\nz\r\nM 1959 2075 \r\nQ 2384 2075 2632 2365 \r\nQ 2881 2656 2881 3163 \r\nQ 2881 3666 2632 3958 \r\nQ 2384 4250 1959 4250 \r\nQ 1534 4250 1286 3958 \r\nQ 1038 3666 1038 3163 \r\nQ 1038 2656 1286 2365 \r\nQ 1534 2075 1959 2075 \r\nz\r\n\" id=\"DejaVuSans-39\" transform=\"scale(0.015625)\"/>\r\n      </defs>\r\n      <use xlink:href=\"#DejaVuSans-31\"/>\r\n      <use x=\"63.623047\" xlink:href=\"#DejaVuSans-65\"/>\r\n      <use x=\"125.146484\" xlink:href=\"#DejaVuSans-39\"/>\r\n     </g>\r\n    </g>\r\n   </g>\r\n   <g id=\"matplotlib.axis_2\">\r\n    <g id=\"ytick_1\">\r\n     <g id=\"line2d_9\">\r\n      <defs>\r\n       <path d=\"M 0 0 \r\nL -3.5 0 \r\n\" id=\"m35513aa2b4\" style=\"stroke:#000000;stroke-width:0.8;\"/>\r\n      </defs>\r\n      <g>\r\n       <use style=\"stroke:#000000;stroke-width:0.8;\" x=\"10.7\" xlink:href=\"#m35513aa2b4\" y=\"351\"/>\r\n      </g>\r\n     </g>\r\n    </g>\r\n   </g>\r\n   <g id=\"line2d_10\">\r\n    <path clip-path=\"url(#p4601a91c29)\" d=\"M 106.604457 351 \r\nL 115.770396 351 \r\n\" style=\"fill:none;stroke:#3f3f3f;stroke-linecap:square;stroke-width:1.5;\"/>\r\n   </g>\r\n   <g id=\"line2d_11\">\r\n    <path clip-path=\"url(#p4601a91c29)\" d=\"M 106.674612 351 \r\nL 110.501689 351 \r\n\" style=\"fill:none;stroke:#3f3f3f;stroke-linecap:square;stroke-width:4.5;\"/>\r\n   </g>\r\n   <g id=\"patch_3\">\r\n    <path d=\"M 10.7 622.8 \r\nL 10.7 79.2 \r\n\" style=\"fill:none;stroke:#000000;stroke-linecap:square;stroke-linejoin:miter;stroke-width:0.8;\"/>\r\n   </g>\r\n   <g id=\"patch_4\">\r\n    <path d=\"M 1126.7 622.8 \r\nL 1126.7 79.2 \r\n\" style=\"fill:none;stroke:#000000;stroke-linecap:square;stroke-linejoin:miter;stroke-width:0.8;\"/>\r\n   </g>\r\n   <g id=\"patch_5\">\r\n    <path d=\"M 10.7 622.8 \r\nL 1126.7 622.8 \r\n\" style=\"fill:none;stroke:#000000;stroke-linecap:square;stroke-linejoin:miter;stroke-width:0.8;\"/>\r\n   </g>\r\n   <g id=\"patch_6\">\r\n    <path d=\"M 10.7 79.2 \r\nL 1126.7 79.2 \r\n\" style=\"fill:none;stroke:#000000;stroke-linecap:square;stroke-linejoin:miter;stroke-width:0.8;\"/>\r\n   </g>\r\n   <g id=\"PathCollection_1\">\r\n    <defs>\r\n     <path d=\"M 0 1.5 \r\nC 0.397805 1.5 0.77937 1.341951 1.06066 1.06066 \r\nC 1.341951 0.77937 1.5 0.397805 1.5 0 \r\nC 1.5 -0.397805 1.341951 -0.77937 1.06066 -1.06066 \r\nC 0.77937 -1.341951 0.397805 -1.5 0 -1.5 \r\nC -0.397805 -1.5 -0.77937 -1.341951 -1.06066 -1.06066 \r\nC -1.341951 -0.77937 -1.5 -0.397805 -1.5 0 \r\nC -1.5 0.397805 -1.341951 0.77937 -1.06066 1.06066 \r\nC -0.77937 1.341951 -0.397805 1.5 0 1.5 \r\nz\r\n\" id=\"m748f262d7e\" style=\"stroke:#3f3f3f;\"/>\r\n    </defs>\r\n    <g clip-path=\"url(#p4601a91c29)\">\r\n     <use style=\"fill:#ffffff;stroke:#3f3f3f;\" x=\"107.172069\" xlink:href=\"#m748f262d7e\" y=\"351\"/>\r\n    </g>\r\n   </g>\r\n  </g>\r\n  <g id=\"text_11\">\r\n   <!-- Distribution of Global Vaccinations Progress -->\r\n   <g transform=\"translate(419.868125 16.318125)scale(0.12 -0.12)\">\r\n    <defs>\r\n     <path d=\"M 1259 4147 \r\nL 1259 519 \r\nL 2022 519 \r\nQ 2988 519 3436 956 \r\nQ 3884 1394 3884 2338 \r\nQ 3884 3275 3436 3711 \r\nQ 2988 4147 2022 4147 \r\nL 1259 4147 \r\nz\r\nM 628 4666 \r\nL 1925 4666 \r\nQ 3281 4666 3915 4102 \r\nQ 4550 3538 4550 2338 \r\nQ 4550 1131 3912 565 \r\nQ 3275 0 1925 0 \r\nL 628 0 \r\nL 628 4666 \r\nz\r\n\" id=\"DejaVuSans-44\" transform=\"scale(0.015625)\"/>\r\n     <path d=\"M 2631 2963 \r\nQ 2534 3019 2420 3045 \r\nQ 2306 3072 2169 3072 \r\nQ 1681 3072 1420 2755 \r\nQ 1159 2438 1159 1844 \r\nL 1159 0 \r\nL 581 0 \r\nL 581 3500 \r\nL 1159 3500 \r\nL 1159 2956 \r\nQ 1341 3275 1631 3429 \r\nQ 1922 3584 2338 3584 \r\nQ 2397 3584 2469 3576 \r\nQ 2541 3569 2628 3553 \r\nL 2631 2963 \r\nz\r\n\" id=\"DejaVuSans-72\" transform=\"scale(0.015625)\"/>\r\n     <path d=\"M 3116 1747 \r\nQ 3116 2381 2855 2742 \r\nQ 2594 3103 2138 3103 \r\nQ 1681 3103 1420 2742 \r\nQ 1159 2381 1159 1747 \r\nQ 1159 1113 1420 752 \r\nQ 1681 391 2138 391 \r\nQ 2594 391 2855 752 \r\nQ 3116 1113 3116 1747 \r\nz\r\nM 1159 2969 \r\nQ 1341 3281 1617 3432 \r\nQ 1894 3584 2278 3584 \r\nQ 2916 3584 3314 3078 \r\nQ 3713 2572 3713 1747 \r\nQ 3713 922 3314 415 \r\nQ 2916 -91 2278 -91 \r\nQ 1894 -91 1617 61 \r\nQ 1341 213 1159 525 \r\nL 1159 0 \r\nL 581 0 \r\nL 581 4863 \r\nL 1159 4863 \r\nL 1159 2969 \r\nz\r\n\" id=\"DejaVuSans-62\" transform=\"scale(0.015625)\"/>\r\n     <path d=\"M 544 1381 \r\nL 544 3500 \r\nL 1119 3500 \r\nL 1119 1403 \r\nQ 1119 906 1312 657 \r\nQ 1506 409 1894 409 \r\nQ 2359 409 2629 706 \r\nQ 2900 1003 2900 1516 \r\nL 2900 3500 \r\nL 3475 3500 \r\nL 3475 0 \r\nL 2900 0 \r\nL 2900 538 \r\nQ 2691 219 2414 64 \r\nQ 2138 -91 1772 -91 \r\nQ 1169 -91 856 284 \r\nQ 544 659 544 1381 \r\nz\r\nM 1991 3584 \r\nL 1991 3584 \r\nz\r\n\" id=\"DejaVuSans-75\" transform=\"scale(0.015625)\"/>\r\n     <path id=\"DejaVuSans-20\" transform=\"scale(0.015625)\"/>\r\n     <path d=\"M 2375 4863 \r\nL 2375 4384 \r\nL 1825 4384 \r\nQ 1516 4384 1395 4259 \r\nQ 1275 4134 1275 3809 \r\nL 1275 3500 \r\nL 2222 3500 \r\nL 2222 3053 \r\nL 1275 3053 \r\nL 1275 0 \r\nL 697 0 \r\nL 697 3053 \r\nL 147 3053 \r\nL 147 3500 \r\nL 697 3500 \r\nL 697 3744 \r\nQ 697 4328 969 4595 \r\nQ 1241 4863 1831 4863 \r\nL 2375 4863 \r\nz\r\n\" id=\"DejaVuSans-66\" transform=\"scale(0.015625)\"/>\r\n     <path d=\"M 3809 666 \r\nL 3809 1919 \r\nL 2778 1919 \r\nL 2778 2438 \r\nL 4434 2438 \r\nL 4434 434 \r\nQ 4069 175 3628 42 \r\nQ 3188 -91 2688 -91 \r\nQ 1594 -91 976 548 \r\nQ 359 1188 359 2328 \r\nQ 359 3472 976 4111 \r\nQ 1594 4750 2688 4750 \r\nQ 3144 4750 3555 4637 \r\nQ 3966 4525 4313 4306 \r\nL 4313 3634 \r\nQ 3963 3931 3569 4081 \r\nQ 3175 4231 2741 4231 \r\nQ 1884 4231 1454 3753 \r\nQ 1025 3275 1025 2328 \r\nQ 1025 1384 1454 906 \r\nQ 1884 428 2741 428 \r\nQ 3075 428 3337 486 \r\nQ 3600 544 3809 666 \r\nz\r\n\" id=\"DejaVuSans-47\" transform=\"scale(0.015625)\"/>\r\n     <path d=\"M 1831 0 \r\nL 50 4666 \r\nL 709 4666 \r\nL 2188 738 \r\nL 3669 4666 \r\nL 4325 4666 \r\nL 2547 0 \r\nL 1831 0 \r\nz\r\n\" id=\"DejaVuSans-56\" transform=\"scale(0.015625)\"/>\r\n     <path d=\"M 1259 4147 \r\nL 1259 2394 \r\nL 2053 2394 \r\nQ 2494 2394 2734 2622 \r\nQ 2975 2850 2975 3272 \r\nQ 2975 3691 2734 3919 \r\nQ 2494 4147 2053 4147 \r\nL 1259 4147 \r\nz\r\nM 628 4666 \r\nL 2053 4666 \r\nQ 2838 4666 3239 4311 \r\nQ 3641 3956 3641 3272 \r\nQ 3641 2581 3239 2228 \r\nQ 2838 1875 2053 1875 \r\nL 1259 1875 \r\nL 1259 0 \r\nL 628 0 \r\nL 628 4666 \r\nz\r\n\" id=\"DejaVuSans-50\" transform=\"scale(0.015625)\"/>\r\n     <path d=\"M 2906 1791 \r\nQ 2906 2416 2648 2759 \r\nQ 2391 3103 1925 3103 \r\nQ 1463 3103 1205 2759 \r\nQ 947 2416 947 1791 \r\nQ 947 1169 1205 825 \r\nQ 1463 481 1925 481 \r\nQ 2391 481 2648 825 \r\nQ 2906 1169 2906 1791 \r\nz\r\nM 3481 434 \r\nQ 3481 -459 3084 -895 \r\nQ 2688 -1331 1869 -1331 \r\nQ 1566 -1331 1297 -1286 \r\nQ 1028 -1241 775 -1147 \r\nL 775 -588 \r\nQ 1028 -725 1275 -790 \r\nQ 1522 -856 1778 -856 \r\nQ 2344 -856 2625 -561 \r\nQ 2906 -266 2906 331 \r\nL 2906 616 \r\nQ 2728 306 2450 153 \r\nQ 2172 0 1784 0 \r\nQ 1141 0 747 490 \r\nQ 353 981 353 1791 \r\nQ 353 2603 747 3093 \r\nQ 1141 3584 1784 3584 \r\nQ 2172 3584 2450 3431 \r\nQ 2728 3278 2906 2969 \r\nL 2906 3500 \r\nL 3481 3500 \r\nL 3481 434 \r\nz\r\n\" id=\"DejaVuSans-67\" transform=\"scale(0.015625)\"/>\r\n    </defs>\r\n    <use xlink:href=\"#DejaVuSans-44\"/>\r\n    <use x=\"77.001953\" xlink:href=\"#DejaVuSans-69\"/>\r\n    <use x=\"104.785156\" xlink:href=\"#DejaVuSans-73\"/>\r\n    <use x=\"156.884766\" xlink:href=\"#DejaVuSans-74\"/>\r\n    <use x=\"196.09375\" xlink:href=\"#DejaVuSans-72\"/>\r\n    <use x=\"237.207031\" xlink:href=\"#DejaVuSans-69\"/>\r\n    <use x=\"264.990234\" xlink:href=\"#DejaVuSans-62\"/>\r\n    <use x=\"328.466797\" xlink:href=\"#DejaVuSans-75\"/>\r\n    <use x=\"391.845703\" xlink:href=\"#DejaVuSans-74\"/>\r\n    <use x=\"431.054688\" xlink:href=\"#DejaVuSans-69\"/>\r\n    <use x=\"458.837891\" xlink:href=\"#DejaVuSans-6f\"/>\r\n    <use x=\"520.019531\" xlink:href=\"#DejaVuSans-6e\"/>\r\n    <use x=\"583.398438\" xlink:href=\"#DejaVuSans-20\"/>\r\n    <use x=\"615.185547\" xlink:href=\"#DejaVuSans-6f\"/>\r\n    <use x=\"676.367188\" xlink:href=\"#DejaVuSans-66\"/>\r\n    <use x=\"711.572266\" xlink:href=\"#DejaVuSans-20\"/>\r\n    <use x=\"743.359375\" xlink:href=\"#DejaVuSans-47\"/>\r\n    <use x=\"820.849609\" xlink:href=\"#DejaVuSans-6c\"/>\r\n    <use x=\"848.632812\" xlink:href=\"#DejaVuSans-6f\"/>\r\n    <use x=\"909.814453\" xlink:href=\"#DejaVuSans-62\"/>\r\n    <use x=\"973.291016\" xlink:href=\"#DejaVuSans-61\"/>\r\n    <use x=\"1034.570312\" xlink:href=\"#DejaVuSans-6c\"/>\r\n    <use x=\"1062.353516\" xlink:href=\"#DejaVuSans-20\"/>\r\n    <use x=\"1094.140625\" xlink:href=\"#DejaVuSans-56\"/>\r\n    <use x=\"1154.798828\" xlink:href=\"#DejaVuSans-61\"/>\r\n    <use x=\"1216.078125\" xlink:href=\"#DejaVuSans-63\"/>\r\n    <use x=\"1271.058594\" xlink:href=\"#DejaVuSans-63\"/>\r\n    <use x=\"1326.039062\" xlink:href=\"#DejaVuSans-69\"/>\r\n    <use x=\"1353.822266\" xlink:href=\"#DejaVuSans-6e\"/>\r\n    <use x=\"1417.201172\" xlink:href=\"#DejaVuSans-61\"/>\r\n    <use x=\"1478.480469\" xlink:href=\"#DejaVuSans-74\"/>\r\n    <use x=\"1517.689453\" xlink:href=\"#DejaVuSans-69\"/>\r\n    <use x=\"1545.472656\" xlink:href=\"#DejaVuSans-6f\"/>\r\n    <use x=\"1606.654297\" xlink:href=\"#DejaVuSans-6e\"/>\r\n    <use x=\"1670.033203\" xlink:href=\"#DejaVuSans-73\"/>\r\n    <use x=\"1722.132812\" xlink:href=\"#DejaVuSans-20\"/>\r\n    <use x=\"1753.919922\" xlink:href=\"#DejaVuSans-50\"/>\r\n    <use x=\"1812.472656\" xlink:href=\"#DejaVuSans-72\"/>\r\n    <use x=\"1851.335938\" xlink:href=\"#DejaVuSans-6f\"/>\r\n    <use x=\"1912.517578\" xlink:href=\"#DejaVuSans-67\"/>\r\n    <use x=\"1975.994141\" xlink:href=\"#DejaVuSans-72\"/>\r\n    <use x=\"2014.857422\" xlink:href=\"#DejaVuSans-65\"/>\r\n    <use x=\"2076.380859\" xlink:href=\"#DejaVuSans-73\"/>\r\n    <use x=\"2128.480469\" xlink:href=\"#DejaVuSans-73\"/>\r\n   </g>\r\n  </g>\r\n </g>\r\n <defs>\r\n  <clipPath id=\"p4601a91c29\">\r\n   <rect height=\"543.6\" width=\"1116\" x=\"10.7\" y=\"79.2\"/>\r\n  </clipPath>\r\n </defs>\r\n</svg>\r\n",
      "image/png": "[encoded data removed]"
     },
     "metadata": {
      "needs_background": "light"
     }
    }
   ],
   "metadata": {
    "execution": {
     "iopub.execute_input": "2021-08-07T13:53:47.416132Z",
     "iopub.status.busy": "2021-08-07T13:53:47.415473Z",
     "iopub.status.idle": "2021-08-07T13:53:47.785529Z",
     "shell.execute_reply": "2021-08-07T13:53:47.785037Z",
     "shell.execute_reply.started": "2021-08-07T12:09:26.406059Z"
    },
    "papermill": {
     "duration": 0.428425,
     "end_time": "2021-08-07T13:53:47.785658",
     "exception": false,
     "start_time": "2021-08-07T13:53:47.357233",
     "status": "completed"
    },
    "tags": []
   }
  },
  {
   "cell_type": "markdown",
   "source": [
    "This violin releases that there is an uneven distribution and the difference of vaccinations progress among countries are huge. "
   ],
   "metadata": {
    "papermill": {
     "duration": 0.051957,
     "end_time": "2021-08-07T13:53:47.890168",
     "exception": false,
     "start_time": "2021-08-07T13:53:47.838211",
     "status": "completed"
    },
    "tags": []
   }
  },
  {
   "cell_type": "markdown",
   "source": [
    "**3.3. What is the global average vaccinations by month ?**"
   ],
   "metadata": {
    "papermill": {
     "duration": 0.05189,
     "end_time": "2021-08-07T13:53:47.994279",
     "exception": false,
     "start_time": "2021-08-07T13:53:47.942389",
     "status": "completed"
    },
    "tags": []
   }
  },
  {
   "cell_type": "markdown",
   "source": [
    "Now let's check the progress of vaccinations through months to see wheter the progress is increasing or not. Here, I calculated the mean of the global daily vaccinations under the reference of month to have the overview."
   ],
   "metadata": {
    "papermill": {
     "duration": 0.051405,
     "end_time": "2021-08-07T13:53:48.098034",
     "exception": false,
     "start_time": "2021-08-07T13:53:48.046629",
     "status": "completed"
    },
    "tags": []
   }
  },
  {
   "cell_type": "code",
   "execution_count": null,
   "source": [
    "# Find the global average total vaccinations by month\r\n",
    "df['date'] = pd.to_datetime(df['date'])\r\n",
    "avg = df.groupby(df['date'].dt.strftime('%B'))['daily_vaccinations'].mean().sort_values().reset_index()\r\n",
    "avg\r\n"
   ],
   "outputs": [
    {
     "output_type": "execute_result",
     "data": {
      "text/plain": [
       "       date  daily_vaccinations\n",
       "0  December               24175\n",
       "1   January               45164\n",
       "2  February               55467\n",
       "3     March               67836\n",
       "4     April               92488\n",
       "5       May              125624\n",
       "6      July              173540\n",
       "7      June              180067\n",
       "8    August              317931"
      ],
      "text/html": [
       "<div>\n",
       "<style scoped>\n",
       "    .dataframe tbody tr th:only-of-type {\n",
       "        vertical-align: middle;\n",
       "    }\n",
       "\n",
       "    .dataframe tbody tr th {\n",
       "        vertical-align: top;\n",
       "    }\n",
       "\n",
       "    .dataframe thead th {\n",
       "        text-align: right;\n",
       "    }\n",
       "</style>\n",
       "<table border=\"1\" class=\"dataframe\">\n",
       "  <thead>\n",
       "    <tr style=\"text-align: right;\">\n",
       "      <th></th>\n",
       "      <th>date</th>\n",
       "      <th>daily_vaccinations</th>\n",
       "    </tr>\n",
       "  </thead>\n",
       "  <tbody>\n",
       "    <tr>\n",
       "      <th>0</th>\n",
       "      <td>December</td>\n",
       "      <td>24175</td>\n",
       "    </tr>\n",
       "    <tr>\n",
       "      <th>1</th>\n",
       "      <td>January</td>\n",
       "      <td>45164</td>\n",
       "    </tr>\n",
       "    <tr>\n",
       "      <th>2</th>\n",
       "      <td>February</td>\n",
       "      <td>55467</td>\n",
       "    </tr>\n",
       "    <tr>\n",
       "      <th>3</th>\n",
       "      <td>March</td>\n",
       "      <td>67836</td>\n",
       "    </tr>\n",
       "    <tr>\n",
       "      <th>4</th>\n",
       "      <td>April</td>\n",
       "      <td>92488</td>\n",
       "    </tr>\n",
       "    <tr>\n",
       "      <th>5</th>\n",
       "      <td>May</td>\n",
       "      <td>125624</td>\n",
       "    </tr>\n",
       "    <tr>\n",
       "      <th>6</th>\n",
       "      <td>July</td>\n",
       "      <td>173540</td>\n",
       "    </tr>\n",
       "    <tr>\n",
       "      <th>7</th>\n",
       "      <td>June</td>\n",
       "      <td>180067</td>\n",
       "    </tr>\n",
       "    <tr>\n",
       "      <th>8</th>\n",
       "      <td>August</td>\n",
       "      <td>317931</td>\n",
       "    </tr>\n",
       "  </tbody>\n",
       "</table>\n",
       "</div>"
      ]
     },
     "metadata": {},
     "execution_count": 28
    }
   ],
   "metadata": {
    "execution": {
     "iopub.execute_input": "2021-08-07T13:53:48.208595Z",
     "iopub.status.busy": "2021-08-07T13:53:48.208011Z",
     "iopub.status.idle": "2021-08-07T13:53:48.389663Z",
     "shell.execute_reply": "2021-08-07T13:53:48.389199Z",
     "shell.execute_reply.started": "2021-08-07T13:41:13.087041Z"
    },
    "papermill": {
     "duration": 0.239633,
     "end_time": "2021-08-07T13:53:48.389809",
     "exception": false,
     "start_time": "2021-08-07T13:53:48.150176",
     "status": "completed"
    },
    "tags": []
   }
  },
  {
   "cell_type": "markdown",
   "source": [
    "If you look closely, you will see that July came before June. Therefore, I would reindex these two months."
   ],
   "metadata": {
    "papermill": {
     "duration": 0.051964,
     "end_time": "2021-08-07T13:53:48.493812",
     "exception": false,
     "start_time": "2021-08-07T13:53:48.441848",
     "status": "completed"
    },
    "tags": []
   }
  },
  {
   "cell_type": "code",
   "execution_count": null,
   "source": [
    "avg = avg.reindex([0, 1, 2, 3, 4, 5, 7, 6, 8])\r\n",
    "avg"
   ],
   "outputs": [
    {
     "output_type": "execute_result",
     "data": {
      "text/plain": [
       "       date  daily_vaccinations\n",
       "0  December               24175\n",
       "1   January               45164\n",
       "2  February               55467\n",
       "3     March               67836\n",
       "4     April               92488\n",
       "5       May              125624\n",
       "7      June              180067\n",
       "6      July              173540\n",
       "8    August              317931"
      ],
      "text/html": [
       "<div>\n",
       "<style scoped>\n",
       "    .dataframe tbody tr th:only-of-type {\n",
       "        vertical-align: middle;\n",
       "    }\n",
       "\n",
       "    .dataframe tbody tr th {\n",
       "        vertical-align: top;\n",
       "    }\n",
       "\n",
       "    .dataframe thead th {\n",
       "        text-align: right;\n",
       "    }\n",
       "</style>\n",
       "<table border=\"1\" class=\"dataframe\">\n",
       "  <thead>\n",
       "    <tr style=\"text-align: right;\">\n",
       "      <th></th>\n",
       "      <th>date</th>\n",
       "      <th>daily_vaccinations</th>\n",
       "    </tr>\n",
       "  </thead>\n",
       "  <tbody>\n",
       "    <tr>\n",
       "      <th>0</th>\n",
       "      <td>December</td>\n",
       "      <td>24175</td>\n",
       "    </tr>\n",
       "    <tr>\n",
       "      <th>1</th>\n",
       "      <td>January</td>\n",
       "      <td>45164</td>\n",
       "    </tr>\n",
       "    <tr>\n",
       "      <th>2</th>\n",
       "      <td>February</td>\n",
       "      <td>55467</td>\n",
       "    </tr>\n",
       "    <tr>\n",
       "      <th>3</th>\n",
       "      <td>March</td>\n",
       "      <td>67836</td>\n",
       "    </tr>\n",
       "    <tr>\n",
       "      <th>4</th>\n",
       "      <td>April</td>\n",
       "      <td>92488</td>\n",
       "    </tr>\n",
       "    <tr>\n",
       "      <th>5</th>\n",
       "      <td>May</td>\n",
       "      <td>125624</td>\n",
       "    </tr>\n",
       "    <tr>\n",
       "      <th>7</th>\n",
       "      <td>June</td>\n",
       "      <td>180067</td>\n",
       "    </tr>\n",
       "    <tr>\n",
       "      <th>6</th>\n",
       "      <td>July</td>\n",
       "      <td>173540</td>\n",
       "    </tr>\n",
       "    <tr>\n",
       "      <th>8</th>\n",
       "      <td>August</td>\n",
       "      <td>317931</td>\n",
       "    </tr>\n",
       "  </tbody>\n",
       "</table>\n",
       "</div>"
      ]
     },
     "metadata": {},
     "execution_count": 29
    }
   ],
   "metadata": {
    "execution": {
     "iopub.execute_input": "2021-08-07T13:53:48.607903Z",
     "iopub.status.busy": "2021-08-07T13:53:48.604814Z",
     "iopub.status.idle": "2021-08-07T13:53:48.611956Z",
     "shell.execute_reply": "2021-08-07T13:53:48.611356Z",
     "shell.execute_reply.started": "2021-08-07T13:42:12.835195Z"
    },
    "papermill": {
     "duration": 0.065954,
     "end_time": "2021-08-07T13:53:48.612090",
     "exception": false,
     "start_time": "2021-08-07T13:53:48.546136",
     "status": "completed"
    },
    "tags": []
   }
  },
  {
   "cell_type": "markdown",
   "source": [
    "Good!"
   ],
   "metadata": {
    "papermill": {
     "duration": 0.052326,
     "end_time": "2021-08-07T13:53:48.717483",
     "exception": false,
     "start_time": "2021-08-07T13:53:48.665157",
     "status": "completed"
    },
    "tags": []
   }
  },
  {
   "cell_type": "code",
   "execution_count": null,
   "source": [
    "# Lineplot to see the full progress\r\n",
    "fig = px.line(avg, \r\n",
    "             x='date', \r\n",
    "             y='daily_vaccinations',\r\n",
    "             labels = {'daily_vaccinations' : 'Global Monthly Vaccinations', 'date' : 'Month'},\r\n",
    "             title = \"Average Total Vaccinations\"\r\n",
    "            )\r\n",
    "fig.show()"
   ],
   "outputs": [
    {
     "output_type": "display_data",
     "data": {
      "application/vnd.plotly.v1+json": {
       "config": {
        "plotlyServerURL": "https://plot.ly"
       },
       "data": [
        {
         "hovertemplate": "Month=%{x}<br>Global Monthly Vaccinations=%{y}<extra></extra>",
         "legendgroup": "",
         "line": {
          "color": "#636efa",
          "dash": "solid"
         },
         "mode": "lines",
         "name": "",
         "orientation": "v",
         "showlegend": false,
         "type": "scatter",
         "x": [
          "December",
          "January",
          "February",
          "March",
          "April",
          "May",
          "June",
          "July",
          "August"
         ],
         "xaxis": "x",
         "y": [
          24175.409574468085,
          45164.37462082912,
          55467.12118160457,
          67835.93480482322,
          92487.59641177495,
          125624.1593858816,
          180066.54612837092,
          173539.96289607618,
          317930.7311271975
         ],
         "yaxis": "y"
        }
       ],
       "layout": {
        "legend": {
         "tracegroupgap": 0
        },
        "template": {
         "data": {
          "bar": [
           {
            "error_x": {
             "color": "#2a3f5f"
            },
            "error_y": {
             "color": "#2a3f5f"
            },
            "marker": {
             "line": {
              "color": "#E5ECF6",
              "width": 0.5
             },
             "pattern": {
              "fillmode": "overlay",
              "size": 10,
              "solidity": 0.2
             }
            },
            "type": "bar"
           }
          ],
          "barpolar": [
           {
            "marker": {
             "line": {
              "color": "#E5ECF6",
              "width": 0.5
             },
             "pattern": {
              "fillmode": "overlay",
              "size": 10,
              "solidity": 0.2
             }
            },
            "type": "barpolar"
           }
          ],
          "carpet": [
           {
            "aaxis": {
             "endlinecolor": "#2a3f5f",
             "gridcolor": "white",
             "linecolor": "white",
             "minorgridcolor": "white",
             "startlinecolor": "#2a3f5f"
            },
            "baxis": {
             "endlinecolor": "#2a3f5f",
             "gridcolor": "white",
             "linecolor": "white",
             "minorgridcolor": "white",
             "startlinecolor": "#2a3f5f"
            },
            "type": "carpet"
           }
          ],
          "choropleth": [
           {
            "colorbar": {
             "outlinewidth": 0,
             "ticks": ""
            },
            "type": "choropleth"
           }
          ],
          "contour": [
           {
            "colorbar": {
             "outlinewidth": 0,
             "ticks": ""
            },
            "colorscale": [
             [
              0,
              "#0d0887"
             ],
             [
              0.1111111111111111,
              "#46039f"
             ],
             [
              0.2222222222222222,
              "#7201a8"
             ],
             [
              0.3333333333333333,
              "#9c179e"
             ],
             [
              0.4444444444444444,
              "#bd3786"
             ],
             [
              0.5555555555555556,
              "#d8576b"
             ],
             [
              0.6666666666666666,
              "#ed7953"
             ],
             [
              0.7777777777777778,
              "#fb9f3a"
             ],
             [
              0.8888888888888888,
              "#fdca26"
             ],
             [
              1,
              "#f0f921"
             ]
            ],
            "type": "contour"
           }
          ],
          "contourcarpet": [
           {
            "colorbar": {
             "outlinewidth": 0,
             "ticks": ""
            },
            "type": "contourcarpet"
           }
          ],
          "heatmap": [
           {
            "colorbar": {
             "outlinewidth": 0,
             "ticks": ""
            },
            "colorscale": [
             [
              0,
              "#0d0887"
             ],
             [
              0.1111111111111111,
              "#46039f"
             ],
             [
              0.2222222222222222,
              "#7201a8"
             ],
             [
              0.3333333333333333,
              "#9c179e"
             ],
             [
              0.4444444444444444,
              "#bd3786"
             ],
             [
              0.5555555555555556,
              "#d8576b"
             ],
             [
              0.6666666666666666,
              "#ed7953"
             ],
             [
              0.7777777777777778,
              "#fb9f3a"
             ],
             [
              0.8888888888888888,
              "#fdca26"
             ],
             [
              1,
              "#f0f921"
             ]
            ],
            "type": "heatmap"
           }
          ],
          "heatmapgl": [
           {
            "colorbar": {
             "outlinewidth": 0,
             "ticks": ""
            },
            "colorscale": [
             [
              0,
              "#0d0887"
             ],
             [
              0.1111111111111111,
              "#46039f"
             ],
             [
              0.2222222222222222,
              "#7201a8"
             ],
             [
              0.3333333333333333,
              "#9c179e"
             ],
             [
              0.4444444444444444,
              "#bd3786"
             ],
             [
              0.5555555555555556,
              "#d8576b"
             ],
             [
              0.6666666666666666,
              "#ed7953"
             ],
             [
              0.7777777777777778,
              "#fb9f3a"
             ],
             [
              0.8888888888888888,
              "#fdca26"
             ],
             [
              1,
              "#f0f921"
             ]
            ],
            "type": "heatmapgl"
           }
          ],
          "histogram": [
           {
            "marker": {
             "pattern": {
              "fillmode": "overlay",
              "size": 10,
              "solidity": 0.2
             }
            },
            "type": "histogram"
           }
          ],
          "histogram2d": [
           {
            "colorbar": {
             "outlinewidth": 0,
             "ticks": ""
            },
            "colorscale": [
             [
              0,
              "#0d0887"
             ],
             [
              0.1111111111111111,
              "#46039f"
             ],
             [
              0.2222222222222222,
              "#7201a8"
             ],
             [
              0.3333333333333333,
              "#9c179e"
             ],
             [
              0.4444444444444444,
              "#bd3786"
             ],
             [
              0.5555555555555556,
              "#d8576b"
             ],
             [
              0.6666666666666666,
              "#ed7953"
             ],
             [
              0.7777777777777778,
              "#fb9f3a"
             ],
             [
              0.8888888888888888,
              "#fdca26"
             ],
             [
              1,
              "#f0f921"
             ]
            ],
            "type": "histogram2d"
           }
          ],
          "histogram2dcontour": [
           {
            "colorbar": {
             "outlinewidth": 0,
             "ticks": ""
            },
            "colorscale": [
             [
              0,
              "#0d0887"
             ],
             [
              0.1111111111111111,
              "#46039f"
             ],
             [
              0.2222222222222222,
              "#7201a8"
             ],
             [
              0.3333333333333333,
              "#9c179e"
             ],
             [
              0.4444444444444444,
              "#bd3786"
             ],
             [
              0.5555555555555556,
              "#d8576b"
             ],
             [
              0.6666666666666666,
              "#ed7953"
             ],
             [
              0.7777777777777778,
              "#fb9f3a"
             ],
             [
              0.8888888888888888,
              "#fdca26"
             ],
             [
              1,
              "#f0f921"
             ]
            ],
            "type": "histogram2dcontour"
           }
          ],
          "mesh3d": [
           {
            "colorbar": {
             "outlinewidth": 0,
             "ticks": ""
            },
            "type": "mesh3d"
           }
          ],
          "parcoords": [
           {
            "line": {
             "colorbar": {
              "outlinewidth": 0,
              "ticks": ""
             }
            },
            "type": "parcoords"
           }
          ],
          "pie": [
           {
            "automargin": true,
            "type": "pie"
           }
          ],
          "scatter": [
           {
            "marker": {
             "colorbar": {
              "outlinewidth": 0,
              "ticks": ""
             }
            },
            "type": "scatter"
           }
          ],
          "scatter3d": [
           {
            "line": {
             "colorbar": {
              "outlinewidth": 0,
              "ticks": ""
             }
            },
            "marker": {
             "colorbar": {
              "outlinewidth": 0,
              "ticks": ""
             }
            },
            "type": "scatter3d"
           }
          ],
          "scattercarpet": [
           {
            "marker": {
             "colorbar": {
              "outlinewidth": 0,
              "ticks": ""
             }
            },
            "type": "scattercarpet"
           }
          ],
          "scattergeo": [
           {
            "marker": {
             "colorbar": {
              "outlinewidth": 0,
              "ticks": ""
             }
            },
            "type": "scattergeo"
           }
          ],
          "scattergl": [
           {
            "marker": {
             "colorbar": {
              "outlinewidth": 0,
              "ticks": ""
             }
            },
            "type": "scattergl"
           }
          ],
          "scattermapbox": [
           {
            "marker": {
             "colorbar": {
              "outlinewidth": 0,
              "ticks": ""
             }
            },
            "type": "scattermapbox"
           }
          ],
          "scatterpolar": [
           {
            "marker": {
             "colorbar": {
              "outlinewidth": 0,
              "ticks": ""
             }
            },
            "type": "scatterpolar"
           }
          ],
          "scatterpolargl": [
           {
            "marker": {
             "colorbar": {
              "outlinewidth": 0,
              "ticks": ""
             }
            },
            "type": "scatterpolargl"
           }
          ],
          "scatterternary": [
           {
            "marker": {
             "colorbar": {
              "outlinewidth": 0,
              "ticks": ""
             }
            },
            "type": "scatterternary"
           }
          ],
          "surface": [
           {
            "colorbar": {
             "outlinewidth": 0,
             "ticks": ""
            },
            "colorscale": [
             [
              0,
              "#0d0887"
             ],
             [
              0.1111111111111111,
              "#46039f"
             ],
             [
              0.2222222222222222,
              "#7201a8"
             ],
             [
              0.3333333333333333,
              "#9c179e"
             ],
             [
              0.4444444444444444,
              "#bd3786"
             ],
             [
              0.5555555555555556,
              "#d8576b"
             ],
             [
              0.6666666666666666,
              "#ed7953"
             ],
             [
              0.7777777777777778,
              "#fb9f3a"
             ],
             [
              0.8888888888888888,
              "#fdca26"
             ],
             [
              1,
              "#f0f921"
             ]
            ],
            "type": "surface"
           }
          ],
          "table": [
           {
            "cells": {
             "fill": {
              "color": "#EBF0F8"
             },
             "line": {
              "color": "white"
             }
            },
            "header": {
             "fill": {
              "color": "#C8D4E3"
             },
             "line": {
              "color": "white"
             }
            },
            "type": "table"
           }
          ]
         },
         "layout": {
          "annotationdefaults": {
           "arrowcolor": "#2a3f5f",
           "arrowhead": 0,
           "arrowwidth": 1
          },
          "autotypenumbers": "strict",
          "coloraxis": {
           "colorbar": {
            "outlinewidth": 0,
            "ticks": ""
           }
          },
          "colorscale": {
           "diverging": [
            [
             0,
             "#8e0152"
            ],
            [
             0.1,
             "#c51b7d"
            ],
            [
             0.2,
             "#de77ae"
            ],
            [
             0.3,
             "#f1b6da"
            ],
            [
             0.4,
             "#fde0ef"
            ],
            [
             0.5,
             "#f7f7f7"
            ],
            [
             0.6,
             "#e6f5d0"
            ],
            [
             0.7,
             "#b8e186"
            ],
            [
             0.8,
             "#7fbc41"
            ],
            [
             0.9,
             "#4d9221"
            ],
            [
             1,
             "#276419"
            ]
           ],
           "sequential": [
            [
             0,
             "#0d0887"
            ],
            [
             0.1111111111111111,
             "#46039f"
            ],
            [
             0.2222222222222222,
             "#7201a8"
            ],
            [
             0.3333333333333333,
             "#9c179e"
            ],
            [
             0.4444444444444444,
             "#bd3786"
            ],
            [
             0.5555555555555556,
             "#d8576b"
            ],
            [
             0.6666666666666666,
             "#ed7953"
            ],
            [
             0.7777777777777778,
             "#fb9f3a"
            ],
            [
             0.8888888888888888,
             "#fdca26"
            ],
            [
             1,
             "#f0f921"
            ]
           ],
           "sequentialminus": [
            [
             0,
             "#0d0887"
            ],
            [
             0.1111111111111111,
             "#46039f"
            ],
            [
             0.2222222222222222,
             "#7201a8"
            ],
            [
             0.3333333333333333,
             "#9c179e"
            ],
            [
             0.4444444444444444,
             "#bd3786"
            ],
            [
             0.5555555555555556,
             "#d8576b"
            ],
            [
             0.6666666666666666,
             "#ed7953"
            ],
            [
             0.7777777777777778,
             "#fb9f3a"
            ],
            [
             0.8888888888888888,
             "#fdca26"
            ],
            [
             1,
             "#f0f921"
            ]
           ]
          },
          "colorway": [
           "#636efa",
           "#EF553B",
           "#00cc96",
           "#ab63fa",
           "#FFA15A",
           "#19d3f3",
           "#FF6692",
           "#B6E880",
           "#FF97FF",
           "#FECB52"
          ],
          "font": {
           "color": "#2a3f5f"
          },
          "geo": {
           "bgcolor": "white",
           "lakecolor": "white",
           "landcolor": "#E5ECF6",
           "showlakes": true,
           "showland": true,
           "subunitcolor": "white"
          },
          "hoverlabel": {
           "align": "left"
          },
          "hovermode": "closest",
          "mapbox": {
           "style": "light"
          },
          "paper_bgcolor": "white",
          "plot_bgcolor": "#E5ECF6",
          "polar": {
           "angularaxis": {
            "gridcolor": "white",
            "linecolor": "white",
            "ticks": ""
           },
           "bgcolor": "#E5ECF6",
           "radialaxis": {
            "gridcolor": "white",
            "linecolor": "white",
            "ticks": ""
           }
          },
          "scene": {
           "xaxis": {
            "backgroundcolor": "#E5ECF6",
            "gridcolor": "white",
            "gridwidth": 2,
            "linecolor": "white",
            "showbackground": true,
            "ticks": "",
            "zerolinecolor": "white"
           },
           "yaxis": {
            "backgroundcolor": "#E5ECF6",
            "gridcolor": "white",
            "gridwidth": 2,
            "linecolor": "white",
            "showbackground": true,
            "ticks": "",
            "zerolinecolor": "white"
           },
           "zaxis": {
            "backgroundcolor": "#E5ECF6",
            "gridcolor": "white",
            "gridwidth": 2,
            "linecolor": "white",
            "showbackground": true,
            "ticks": "",
            "zerolinecolor": "white"
           }
          },
          "shapedefaults": {
           "line": {
            "color": "#2a3f5f"
           }
          },
          "ternary": {
           "aaxis": {
            "gridcolor": "white",
            "linecolor": "white",
            "ticks": ""
           },
           "baxis": {
            "gridcolor": "white",
            "linecolor": "white",
            "ticks": ""
           },
           "bgcolor": "#E5ECF6",
           "caxis": {
            "gridcolor": "white",
            "linecolor": "white",
            "ticks": ""
           }
          },
          "title": {
           "x": 0.05
          },
          "xaxis": {
           "automargin": true,
           "gridcolor": "white",
           "linecolor": "white",
           "ticks": "",
           "title": {
            "standoff": 15
           },
           "zerolinecolor": "white",
           "zerolinewidth": 2
          },
          "yaxis": {
           "automargin": true,
           "gridcolor": "white",
           "linecolor": "white",
           "ticks": "",
           "title": {
            "standoff": 15
           },
           "zerolinecolor": "white",
           "zerolinewidth": 2
          }
         }
        },
        "title": {
         "text": "Average Total Vaccinations"
        },
        "xaxis": {
         "anchor": "y",
         "domain": [
          0,
          1
         ],
         "title": {
          "text": "Month"
         }
        },
        "yaxis": {
         "anchor": "x",
         "domain": [
          0,
          1
         ],
         "title": {
          "text": "Global Monthly Vaccinations"
         }
        }
       }
      }
     },
     "metadata": {}
    }
   ],
   "metadata": {
    "execution": {
     "iopub.execute_input": "2021-08-07T13:53:48.828125Z",
     "iopub.status.busy": "2021-08-07T13:53:48.827387Z",
     "iopub.status.idle": "2021-08-07T13:53:48.895701Z",
     "shell.execute_reply": "2021-08-07T13:53:48.895211Z",
     "shell.execute_reply.started": "2021-08-07T13:42:23.407810Z"
    },
    "papermill": {
     "duration": 0.125637,
     "end_time": "2021-08-07T13:53:48.895849",
     "exception": false,
     "start_time": "2021-08-07T13:53:48.770212",
     "status": "completed"
    },
    "tags": []
   }
  },
  {
   "cell_type": "markdown",
   "source": [
    "It is obviously that the world is doing good when the line is gradually increasing except that there is a slight drop between June and July, it may be because the appearance Delta mutation at that time so it decelerated the progress. Note that from July to August, there is a sudden climb. It can be explained that there is not enough data for August in the dataset. Therefore,the value of August is not objective."
   ],
   "metadata": {
    "papermill": {
     "duration": 0.05367,
     "end_time": "2021-08-07T13:53:49.002969",
     "exception": false,
     "start_time": "2021-08-07T13:53:48.949299",
     "status": "completed"
    },
    "tags": []
   }
  },
  {
   "cell_type": "markdown",
   "source": [
    "So far, it is quite enough to have a basic view of the current status. Now, let's take a quick look at the popularity of the present vaccines."
   ],
   "metadata": {
    "papermill": {
     "duration": 0.054529,
     "end_time": "2021-08-07T13:53:49.111011",
     "exception": false,
     "start_time": "2021-08-07T13:53:49.056482",
     "status": "completed"
    },
    "tags": []
   }
  },
  {
   "cell_type": "markdown",
   "source": [
    "**3.4. What vaccine is most common used and least common used ?**"
   ],
   "metadata": {
    "papermill": {
     "duration": 0.052751,
     "end_time": "2021-08-07T13:53:49.217120",
     "exception": false,
     "start_time": "2021-08-07T13:53:49.164369",
     "status": "completed"
    },
    "tags": []
   }
  },
  {
   "cell_type": "markdown",
   "source": [
    "Let's explore the popularity of vaccines by summing their total up. In this case, like the total_vaccinations column in the country_vaccinations dataset, the value in the total_vaccinations in country_vaccinations_by_manufacturers are cummulative. Therefore, I used max function to take out the lastest value of each vaccine."
   ],
   "metadata": {
    "papermill": {
     "duration": 0.054735,
     "end_time": "2021-08-07T13:53:49.324974",
     "exception": false,
     "start_time": "2021-08-07T13:53:49.270239",
     "status": "completed"
    },
    "tags": []
   }
  },
  {
   "cell_type": "code",
   "execution_count": null,
   "source": [
    "# Call out the number of total vaccines used by country and vaccine types\r\n",
    "vpc = vbm.groupby(['vaccine', 'location'])['total_vaccinations'].max().reset_index()\r\n",
    "vpc\r\n"
   ],
   "outputs": [
    {
     "output_type": "execute_result",
     "data": {
      "text/plain": [
       "             vaccine   location  total_vaccinations\n",
       "0            CanSino      Chile              506741\n",
       "1    Johnson&Johnson    Austria              211849\n",
       "2    Johnson&Johnson    Belgium              319928\n",
       "3    Johnson&Johnson   Bulgaria               88846\n",
       "4    Johnson&Johnson    Croatia               52562\n",
       "..               ...        ...                 ...\n",
       "123          Sinovac      Chile            18526768\n",
       "124          Sinovac  Hong Kong             2412097\n",
       "125          Sinovac    Uruguay             3234526\n",
       "126        Sputnik V    Hungary             1813006\n",
       "127        Sputnik V   Slovakia               35304\n",
       "\n",
       "[128 rows x 3 columns]"
      ],
      "text/html": [
       "<div>\n",
       "<style scoped>\n",
       "    .dataframe tbody tr th:only-of-type {\n",
       "        vertical-align: middle;\n",
       "    }\n",
       "\n",
       "    .dataframe tbody tr th {\n",
       "        vertical-align: top;\n",
       "    }\n",
       "\n",
       "    .dataframe thead th {\n",
       "        text-align: right;\n",
       "    }\n",
       "</style>\n",
       "<table border=\"1\" class=\"dataframe\">\n",
       "  <thead>\n",
       "    <tr style=\"text-align: right;\">\n",
       "      <th></th>\n",
       "      <th>vaccine</th>\n",
       "      <th>location</th>\n",
       "      <th>total_vaccinations</th>\n",
       "    </tr>\n",
       "  </thead>\n",
       "  <tbody>\n",
       "    <tr>\n",
       "      <th>0</th>\n",
       "      <td>CanSino</td>\n",
       "      <td>Chile</td>\n",
       "      <td>506741</td>\n",
       "    </tr>\n",
       "    <tr>\n",
       "      <th>1</th>\n",
       "      <td>Johnson&amp;Johnson</td>\n",
       "      <td>Austria</td>\n",
       "      <td>211849</td>\n",
       "    </tr>\n",
       "    <tr>\n",
       "      <th>2</th>\n",
       "      <td>Johnson&amp;Johnson</td>\n",
       "      <td>Belgium</td>\n",
       "      <td>319928</td>\n",
       "    </tr>\n",
       "    <tr>\n",
       "      <th>3</th>\n",
       "      <td>Johnson&amp;Johnson</td>\n",
       "      <td>Bulgaria</td>\n",
       "      <td>88846</td>\n",
       "    </tr>\n",
       "    <tr>\n",
       "      <th>4</th>\n",
       "      <td>Johnson&amp;Johnson</td>\n",
       "      <td>Croatia</td>\n",
       "      <td>52562</td>\n",
       "    </tr>\n",
       "    <tr>\n",
       "      <th>...</th>\n",
       "      <td>...</td>\n",
       "      <td>...</td>\n",
       "      <td>...</td>\n",
       "    </tr>\n",
       "    <tr>\n",
       "      <th>123</th>\n",
       "      <td>Sinovac</td>\n",
       "      <td>Chile</td>\n",
       "      <td>18526768</td>\n",
       "    </tr>\n",
       "    <tr>\n",
       "      <th>124</th>\n",
       "      <td>Sinovac</td>\n",
       "      <td>Hong Kong</td>\n",
       "      <td>2412097</td>\n",
       "    </tr>\n",
       "    <tr>\n",
       "      <th>125</th>\n",
       "      <td>Sinovac</td>\n",
       "      <td>Uruguay</td>\n",
       "      <td>3234526</td>\n",
       "    </tr>\n",
       "    <tr>\n",
       "      <th>126</th>\n",
       "      <td>Sputnik V</td>\n",
       "      <td>Hungary</td>\n",
       "      <td>1813006</td>\n",
       "    </tr>\n",
       "    <tr>\n",
       "      <th>127</th>\n",
       "      <td>Sputnik V</td>\n",
       "      <td>Slovakia</td>\n",
       "      <td>35304</td>\n",
       "    </tr>\n",
       "  </tbody>\n",
       "</table>\n",
       "<p>128 rows × 3 columns</p>\n",
       "</div>"
      ]
     },
     "metadata": {},
     "execution_count": 31
    }
   ],
   "metadata": {
    "execution": {
     "iopub.execute_input": "2021-08-07T13:53:49.437080Z",
     "iopub.status.busy": "2021-08-07T13:53:49.436192Z",
     "iopub.status.idle": "2021-08-07T13:53:49.456009Z",
     "shell.execute_reply": "2021-08-07T13:53:49.455453Z",
     "shell.execute_reply.started": "2021-08-07T12:09:26.969709Z"
    },
    "papermill": {
     "duration": 0.077955,
     "end_time": "2021-08-07T13:53:49.456156",
     "exception": false,
     "start_time": "2021-08-07T13:53:49.378201",
     "status": "completed"
    },
    "tags": []
   }
  },
  {
   "cell_type": "code",
   "execution_count": null,
   "source": [
    "# Rank the popularity of vaccines\r\n",
    "vr = vpc.groupby('vaccine')['total_vaccinations'].sum().reset_index()\r\n",
    "vr = vr.sort_values('total_vaccinations', ascending=False)\r\n",
    "vr"
   ],
   "outputs": [
    {
     "output_type": "execute_result",
     "data": {
      "text/plain": [
       "              vaccine  total_vaccinations\n",
       "4     Pfizer/BioNTech           642060353\n",
       "2             Moderna           197973681\n",
       "3  Oxford/AstraZeneca            65691859\n",
       "1     Johnson&Johnson            25556141\n",
       "6             Sinovac            24173391\n",
       "5   Sinopharm/Beijing             2096148\n",
       "7           Sputnik V             1848310\n",
       "0             CanSino              506741"
      ],
      "text/html": [
       "<div>\n",
       "<style scoped>\n",
       "    .dataframe tbody tr th:only-of-type {\n",
       "        vertical-align: middle;\n",
       "    }\n",
       "\n",
       "    .dataframe tbody tr th {\n",
       "        vertical-align: top;\n",
       "    }\n",
       "\n",
       "    .dataframe thead th {\n",
       "        text-align: right;\n",
       "    }\n",
       "</style>\n",
       "<table border=\"1\" class=\"dataframe\">\n",
       "  <thead>\n",
       "    <tr style=\"text-align: right;\">\n",
       "      <th></th>\n",
       "      <th>vaccine</th>\n",
       "      <th>total_vaccinations</th>\n",
       "    </tr>\n",
       "  </thead>\n",
       "  <tbody>\n",
       "    <tr>\n",
       "      <th>4</th>\n",
       "      <td>Pfizer/BioNTech</td>\n",
       "      <td>642060353</td>\n",
       "    </tr>\n",
       "    <tr>\n",
       "      <th>2</th>\n",
       "      <td>Moderna</td>\n",
       "      <td>197973681</td>\n",
       "    </tr>\n",
       "    <tr>\n",
       "      <th>3</th>\n",
       "      <td>Oxford/AstraZeneca</td>\n",
       "      <td>65691859</td>\n",
       "    </tr>\n",
       "    <tr>\n",
       "      <th>1</th>\n",
       "      <td>Johnson&amp;Johnson</td>\n",
       "      <td>25556141</td>\n",
       "    </tr>\n",
       "    <tr>\n",
       "      <th>6</th>\n",
       "      <td>Sinovac</td>\n",
       "      <td>24173391</td>\n",
       "    </tr>\n",
       "    <tr>\n",
       "      <th>5</th>\n",
       "      <td>Sinopharm/Beijing</td>\n",
       "      <td>2096148</td>\n",
       "    </tr>\n",
       "    <tr>\n",
       "      <th>7</th>\n",
       "      <td>Sputnik V</td>\n",
       "      <td>1848310</td>\n",
       "    </tr>\n",
       "    <tr>\n",
       "      <th>0</th>\n",
       "      <td>CanSino</td>\n",
       "      <td>506741</td>\n",
       "    </tr>\n",
       "  </tbody>\n",
       "</table>\n",
       "</div>"
      ]
     },
     "metadata": {},
     "execution_count": 32
    }
   ],
   "metadata": {
    "execution": {
     "iopub.execute_input": "2021-08-07T13:53:49.575613Z",
     "iopub.status.busy": "2021-08-07T13:53:49.573175Z",
     "iopub.status.idle": "2021-08-07T13:53:49.580032Z",
     "shell.execute_reply": "2021-08-07T13:53:49.579529Z",
     "shell.execute_reply.started": "2021-08-07T12:09:27.054808Z"
    },
    "papermill": {
     "duration": 0.069832,
     "end_time": "2021-08-07T13:53:49.580166",
     "exception": false,
     "start_time": "2021-08-07T13:53:49.510334",
     "status": "completed"
    },
    "tags": []
   }
  },
  {
   "cell_type": "code",
   "execution_count": null,
   "source": [
    "# Pieplot\r\n",
    "fig = px.pie(vr, values='total_vaccinations', names='vaccine', title='Vaccines Occupancy' )\r\n",
    "fig.show()"
   ],
   "outputs": [
    {
     "output_type": "display_data",
     "data": {
      "application/vnd.plotly.v1+json": {
       "config": {
        "plotlyServerURL": "https://plot.ly"
       },
       "data": [
        {
         "domain": {
          "x": [
           0,
           1
          ],
          "y": [
           0,
           1
          ]
         },
         "hovertemplate": "vaccine=%{label}<br>total_vaccinations=%{value}<extra></extra>",
         "labels": [
          "Pfizer/BioNTech",
          "Moderna",
          "Oxford/AstraZeneca",
          "Johnson&Johnson",
          "Sinovac",
          "Sinopharm/Beijing",
          "Sputnik V",
          "CanSino"
         ],
         "legendgroup": "",
         "name": "",
         "showlegend": true,
         "type": "pie",
         "values": [
          642060353,
          197973681,
          65691859,
          25556141,
          24173391,
          2096148,
          1848310,
          506741
         ]
        }
       ],
       "layout": {
        "legend": {
         "tracegroupgap": 0
        },
        "template": {
         "data": {
          "bar": [
           {
            "error_x": {
             "color": "#2a3f5f"
            },
            "error_y": {
             "color": "#2a3f5f"
            },
            "marker": {
             "line": {
              "color": "#E5ECF6",
              "width": 0.5
             },
             "pattern": {
              "fillmode": "overlay",
              "size": 10,
              "solidity": 0.2
             }
            },
            "type": "bar"
           }
          ],
          "barpolar": [
           {
            "marker": {
             "line": {
              "color": "#E5ECF6",
              "width": 0.5
             },
             "pattern": {
              "fillmode": "overlay",
              "size": 10,
              "solidity": 0.2
             }
            },
            "type": "barpolar"
           }
          ],
          "carpet": [
           {
            "aaxis": {
             "endlinecolor": "#2a3f5f",
             "gridcolor": "white",
             "linecolor": "white",
             "minorgridcolor": "white",
             "startlinecolor": "#2a3f5f"
            },
            "baxis": {
             "endlinecolor": "#2a3f5f",
             "gridcolor": "white",
             "linecolor": "white",
             "minorgridcolor": "white",
             "startlinecolor": "#2a3f5f"
            },
            "type": "carpet"
           }
          ],
          "choropleth": [
           {
            "colorbar": {
             "outlinewidth": 0,
             "ticks": ""
            },
            "type": "choropleth"
           }
          ],
          "contour": [
           {
            "colorbar": {
             "outlinewidth": 0,
             "ticks": ""
            },
            "colorscale": [
             [
              0,
              "#0d0887"
             ],
             [
              0.1111111111111111,
              "#46039f"
             ],
             [
              0.2222222222222222,
              "#7201a8"
             ],
             [
              0.3333333333333333,
              "#9c179e"
             ],
             [
              0.4444444444444444,
              "#bd3786"
             ],
             [
              0.5555555555555556,
              "#d8576b"
             ],
             [
              0.6666666666666666,
              "#ed7953"
             ],
             [
              0.7777777777777778,
              "#fb9f3a"
             ],
             [
              0.8888888888888888,
              "#fdca26"
             ],
             [
              1,
              "#f0f921"
             ]
            ],
            "type": "contour"
           }
          ],
          "contourcarpet": [
           {
            "colorbar": {
             "outlinewidth": 0,
             "ticks": ""
            },
            "type": "contourcarpet"
           }
          ],
          "heatmap": [
           {
            "colorbar": {
             "outlinewidth": 0,
             "ticks": ""
            },
            "colorscale": [
             [
              0,
              "#0d0887"
             ],
             [
              0.1111111111111111,
              "#46039f"
             ],
             [
              0.2222222222222222,
              "#7201a8"
             ],
             [
              0.3333333333333333,
              "#9c179e"
             ],
             [
              0.4444444444444444,
              "#bd3786"
             ],
             [
              0.5555555555555556,
              "#d8576b"
             ],
             [
              0.6666666666666666,
              "#ed7953"
             ],
             [
              0.7777777777777778,
              "#fb9f3a"
             ],
             [
              0.8888888888888888,
              "#fdca26"
             ],
             [
              1,
              "#f0f921"
             ]
            ],
            "type": "heatmap"
           }
          ],
          "heatmapgl": [
           {
            "colorbar": {
             "outlinewidth": 0,
             "ticks": ""
            },
            "colorscale": [
             [
              0,
              "#0d0887"
             ],
             [
              0.1111111111111111,
              "#46039f"
             ],
             [
              0.2222222222222222,
              "#7201a8"
             ],
             [
              0.3333333333333333,
              "#9c179e"
             ],
             [
              0.4444444444444444,
              "#bd3786"
             ],
             [
              0.5555555555555556,
              "#d8576b"
             ],
             [
              0.6666666666666666,
              "#ed7953"
             ],
             [
              0.7777777777777778,
              "#fb9f3a"
             ],
             [
              0.8888888888888888,
              "#fdca26"
             ],
             [
              1,
              "#f0f921"
             ]
            ],
            "type": "heatmapgl"
           }
          ],
          "histogram": [
           {
            "marker": {
             "pattern": {
              "fillmode": "overlay",
              "size": 10,
              "solidity": 0.2
             }
            },
            "type": "histogram"
           }
          ],
          "histogram2d": [
           {
            "colorbar": {
             "outlinewidth": 0,
             "ticks": ""
            },
            "colorscale": [
             [
              0,
              "#0d0887"
             ],
             [
              0.1111111111111111,
              "#46039f"
             ],
             [
              0.2222222222222222,
              "#7201a8"
             ],
             [
              0.3333333333333333,
              "#9c179e"
             ],
             [
              0.4444444444444444,
              "#bd3786"
             ],
             [
              0.5555555555555556,
              "#d8576b"
             ],
             [
              0.6666666666666666,
              "#ed7953"
             ],
             [
              0.7777777777777778,
              "#fb9f3a"
             ],
             [
              0.8888888888888888,
              "#fdca26"
             ],
             [
              1,
              "#f0f921"
             ]
            ],
            "type": "histogram2d"
           }
          ],
          "histogram2dcontour": [
           {
            "colorbar": {
             "outlinewidth": 0,
             "ticks": ""
            },
            "colorscale": [
             [
              0,
              "#0d0887"
             ],
             [
              0.1111111111111111,
              "#46039f"
             ],
             [
              0.2222222222222222,
              "#7201a8"
             ],
             [
              0.3333333333333333,
              "#9c179e"
             ],
             [
              0.4444444444444444,
              "#bd3786"
             ],
             [
              0.5555555555555556,
              "#d8576b"
             ],
             [
              0.6666666666666666,
              "#ed7953"
             ],
             [
              0.7777777777777778,
              "#fb9f3a"
             ],
             [
              0.8888888888888888,
              "#fdca26"
             ],
             [
              1,
              "#f0f921"
             ]
            ],
            "type": "histogram2dcontour"
           }
          ],
          "mesh3d": [
           {
            "colorbar": {
             "outlinewidth": 0,
             "ticks": ""
            },
            "type": "mesh3d"
           }
          ],
          "parcoords": [
           {
            "line": {
             "colorbar": {
              "outlinewidth": 0,
              "ticks": ""
             }
            },
            "type": "parcoords"
           }
          ],
          "pie": [
           {
            "automargin": true,
            "type": "pie"
           }
          ],
          "scatter": [
           {
            "marker": {
             "colorbar": {
              "outlinewidth": 0,
              "ticks": ""
             }
            },
            "type": "scatter"
           }
          ],
          "scatter3d": [
           {
            "line": {
             "colorbar": {
              "outlinewidth": 0,
              "ticks": ""
             }
            },
            "marker": {
             "colorbar": {
              "outlinewidth": 0,
              "ticks": ""
             }
            },
            "type": "scatter3d"
           }
          ],
          "scattercarpet": [
           {
            "marker": {
             "colorbar": {
              "outlinewidth": 0,
              "ticks": ""
             }
            },
            "type": "scattercarpet"
           }
          ],
          "scattergeo": [
           {
            "marker": {
             "colorbar": {
              "outlinewidth": 0,
              "ticks": ""
             }
            },
            "type": "scattergeo"
           }
          ],
          "scattergl": [
           {
            "marker": {
             "colorbar": {
              "outlinewidth": 0,
              "ticks": ""
             }
            },
            "type": "scattergl"
           }
          ],
          "scattermapbox": [
           {
            "marker": {
             "colorbar": {
              "outlinewidth": 0,
              "ticks": ""
             }
            },
            "type": "scattermapbox"
           }
          ],
          "scatterpolar": [
           {
            "marker": {
             "colorbar": {
              "outlinewidth": 0,
              "ticks": ""
             }
            },
            "type": "scatterpolar"
           }
          ],
          "scatterpolargl": [
           {
            "marker": {
             "colorbar": {
              "outlinewidth": 0,
              "ticks": ""
             }
            },
            "type": "scatterpolargl"
           }
          ],
          "scatterternary": [
           {
            "marker": {
             "colorbar": {
              "outlinewidth": 0,
              "ticks": ""
             }
            },
            "type": "scatterternary"
           }
          ],
          "surface": [
           {
            "colorbar": {
             "outlinewidth": 0,
             "ticks": ""
            },
            "colorscale": [
             [
              0,
              "#0d0887"
             ],
             [
              0.1111111111111111,
              "#46039f"
             ],
             [
              0.2222222222222222,
              "#7201a8"
             ],
             [
              0.3333333333333333,
              "#9c179e"
             ],
             [
              0.4444444444444444,
              "#bd3786"
             ],
             [
              0.5555555555555556,
              "#d8576b"
             ],
             [
              0.6666666666666666,
              "#ed7953"
             ],
             [
              0.7777777777777778,
              "#fb9f3a"
             ],
             [
              0.8888888888888888,
              "#fdca26"
             ],
             [
              1,
              "#f0f921"
             ]
            ],
            "type": "surface"
           }
          ],
          "table": [
           {
            "cells": {
             "fill": {
              "color": "#EBF0F8"
             },
             "line": {
              "color": "white"
             }
            },
            "header": {
             "fill": {
              "color": "#C8D4E3"
             },
             "line": {
              "color": "white"
             }
            },
            "type": "table"
           }
          ]
         },
         "layout": {
          "annotationdefaults": {
           "arrowcolor": "#2a3f5f",
           "arrowhead": 0,
           "arrowwidth": 1
          },
          "autotypenumbers": "strict",
          "coloraxis": {
           "colorbar": {
            "outlinewidth": 0,
            "ticks": ""
           }
          },
          "colorscale": {
           "diverging": [
            [
             0,
             "#8e0152"
            ],
            [
             0.1,
             "#c51b7d"
            ],
            [
             0.2,
             "#de77ae"
            ],
            [
             0.3,
             "#f1b6da"
            ],
            [
             0.4,
             "#fde0ef"
            ],
            [
             0.5,
             "#f7f7f7"
            ],
            [
             0.6,
             "#e6f5d0"
            ],
            [
             0.7,
             "#b8e186"
            ],
            [
             0.8,
             "#7fbc41"
            ],
            [
             0.9,
             "#4d9221"
            ],
            [
             1,
             "#276419"
            ]
           ],
           "sequential": [
            [
             0,
             "#0d0887"
            ],
            [
             0.1111111111111111,
             "#46039f"
            ],
            [
             0.2222222222222222,
             "#7201a8"
            ],
            [
             0.3333333333333333,
             "#9c179e"
            ],
            [
             0.4444444444444444,
             "#bd3786"
            ],
            [
             0.5555555555555556,
             "#d8576b"
            ],
            [
             0.6666666666666666,
             "#ed7953"
            ],
            [
             0.7777777777777778,
             "#fb9f3a"
            ],
            [
             0.8888888888888888,
             "#fdca26"
            ],
            [
             1,
             "#f0f921"
            ]
           ],
           "sequentialminus": [
            [
             0,
             "#0d0887"
            ],
            [
             0.1111111111111111,
             "#46039f"
            ],
            [
             0.2222222222222222,
             "#7201a8"
            ],
            [
             0.3333333333333333,
             "#9c179e"
            ],
            [
             0.4444444444444444,
             "#bd3786"
            ],
            [
             0.5555555555555556,
             "#d8576b"
            ],
            [
             0.6666666666666666,
             "#ed7953"
            ],
            [
             0.7777777777777778,
             "#fb9f3a"
            ],
            [
             0.8888888888888888,
             "#fdca26"
            ],
            [
             1,
             "#f0f921"
            ]
           ]
          },
          "colorway": [
           "#636efa",
           "#EF553B",
           "#00cc96",
           "#ab63fa",
           "#FFA15A",
           "#19d3f3",
           "#FF6692",
           "#B6E880",
           "#FF97FF",
           "#FECB52"
          ],
          "font": {
           "color": "#2a3f5f"
          },
          "geo": {
           "bgcolor": "white",
           "lakecolor": "white",
           "landcolor": "#E5ECF6",
           "showlakes": true,
           "showland": true,
           "subunitcolor": "white"
          },
          "hoverlabel": {
           "align": "left"
          },
          "hovermode": "closest",
          "mapbox": {
           "style": "light"
          },
          "paper_bgcolor": "white",
          "plot_bgcolor": "#E5ECF6",
          "polar": {
           "angularaxis": {
            "gridcolor": "white",
            "linecolor": "white",
            "ticks": ""
           },
           "bgcolor": "#E5ECF6",
           "radialaxis": {
            "gridcolor": "white",
            "linecolor": "white",
            "ticks": ""
           }
          },
          "scene": {
           "xaxis": {
            "backgroundcolor": "#E5ECF6",
            "gridcolor": "white",
            "gridwidth": 2,
            "linecolor": "white",
            "showbackground": true,
            "ticks": "",
            "zerolinecolor": "white"
           },
           "yaxis": {
            "backgroundcolor": "#E5ECF6",
            "gridcolor": "white",
            "gridwidth": 2,
            "linecolor": "white",
            "showbackground": true,
            "ticks": "",
            "zerolinecolor": "white"
           },
           "zaxis": {
            "backgroundcolor": "#E5ECF6",
            "gridcolor": "white",
            "gridwidth": 2,
            "linecolor": "white",
            "showbackground": true,
            "ticks": "",
            "zerolinecolor": "white"
           }
          },
          "shapedefaults": {
           "line": {
            "color": "#2a3f5f"
           }
          },
          "ternary": {
           "aaxis": {
            "gridcolor": "white",
            "linecolor": "white",
            "ticks": ""
           },
           "baxis": {
            "gridcolor": "white",
            "linecolor": "white",
            "ticks": ""
           },
           "bgcolor": "#E5ECF6",
           "caxis": {
            "gridcolor": "white",
            "linecolor": "white",
            "ticks": ""
           }
          },
          "title": {
           "x": 0.05
          },
          "xaxis": {
           "automargin": true,
           "gridcolor": "white",
           "linecolor": "white",
           "ticks": "",
           "title": {
            "standoff": 15
           },
           "zerolinecolor": "white",
           "zerolinewidth": 2
          },
          "yaxis": {
           "automargin": true,
           "gridcolor": "white",
           "linecolor": "white",
           "ticks": "",
           "title": {
            "standoff": 15
           },
           "zerolinecolor": "white",
           "zerolinewidth": 2
          }
         }
        },
        "title": {
         "text": "Vaccines Occupancy"
        }
       }
      }
     },
     "metadata": {}
    }
   ],
   "metadata": {
    "execution": {
     "iopub.execute_input": "2021-08-07T13:53:49.696239Z",
     "iopub.status.busy": "2021-08-07T13:53:49.695605Z",
     "iopub.status.idle": "2021-08-07T13:53:49.752430Z",
     "shell.execute_reply": "2021-08-07T13:53:49.751970Z",
     "shell.execute_reply.started": "2021-08-07T12:09:27.206458Z"
    },
    "papermill": {
     "duration": 0.1177,
     "end_time": "2021-08-07T13:53:49.752566",
     "exception": false,
     "start_time": "2021-08-07T13:53:49.634866",
     "status": "completed"
    },
    "tags": []
   }
  },
  {
   "cell_type": "markdown",
   "source": [
    "This pie chart illustrates the real domination of Pfizer/BioNTech. What a vaccine!"
   ],
   "metadata": {
    "papermill": {
     "duration": 0.054017,
     "end_time": "2021-08-07T13:53:49.861268",
     "exception": false,
     "start_time": "2021-08-07T13:53:49.807251",
     "status": "completed"
    },
    "tags": []
   }
  },
  {
   "cell_type": "code",
   "execution_count": null,
   "source": [
    "# Barplot\r\n",
    "fig = px.bar(vr, \r\n",
    "             y='total_vaccinations', \r\n",
    "             x='vaccine',\r\n",
    "             labels = {'vaccine' : 'Vaccines', 'total_vaccinations' : 'Total Vaccinations'},\r\n",
    "             title = \"Overview of Vaccines\"\r\n",
    "            )\r\n",
    "fig.show()"
   ],
   "outputs": [
    {
     "output_type": "display_data",
     "data": {
      "application/vnd.plotly.v1+json": {
       "config": {
        "plotlyServerURL": "https://plot.ly"
       },
       "data": [
        {
         "alignmentgroup": "True",
         "hovertemplate": "Vaccines=%{x}<br>Total Vaccinations=%{y}<extra></extra>",
         "legendgroup": "",
         "marker": {
          "color": "#636efa",
          "pattern": {
           "shape": ""
          }
         },
         "name": "",
         "offsetgroup": "",
         "orientation": "v",
         "showlegend": false,
         "textposition": "auto",
         "type": "bar",
         "x": [
          "Pfizer/BioNTech",
          "Moderna",
          "Oxford/AstraZeneca",
          "Johnson&Johnson",
          "Sinovac",
          "Sinopharm/Beijing",
          "Sputnik V",
          "CanSino"
         ],
         "xaxis": "x",
         "y": [
          642060353,
          197973681,
          65691859,
          25556141,
          24173391,
          2096148,
          1848310,
          506741
         ],
         "yaxis": "y"
        }
       ],
       "layout": {
        "barmode": "relative",
        "legend": {
         "tracegroupgap": 0
        },
        "template": {
         "data": {
          "bar": [
           {
            "error_x": {
             "color": "#2a3f5f"
            },
            "error_y": {
             "color": "#2a3f5f"
            },
            "marker": {
             "line": {
              "color": "#E5ECF6",
              "width": 0.5
             },
             "pattern": {
              "fillmode": "overlay",
              "size": 10,
              "solidity": 0.2
             }
            },
            "type": "bar"
           }
          ],
          "barpolar": [
           {
            "marker": {
             "line": {
              "color": "#E5ECF6",
              "width": 0.5
             },
             "pattern": {
              "fillmode": "overlay",
              "size": 10,
              "solidity": 0.2
             }
            },
            "type": "barpolar"
           }
          ],
          "carpet": [
           {
            "aaxis": {
             "endlinecolor": "#2a3f5f",
             "gridcolor": "white",
             "linecolor": "white",
             "minorgridcolor": "white",
             "startlinecolor": "#2a3f5f"
            },
            "baxis": {
             "endlinecolor": "#2a3f5f",
             "gridcolor": "white",
             "linecolor": "white",
             "minorgridcolor": "white",
             "startlinecolor": "#2a3f5f"
            },
            "type": "carpet"
           }
          ],
          "choropleth": [
           {
            "colorbar": {
             "outlinewidth": 0,
             "ticks": ""
            },
            "type": "choropleth"
           }
          ],
          "contour": [
           {
            "colorbar": {
             "outlinewidth": 0,
             "ticks": ""
            },
            "colorscale": [
             [
              0,
              "#0d0887"
             ],
             [
              0.1111111111111111,
              "#46039f"
             ],
             [
              0.2222222222222222,
              "#7201a8"
             ],
             [
              0.3333333333333333,
              "#9c179e"
             ],
             [
              0.4444444444444444,
              "#bd3786"
             ],
             [
              0.5555555555555556,
              "#d8576b"
             ],
             [
              0.6666666666666666,
              "#ed7953"
             ],
             [
              0.7777777777777778,
              "#fb9f3a"
             ],
             [
              0.8888888888888888,
              "#fdca26"
             ],
             [
              1,
              "#f0f921"
             ]
            ],
            "type": "contour"
           }
          ],
          "contourcarpet": [
           {
            "colorbar": {
             "outlinewidth": 0,
             "ticks": ""
            },
            "type": "contourcarpet"
           }
          ],
          "heatmap": [
           {
            "colorbar": {
             "outlinewidth": 0,
             "ticks": ""
            },
            "colorscale": [
             [
              0,
              "#0d0887"
             ],
             [
              0.1111111111111111,
              "#46039f"
             ],
             [
              0.2222222222222222,
              "#7201a8"
             ],
             [
              0.3333333333333333,
              "#9c179e"
             ],
             [
              0.4444444444444444,
              "#bd3786"
             ],
             [
              0.5555555555555556,
              "#d8576b"
             ],
             [
              0.6666666666666666,
              "#ed7953"
             ],
             [
              0.7777777777777778,
              "#fb9f3a"
             ],
             [
              0.8888888888888888,
              "#fdca26"
             ],
             [
              1,
              "#f0f921"
             ]
            ],
            "type": "heatmap"
           }
          ],
          "heatmapgl": [
           {
            "colorbar": {
             "outlinewidth": 0,
             "ticks": ""
            },
            "colorscale": [
             [
              0,
              "#0d0887"
             ],
             [
              0.1111111111111111,
              "#46039f"
             ],
             [
              0.2222222222222222,
              "#7201a8"
             ],
             [
              0.3333333333333333,
              "#9c179e"
             ],
             [
              0.4444444444444444,
              "#bd3786"
             ],
             [
              0.5555555555555556,
              "#d8576b"
             ],
             [
              0.6666666666666666,
              "#ed7953"
             ],
             [
              0.7777777777777778,
              "#fb9f3a"
             ],
             [
              0.8888888888888888,
              "#fdca26"
             ],
             [
              1,
              "#f0f921"
             ]
            ],
            "type": "heatmapgl"
           }
          ],
          "histogram": [
           {
            "marker": {
             "pattern": {
              "fillmode": "overlay",
              "size": 10,
              "solidity": 0.2
             }
            },
            "type": "histogram"
           }
          ],
          "histogram2d": [
           {
            "colorbar": {
             "outlinewidth": 0,
             "ticks": ""
            },
            "colorscale": [
             [
              0,
              "#0d0887"
             ],
             [
              0.1111111111111111,
              "#46039f"
             ],
             [
              0.2222222222222222,
              "#7201a8"
             ],
             [
              0.3333333333333333,
              "#9c179e"
             ],
             [
              0.4444444444444444,
              "#bd3786"
             ],
             [
              0.5555555555555556,
              "#d8576b"
             ],
             [
              0.6666666666666666,
              "#ed7953"
             ],
             [
              0.7777777777777778,
              "#fb9f3a"
             ],
             [
              0.8888888888888888,
              "#fdca26"
             ],
             [
              1,
              "#f0f921"
             ]
            ],
            "type": "histogram2d"
           }
          ],
          "histogram2dcontour": [
           {
            "colorbar": {
             "outlinewidth": 0,
             "ticks": ""
            },
            "colorscale": [
             [
              0,
              "#0d0887"
             ],
             [
              0.1111111111111111,
              "#46039f"
             ],
             [
              0.2222222222222222,
              "#7201a8"
             ],
             [
              0.3333333333333333,
              "#9c179e"
             ],
             [
              0.4444444444444444,
              "#bd3786"
             ],
             [
              0.5555555555555556,
              "#d8576b"
             ],
             [
              0.6666666666666666,
              "#ed7953"
             ],
             [
              0.7777777777777778,
              "#fb9f3a"
             ],
             [
              0.8888888888888888,
              "#fdca26"
             ],
             [
              1,
              "#f0f921"
             ]
            ],
            "type": "histogram2dcontour"
           }
          ],
          "mesh3d": [
           {
            "colorbar": {
             "outlinewidth": 0,
             "ticks": ""
            },
            "type": "mesh3d"
           }
          ],
          "parcoords": [
           {
            "line": {
             "colorbar": {
              "outlinewidth": 0,
              "ticks": ""
             }
            },
            "type": "parcoords"
           }
          ],
          "pie": [
           {
            "automargin": true,
            "type": "pie"
           }
          ],
          "scatter": [
           {
            "marker": {
             "colorbar": {
              "outlinewidth": 0,
              "ticks": ""
             }
            },
            "type": "scatter"
           }
          ],
          "scatter3d": [
           {
            "line": {
             "colorbar": {
              "outlinewidth": 0,
              "ticks": ""
             }
            },
            "marker": {
             "colorbar": {
              "outlinewidth": 0,
              "ticks": ""
             }
            },
            "type": "scatter3d"
           }
          ],
          "scattercarpet": [
           {
            "marker": {
             "colorbar": {
              "outlinewidth": 0,
              "ticks": ""
             }
            },
            "type": "scattercarpet"
           }
          ],
          "scattergeo": [
           {
            "marker": {
             "colorbar": {
              "outlinewidth": 0,
              "ticks": ""
             }
            },
            "type": "scattergeo"
           }
          ],
          "scattergl": [
           {
            "marker": {
             "colorbar": {
              "outlinewidth": 0,
              "ticks": ""
             }
            },
            "type": "scattergl"
           }
          ],
          "scattermapbox": [
           {
            "marker": {
             "colorbar": {
              "outlinewidth": 0,
              "ticks": ""
             }
            },
            "type": "scattermapbox"
           }
          ],
          "scatterpolar": [
           {
            "marker": {
             "colorbar": {
              "outlinewidth": 0,
              "ticks": ""
             }
            },
            "type": "scatterpolar"
           }
          ],
          "scatterpolargl": [
           {
            "marker": {
             "colorbar": {
              "outlinewidth": 0,
              "ticks": ""
             }
            },
            "type": "scatterpolargl"
           }
          ],
          "scatterternary": [
           {
            "marker": {
             "colorbar": {
              "outlinewidth": 0,
              "ticks": ""
             }
            },
            "type": "scatterternary"
           }
          ],
          "surface": [
           {
            "colorbar": {
             "outlinewidth": 0,
             "ticks": ""
            },
            "colorscale": [
             [
              0,
              "#0d0887"
             ],
             [
              0.1111111111111111,
              "#46039f"
             ],
             [
              0.2222222222222222,
              "#7201a8"
             ],
             [
              0.3333333333333333,
              "#9c179e"
             ],
             [
              0.4444444444444444,
              "#bd3786"
             ],
             [
              0.5555555555555556,
              "#d8576b"
             ],
             [
              0.6666666666666666,
              "#ed7953"
             ],
             [
              0.7777777777777778,
              "#fb9f3a"
             ],
             [
              0.8888888888888888,
              "#fdca26"
             ],
             [
              1,
              "#f0f921"
             ]
            ],
            "type": "surface"
           }
          ],
          "table": [
           {
            "cells": {
             "fill": {
              "color": "#EBF0F8"
             },
             "line": {
              "color": "white"
             }
            },
            "header": {
             "fill": {
              "color": "#C8D4E3"
             },
             "line": {
              "color": "white"
             }
            },
            "type": "table"
           }
          ]
         },
         "layout": {
          "annotationdefaults": {
           "arrowcolor": "#2a3f5f",
           "arrowhead": 0,
           "arrowwidth": 1
          },
          "autotypenumbers": "strict",
          "coloraxis": {
           "colorbar": {
            "outlinewidth": 0,
            "ticks": ""
           }
          },
          "colorscale": {
           "diverging": [
            [
             0,
             "#8e0152"
            ],
            [
             0.1,
             "#c51b7d"
            ],
            [
             0.2,
             "#de77ae"
            ],
            [
             0.3,
             "#f1b6da"
            ],
            [
             0.4,
             "#fde0ef"
            ],
            [
             0.5,
             "#f7f7f7"
            ],
            [
             0.6,
             "#e6f5d0"
            ],
            [
             0.7,
             "#b8e186"
            ],
            [
             0.8,
             "#7fbc41"
            ],
            [
             0.9,
             "#4d9221"
            ],
            [
             1,
             "#276419"
            ]
           ],
           "sequential": [
            [
             0,
             "#0d0887"
            ],
            [
             0.1111111111111111,
             "#46039f"
            ],
            [
             0.2222222222222222,
             "#7201a8"
            ],
            [
             0.3333333333333333,
             "#9c179e"
            ],
            [
             0.4444444444444444,
             "#bd3786"
            ],
            [
             0.5555555555555556,
             "#d8576b"
            ],
            [
             0.6666666666666666,
             "#ed7953"
            ],
            [
             0.7777777777777778,
             "#fb9f3a"
            ],
            [
             0.8888888888888888,
             "#fdca26"
            ],
            [
             1,
             "#f0f921"
            ]
           ],
           "sequentialminus": [
            [
             0,
             "#0d0887"
            ],
            [
             0.1111111111111111,
             "#46039f"
            ],
            [
             0.2222222222222222,
             "#7201a8"
            ],
            [
             0.3333333333333333,
             "#9c179e"
            ],
            [
             0.4444444444444444,
             "#bd3786"
            ],
            [
             0.5555555555555556,
             "#d8576b"
            ],
            [
             0.6666666666666666,
             "#ed7953"
            ],
            [
             0.7777777777777778,
             "#fb9f3a"
            ],
            [
             0.8888888888888888,
             "#fdca26"
            ],
            [
             1,
             "#f0f921"
            ]
           ]
          },
          "colorway": [
           "#636efa",
           "#EF553B",
           "#00cc96",
           "#ab63fa",
           "#FFA15A",
           "#19d3f3",
           "#FF6692",
           "#B6E880",
           "#FF97FF",
           "#FECB52"
          ],
          "font": {
           "color": "#2a3f5f"
          },
          "geo": {
           "bgcolor": "white",
           "lakecolor": "white",
           "landcolor": "#E5ECF6",
           "showlakes": true,
           "showland": true,
           "subunitcolor": "white"
          },
          "hoverlabel": {
           "align": "left"
          },
          "hovermode": "closest",
          "mapbox": {
           "style": "light"
          },
          "paper_bgcolor": "white",
          "plot_bgcolor": "#E5ECF6",
          "polar": {
           "angularaxis": {
            "gridcolor": "white",
            "linecolor": "white",
            "ticks": ""
           },
           "bgcolor": "#E5ECF6",
           "radialaxis": {
            "gridcolor": "white",
            "linecolor": "white",
            "ticks": ""
           }
          },
          "scene": {
           "xaxis": {
            "backgroundcolor": "#E5ECF6",
            "gridcolor": "white",
            "gridwidth": 2,
            "linecolor": "white",
            "showbackground": true,
            "ticks": "",
            "zerolinecolor": "white"
           },
           "yaxis": {
            "backgroundcolor": "#E5ECF6",
            "gridcolor": "white",
            "gridwidth": 2,
            "linecolor": "white",
            "showbackground": true,
            "ticks": "",
            "zerolinecolor": "white"
           },
           "zaxis": {
            "backgroundcolor": "#E5ECF6",
            "gridcolor": "white",
            "gridwidth": 2,
            "linecolor": "white",
            "showbackground": true,
            "ticks": "",
            "zerolinecolor": "white"
           }
          },
          "shapedefaults": {
           "line": {
            "color": "#2a3f5f"
           }
          },
          "ternary": {
           "aaxis": {
            "gridcolor": "white",
            "linecolor": "white",
            "ticks": ""
           },
           "baxis": {
            "gridcolor": "white",
            "linecolor": "white",
            "ticks": ""
           },
           "bgcolor": "#E5ECF6",
           "caxis": {
            "gridcolor": "white",
            "linecolor": "white",
            "ticks": ""
           }
          },
          "title": {
           "x": 0.05
          },
          "xaxis": {
           "automargin": true,
           "gridcolor": "white",
           "linecolor": "white",
           "ticks": "",
           "title": {
            "standoff": 15
           },
           "zerolinecolor": "white",
           "zerolinewidth": 2
          },
          "yaxis": {
           "automargin": true,
           "gridcolor": "white",
           "linecolor": "white",
           "ticks": "",
           "title": {
            "standoff": 15
           },
           "zerolinecolor": "white",
           "zerolinewidth": 2
          }
         }
        },
        "title": {
         "text": "Overview of Vaccines"
        },
        "xaxis": {
         "anchor": "y",
         "domain": [
          0,
          1
         ],
         "title": {
          "text": "Vaccines"
         }
        },
        "yaxis": {
         "anchor": "x",
         "domain": [
          0,
          1
         ],
         "title": {
          "text": "Total Vaccinations"
         }
        }
       }
      }
     },
     "metadata": {}
    }
   ],
   "metadata": {
    "execution": {
     "iopub.execute_input": "2021-08-07T13:53:50.009976Z",
     "iopub.status.busy": "2021-08-07T13:53:49.998388Z",
     "iopub.status.idle": "2021-08-07T13:53:50.028180Z",
     "shell.execute_reply": "2021-08-07T13:53:50.027295Z",
     "shell.execute_reply.started": "2021-08-07T12:09:27.345001Z"
    },
    "papermill": {
     "duration": 0.11232,
     "end_time": "2021-08-07T13:53:50.028317",
     "exception": false,
     "start_time": "2021-08-07T13:53:49.915997",
     "status": "completed"
    },
    "tags": []
   }
  },
  {
   "cell_type": "markdown",
   "source": [
    "There are only 33 countries mentioned in the dataset. However, it is enough to figure out that Pfizer/BioNTech and Moderna are the leaders in this race. While, the two vaccines made by Chinese (CanSino, Sinopharm/Beijing) look unpopular. "
   ],
   "metadata": {
    "papermill": {
     "duration": 0.069354,
     "end_time": "2021-08-07T13:53:50.152838",
     "exception": false,
     "start_time": "2021-08-07T13:53:50.083484",
     "status": "completed"
    },
    "tags": []
   }
  },
  {
   "cell_type": "markdown",
   "source": [
    "Since one country may uses several types of vaccines. I decided to make a table to look at the total number of vaccines they have used so far."
   ],
   "metadata": {
    "papermill": {
     "duration": 0.056491,
     "end_time": "2021-08-07T13:53:50.281538",
     "exception": false,
     "start_time": "2021-08-07T13:53:50.225047",
     "status": "completed"
    },
    "tags": []
   }
  },
  {
   "cell_type": "code",
   "execution_count": null,
   "source": [
    "# Creat pivot table\r\n",
    "pvt = pd.pivot_table(data = vbm, index = ['location'], columns = ['vaccine'], values = 'total_vaccinations', aggfunc = 'max')\r\n",
    "pvt.fillna(0) # Fill null values by 0 to have a better view of the table"
   ],
   "outputs": [
    {
     "output_type": "execute_result",
     "data": {
      "text/plain": [
       "vaccine        CanSino  Johnson&Johnson   Moderna  Oxford/AstraZeneca  \\\n",
       "location                                                                \n",
       "Austria              0           211849    975804             1572363   \n",
       "Belgium              0           319928   1251731             2673762   \n",
       "Bulgaria             0            88846    258066              476371   \n",
       "Chile           506741                0         0              412797   \n",
       "Croatia              0            52562    301710              539025   \n",
       "Cyprus               0            18089     77849              251076   \n",
       "Czechia              0           156396    863774              864916   \n",
       "Denmark              0            47734    799218              154453   \n",
       "Estonia              0            38191    106685              236109   \n",
       "Finland              0                0    549142              552077   \n",
       "France               0           903496   7449621             7727594   \n",
       "Germany              0          2506846   8743978            12547233   \n",
       "Hong Kong            0                0         0                   0   \n",
       "Hungary              0           121527    680613             1240410   \n",
       "Iceland              0            53290     41994              115277   \n",
       "Ireland              0           222000    527215                   0   \n",
       "Italy                0          1374198   7717070            11872926   \n",
       "Japan                0                0   5687427                   0   \n",
       "Latvia               0           104984    223068              293918   \n",
       "Liechtenstein        0                0     26305                   0   \n",
       "Lithuania            0           222296    229677              522630   \n",
       "Luxembourg           0            32871     66407              104940   \n",
       "Malta                0            13779     41957              197852   \n",
       "Netherlands          0           770699   1839859             2837382   \n",
       "Poland               0          1425936   3010578             5258854   \n",
       "Portugal             0           752587   1344830             2214912   \n",
       "Romania              0           492397    725050              845684   \n",
       "Slovakia             0            36663    443944              836028   \n",
       "Slovenia             0            71231    175411              313994   \n",
       "Spain                0          1843639   6200468             9618212   \n",
       "Sweden               0                0   1183074             1326943   \n",
       "Switzerland          0                0   6042447                   0   \n",
       "United States        0         13674107 140388709                   0   \n",
       "Uruguay              0                0         0               84121   \n",
       "\n",
       "vaccine        Pfizer/BioNTech  Sinopharm/Beijing  Sinovac  Sputnik V  \n",
       "location                                                               \n",
       "Austria                6948170                  0        0          0  \n",
       "Belgium               10145990                  0        0          0  \n",
       "Bulgaria               1212406                  0        0          0  \n",
       "Chile                  6242527                  0 18526768          0  \n",
       "Croatia                2185003                  0        0          0  \n",
       "Cyprus                  648196                  0        0          0  \n",
       "Czechia                8787293                  0        0          0  \n",
       "Denmark                6142986                  0        0          0  \n",
       "Estonia                 769293                  0        0          0  \n",
       "Finland                4576456                  0        0          0  \n",
       "France                60388619                  0        0          0  \n",
       "Germany               71211983                  0        0          0  \n",
       "Hong Kong              3767994                  0  2412097          0  \n",
       "Hungary                4578174            2096148        0    1813006  \n",
       "Iceland                 266644                  0        0          0  \n",
       "Ireland                4060476                  0        0          0  \n",
       "Italy                 50739686                  0        0          0  \n",
       "Japan                 86647668                  0        0          0  \n",
       "Latvia                  765226                  0        0          0  \n",
       "Liechtenstein            10682                  0        0          0  \n",
       "Lithuania              1816191                  0        0          0  \n",
       "Luxembourg              475010                  0        0          0  \n",
       "Malta                   487712                  0        0          0  \n",
       "Netherlands           15376137                  0        0          0  \n",
       "Poland                23872611                  0        0          0  \n",
       "Portugal               8847009                  0        0          0  \n",
       "Romania                7441548                  0        0          0  \n",
       "Slovakia               2812185                  0        0      35304  \n",
       "Slovenia               1070557                  0        0          0  \n",
       "Spain                 39862660                  0        0          0  \n",
       "Sweden                 8281676                  0        0          0  \n",
       "Switzerland            3042849                  0        0          0  \n",
       "United States        197016306                  0        0          0  \n",
       "Uruguay                1562430                  0  3234526          0  "
      ],
      "text/html": [
       "<div>\n",
       "<style scoped>\n",
       "    .dataframe tbody tr th:only-of-type {\n",
       "        vertical-align: middle;\n",
       "    }\n",
       "\n",
       "    .dataframe tbody tr th {\n",
       "        vertical-align: top;\n",
       "    }\n",
       "\n",
       "    .dataframe thead th {\n",
       "        text-align: right;\n",
       "    }\n",
       "</style>\n",
       "<table border=\"1\" class=\"dataframe\">\n",
       "  <thead>\n",
       "    <tr style=\"text-align: right;\">\n",
       "      <th>vaccine</th>\n",
       "      <th>CanSino</th>\n",
       "      <th>Johnson&amp;Johnson</th>\n",
       "      <th>Moderna</th>\n",
       "      <th>Oxford/AstraZeneca</th>\n",
       "      <th>Pfizer/BioNTech</th>\n",
       "      <th>Sinopharm/Beijing</th>\n",
       "      <th>Sinovac</th>\n",
       "      <th>Sputnik V</th>\n",
       "    </tr>\n",
       "    <tr>\n",
       "      <th>location</th>\n",
       "      <th></th>\n",
       "      <th></th>\n",
       "      <th></th>\n",
       "      <th></th>\n",
       "      <th></th>\n",
       "      <th></th>\n",
       "      <th></th>\n",
       "      <th></th>\n",
       "    </tr>\n",
       "  </thead>\n",
       "  <tbody>\n",
       "    <tr>\n",
       "      <th>Austria</th>\n",
       "      <td>0</td>\n",
       "      <td>211849</td>\n",
       "      <td>975804</td>\n",
       "      <td>1572363</td>\n",
       "      <td>6948170</td>\n",
       "      <td>0</td>\n",
       "      <td>0</td>\n",
       "      <td>0</td>\n",
       "    </tr>\n",
       "    <tr>\n",
       "      <th>Belgium</th>\n",
       "      <td>0</td>\n",
       "      <td>319928</td>\n",
       "      <td>1251731</td>\n",
       "      <td>2673762</td>\n",
       "      <td>10145990</td>\n",
       "      <td>0</td>\n",
       "      <td>0</td>\n",
       "      <td>0</td>\n",
       "    </tr>\n",
       "    <tr>\n",
       "      <th>Bulgaria</th>\n",
       "      <td>0</td>\n",
       "      <td>88846</td>\n",
       "      <td>258066</td>\n",
       "      <td>476371</td>\n",
       "      <td>1212406</td>\n",
       "      <td>0</td>\n",
       "      <td>0</td>\n",
       "      <td>0</td>\n",
       "    </tr>\n",
       "    <tr>\n",
       "      <th>Chile</th>\n",
       "      <td>506741</td>\n",
       "      <td>0</td>\n",
       "      <td>0</td>\n",
       "      <td>412797</td>\n",
       "      <td>6242527</td>\n",
       "      <td>0</td>\n",
       "      <td>18526768</td>\n",
       "      <td>0</td>\n",
       "    </tr>\n",
       "    <tr>\n",
       "      <th>Croatia</th>\n",
       "      <td>0</td>\n",
       "      <td>52562</td>\n",
       "      <td>301710</td>\n",
       "      <td>539025</td>\n",
       "      <td>2185003</td>\n",
       "      <td>0</td>\n",
       "      <td>0</td>\n",
       "      <td>0</td>\n",
       "    </tr>\n",
       "    <tr>\n",
       "      <th>Cyprus</th>\n",
       "      <td>0</td>\n",
       "      <td>18089</td>\n",
       "      <td>77849</td>\n",
       "      <td>251076</td>\n",
       "      <td>648196</td>\n",
       "      <td>0</td>\n",
       "      <td>0</td>\n",
       "      <td>0</td>\n",
       "    </tr>\n",
       "    <tr>\n",
       "      <th>Czechia</th>\n",
       "      <td>0</td>\n",
       "      <td>156396</td>\n",
       "      <td>863774</td>\n",
       "      <td>864916</td>\n",
       "      <td>8787293</td>\n",
       "      <td>0</td>\n",
       "      <td>0</td>\n",
       "      <td>0</td>\n",
       "    </tr>\n",
       "    <tr>\n",
       "      <th>Denmark</th>\n",
       "      <td>0</td>\n",
       "      <td>47734</td>\n",
       "      <td>799218</td>\n",
       "      <td>154453</td>\n",
       "      <td>6142986</td>\n",
       "      <td>0</td>\n",
       "      <td>0</td>\n",
       "      <td>0</td>\n",
       "    </tr>\n",
       "    <tr>\n",
       "      <th>Estonia</th>\n",
       "      <td>0</td>\n",
       "      <td>38191</td>\n",
       "      <td>106685</td>\n",
       "      <td>236109</td>\n",
       "      <td>769293</td>\n",
       "      <td>0</td>\n",
       "      <td>0</td>\n",
       "      <td>0</td>\n",
       "    </tr>\n",
       "    <tr>\n",
       "      <th>Finland</th>\n",
       "      <td>0</td>\n",
       "      <td>0</td>\n",
       "      <td>549142</td>\n",
       "      <td>552077</td>\n",
       "      <td>4576456</td>\n",
       "      <td>0</td>\n",
       "      <td>0</td>\n",
       "      <td>0</td>\n",
       "    </tr>\n",
       "    <tr>\n",
       "      <th>France</th>\n",
       "      <td>0</td>\n",
       "      <td>903496</td>\n",
       "      <td>7449621</td>\n",
       "      <td>7727594</td>\n",
       "      <td>60388619</td>\n",
       "      <td>0</td>\n",
       "      <td>0</td>\n",
       "      <td>0</td>\n",
       "    </tr>\n",
       "    <tr>\n",
       "      <th>Germany</th>\n",
       "      <td>0</td>\n",
       "      <td>2506846</td>\n",
       "      <td>8743978</td>\n",
       "      <td>12547233</td>\n",
       "      <td>71211983</td>\n",
       "      <td>0</td>\n",
       "      <td>0</td>\n",
       "      <td>0</td>\n",
       "    </tr>\n",
       "    <tr>\n",
       "      <th>Hong Kong</th>\n",
       "      <td>0</td>\n",
       "      <td>0</td>\n",
       "      <td>0</td>\n",
       "      <td>0</td>\n",
       "      <td>3767994</td>\n",
       "      <td>0</td>\n",
       "      <td>2412097</td>\n",
       "      <td>0</td>\n",
       "    </tr>\n",
       "    <tr>\n",
       "      <th>Hungary</th>\n",
       "      <td>0</td>\n",
       "      <td>121527</td>\n",
       "      <td>680613</td>\n",
       "      <td>1240410</td>\n",
       "      <td>4578174</td>\n",
       "      <td>2096148</td>\n",
       "      <td>0</td>\n",
       "      <td>1813006</td>\n",
       "    </tr>\n",
       "    <tr>\n",
       "      <th>Iceland</th>\n",
       "      <td>0</td>\n",
       "      <td>53290</td>\n",
       "      <td>41994</td>\n",
       "      <td>115277</td>\n",
       "      <td>266644</td>\n",
       "      <td>0</td>\n",
       "      <td>0</td>\n",
       "      <td>0</td>\n",
       "    </tr>\n",
       "    <tr>\n",
       "      <th>Ireland</th>\n",
       "      <td>0</td>\n",
       "      <td>222000</td>\n",
       "      <td>527215</td>\n",
       "      <td>0</td>\n",
       "      <td>4060476</td>\n",
       "      <td>0</td>\n",
       "      <td>0</td>\n",
       "      <td>0</td>\n",
       "    </tr>\n",
       "    <tr>\n",
       "      <th>Italy</th>\n",
       "      <td>0</td>\n",
       "      <td>1374198</td>\n",
       "      <td>7717070</td>\n",
       "      <td>11872926</td>\n",
       "      <td>50739686</td>\n",
       "      <td>0</td>\n",
       "      <td>0</td>\n",
       "      <td>0</td>\n",
       "    </tr>\n",
       "    <tr>\n",
       "      <th>Japan</th>\n",
       "      <td>0</td>\n",
       "      <td>0</td>\n",
       "      <td>5687427</td>\n",
       "      <td>0</td>\n",
       "      <td>86647668</td>\n",
       "      <td>0</td>\n",
       "      <td>0</td>\n",
       "      <td>0</td>\n",
       "    </tr>\n",
       "    <tr>\n",
       "      <th>Latvia</th>\n",
       "      <td>0</td>\n",
       "      <td>104984</td>\n",
       "      <td>223068</td>\n",
       "      <td>293918</td>\n",
       "      <td>765226</td>\n",
       "      <td>0</td>\n",
       "      <td>0</td>\n",
       "      <td>0</td>\n",
       "    </tr>\n",
       "    <tr>\n",
       "      <th>Liechtenstein</th>\n",
       "      <td>0</td>\n",
       "      <td>0</td>\n",
       "      <td>26305</td>\n",
       "      <td>0</td>\n",
       "      <td>10682</td>\n",
       "      <td>0</td>\n",
       "      <td>0</td>\n",
       "      <td>0</td>\n",
       "    </tr>\n",
       "    <tr>\n",
       "      <th>Lithuania</th>\n",
       "      <td>0</td>\n",
       "      <td>222296</td>\n",
       "      <td>229677</td>\n",
       "      <td>522630</td>\n",
       "      <td>1816191</td>\n",
       "      <td>0</td>\n",
       "      <td>0</td>\n",
       "      <td>0</td>\n",
       "    </tr>\n",
       "    <tr>\n",
       "      <th>Luxembourg</th>\n",
       "      <td>0</td>\n",
       "      <td>32871</td>\n",
       "      <td>66407</td>\n",
       "      <td>104940</td>\n",
       "      <td>475010</td>\n",
       "      <td>0</td>\n",
       "      <td>0</td>\n",
       "      <td>0</td>\n",
       "    </tr>\n",
       "    <tr>\n",
       "      <th>Malta</th>\n",
       "      <td>0</td>\n",
       "      <td>13779</td>\n",
       "      <td>41957</td>\n",
       "      <td>197852</td>\n",
       "      <td>487712</td>\n",
       "      <td>0</td>\n",
       "      <td>0</td>\n",
       "      <td>0</td>\n",
       "    </tr>\n",
       "    <tr>\n",
       "      <th>Netherlands</th>\n",
       "      <td>0</td>\n",
       "      <td>770699</td>\n",
       "      <td>1839859</td>\n",
       "      <td>2837382</td>\n",
       "      <td>15376137</td>\n",
       "      <td>0</td>\n",
       "      <td>0</td>\n",
       "      <td>0</td>\n",
       "    </tr>\n",
       "    <tr>\n",
       "      <th>Poland</th>\n",
       "      <td>0</td>\n",
       "      <td>1425936</td>\n",
       "      <td>3010578</td>\n",
       "      <td>5258854</td>\n",
       "      <td>23872611</td>\n",
       "      <td>0</td>\n",
       "      <td>0</td>\n",
       "      <td>0</td>\n",
       "    </tr>\n",
       "    <tr>\n",
       "      <th>Portugal</th>\n",
       "      <td>0</td>\n",
       "      <td>752587</td>\n",
       "      <td>1344830</td>\n",
       "      <td>2214912</td>\n",
       "      <td>8847009</td>\n",
       "      <td>0</td>\n",
       "      <td>0</td>\n",
       "      <td>0</td>\n",
       "    </tr>\n",
       "    <tr>\n",
       "      <th>Romania</th>\n",
       "      <td>0</td>\n",
       "      <td>492397</td>\n",
       "      <td>725050</td>\n",
       "      <td>845684</td>\n",
       "      <td>7441548</td>\n",
       "      <td>0</td>\n",
       "      <td>0</td>\n",
       "      <td>0</td>\n",
       "    </tr>\n",
       "    <tr>\n",
       "      <th>Slovakia</th>\n",
       "      <td>0</td>\n",
       "      <td>36663</td>\n",
       "      <td>443944</td>\n",
       "      <td>836028</td>\n",
       "      <td>2812185</td>\n",
       "      <td>0</td>\n",
       "      <td>0</td>\n",
       "      <td>35304</td>\n",
       "    </tr>\n",
       "    <tr>\n",
       "      <th>Slovenia</th>\n",
       "      <td>0</td>\n",
       "      <td>71231</td>\n",
       "      <td>175411</td>\n",
       "      <td>313994</td>\n",
       "      <td>1070557</td>\n",
       "      <td>0</td>\n",
       "      <td>0</td>\n",
       "      <td>0</td>\n",
       "    </tr>\n",
       "    <tr>\n",
       "      <th>Spain</th>\n",
       "      <td>0</td>\n",
       "      <td>1843639</td>\n",
       "      <td>6200468</td>\n",
       "      <td>9618212</td>\n",
       "      <td>39862660</td>\n",
       "      <td>0</td>\n",
       "      <td>0</td>\n",
       "      <td>0</td>\n",
       "    </tr>\n",
       "    <tr>\n",
       "      <th>Sweden</th>\n",
       "      <td>0</td>\n",
       "      <td>0</td>\n",
       "      <td>1183074</td>\n",
       "      <td>1326943</td>\n",
       "      <td>8281676</td>\n",
       "      <td>0</td>\n",
       "      <td>0</td>\n",
       "      <td>0</td>\n",
       "    </tr>\n",
       "    <tr>\n",
       "      <th>Switzerland</th>\n",
       "      <td>0</td>\n",
       "      <td>0</td>\n",
       "      <td>6042447</td>\n",
       "      <td>0</td>\n",
       "      <td>3042849</td>\n",
       "      <td>0</td>\n",
       "      <td>0</td>\n",
       "      <td>0</td>\n",
       "    </tr>\n",
       "    <tr>\n",
       "      <th>United States</th>\n",
       "      <td>0</td>\n",
       "      <td>13674107</td>\n",
       "      <td>140388709</td>\n",
       "      <td>0</td>\n",
       "      <td>197016306</td>\n",
       "      <td>0</td>\n",
       "      <td>0</td>\n",
       "      <td>0</td>\n",
       "    </tr>\n",
       "    <tr>\n",
       "      <th>Uruguay</th>\n",
       "      <td>0</td>\n",
       "      <td>0</td>\n",
       "      <td>0</td>\n",
       "      <td>84121</td>\n",
       "      <td>1562430</td>\n",
       "      <td>0</td>\n",
       "      <td>3234526</td>\n",
       "      <td>0</td>\n",
       "    </tr>\n",
       "  </tbody>\n",
       "</table>\n",
       "</div>"
      ]
     },
     "metadata": {},
     "execution_count": 35
    }
   ],
   "metadata": {
    "execution": {
     "iopub.execute_input": "2021-08-07T13:53:50.403008Z",
     "iopub.status.busy": "2021-08-07T13:53:50.402337Z",
     "iopub.status.idle": "2021-08-07T13:53:50.430644Z",
     "shell.execute_reply": "2021-08-07T13:53:50.431083Z",
     "shell.execute_reply.started": "2021-08-07T12:09:27.475920Z"
    },
    "papermill": {
     "duration": 0.092426,
     "end_time": "2021-08-07T13:53:50.431258",
     "exception": false,
     "start_time": "2021-08-07T13:53:50.338832",
     "status": "completed"
    },
    "tags": []
   }
  },
  {
   "cell_type": "markdown",
   "source": [
    "It can be seen that Pfizer/BioNTech is used by all of the listed countries and its biggest consumer is undoubtedly, their origin country, the Uninted States with more than 193.5 millions doses used. While CanSino and Sinopharm/Beijing are only used by one country, Chile and Hungary respectively."
   ],
   "metadata": {
    "papermill": {
     "duration": 0.056014,
     "end_time": "2021-08-07T13:53:50.543592",
     "exception": false,
     "start_time": "2021-08-07T13:53:50.487578",
     "status": "completed"
    },
    "tags": []
   }
  },
  {
   "cell_type": "markdown",
   "source": [
    "**3.5. What are the top 5 countries that are having the highest rate and the lowest rate of fully vaccinated people per population ?**\n"
   ],
   "metadata": {
    "papermill": {
     "duration": 0.057013,
     "end_time": "2021-08-07T13:53:50.657444",
     "exception": false,
     "start_time": "2021-08-07T13:53:50.600431",
     "status": "completed"
    },
    "tags": []
   }
  },
  {
   "cell_type": "markdown",
   "source": [
    "To do this, we need to calculate the rate between fully vaccinated people per population first. As I have cleaned the data at the beginning of the notebook. We now just need to divide two columns."
   ],
   "metadata": {
    "papermill": {
     "duration": 0.1063,
     "end_time": "2021-08-07T13:53:50.821132",
     "exception": false,
     "start_time": "2021-08-07T13:53:50.714832",
     "status": "completed"
    },
    "tags": []
   }
  },
  {
   "cell_type": "code",
   "execution_count": null,
   "source": [
    "# Find rate\r\n",
    "pd.reset_option('display.float_format') # Re-format to get float values\r\n",
    "pd.set_option('display.float_format', lambda x: '%.2f' % x) # Set number of figure after doc\r\n",
    "cbn['percentage'] = ((cbn['people_fully_vaccinated'])/(cbn['2021_last_updated']))*100 # Set percentage value under % type\r\n",
    "cbn"
   ],
   "outputs": [
    {
     "output_type": "execute_result",
     "data": {
      "text/plain": [
       "     index    country  2021_last_updated country_vaccinations  \\\n",
       "0        1    Albania         2872370.00              Albania   \n",
       "1        2    Algeria        44694125.00              Algeria   \n",
       "2        3    Andorra           77355.00              Andorra   \n",
       "3        4     Angola        34043709.00               Angola   \n",
       "4        5   Anguilla           15117.00             Anguilla   \n",
       "..     ...        ...                ...                  ...   \n",
       "170    183  Venezuela        28728962.00            Venezuela   \n",
       "171    184    Vietnam        98253611.00              Vietnam   \n",
       "172    185      Yemen        30558838.00                Yemen   \n",
       "173    186     Zambia        18975907.00               Zambia   \n",
       "174    187   Zimbabwe        15116142.00             Zimbabwe   \n",
       "\n",
       "     people_fully_vaccinated  percentage  \n",
       "0                  545036.00       18.98  \n",
       "1                  724812.00        1.62  \n",
       "2                   33904.00       43.83  \n",
       "3                  710113.00        2.09  \n",
       "4                    8765.00       57.98  \n",
       "..                       ...         ...  \n",
       "170               1100000.00        3.83  \n",
       "171                888459.00        0.90  \n",
       "172                 13322.00        0.04  \n",
       "173                188219.00        0.99  \n",
       "174                863667.00        5.71  \n",
       "\n",
       "[174 rows x 6 columns]"
      ],
      "text/html": [
       "<div>\n",
       "<style scoped>\n",
       "    .dataframe tbody tr th:only-of-type {\n",
       "        vertical-align: middle;\n",
       "    }\n",
       "\n",
       "    .dataframe tbody tr th {\n",
       "        vertical-align: top;\n",
       "    }\n",
       "\n",
       "    .dataframe thead th {\n",
       "        text-align: right;\n",
       "    }\n",
       "</style>\n",
       "<table border=\"1\" class=\"dataframe\">\n",
       "  <thead>\n",
       "    <tr style=\"text-align: right;\">\n",
       "      <th></th>\n",
       "      <th>index</th>\n",
       "      <th>country</th>\n",
       "      <th>2021_last_updated</th>\n",
       "      <th>country_vaccinations</th>\n",
       "      <th>people_fully_vaccinated</th>\n",
       "      <th>percentage</th>\n",
       "    </tr>\n",
       "  </thead>\n",
       "  <tbody>\n",
       "    <tr>\n",
       "      <th>0</th>\n",
       "      <td>1</td>\n",
       "      <td>Albania</td>\n",
       "      <td>2872370.00</td>\n",
       "      <td>Albania</td>\n",
       "      <td>545036.00</td>\n",
       "      <td>18.98</td>\n",
       "    </tr>\n",
       "    <tr>\n",
       "      <th>1</th>\n",
       "      <td>2</td>\n",
       "      <td>Algeria</td>\n",
       "      <td>44694125.00</td>\n",
       "      <td>Algeria</td>\n",
       "      <td>724812.00</td>\n",
       "      <td>1.62</td>\n",
       "    </tr>\n",
       "    <tr>\n",
       "      <th>2</th>\n",
       "      <td>3</td>\n",
       "      <td>Andorra</td>\n",
       "      <td>77355.00</td>\n",
       "      <td>Andorra</td>\n",
       "      <td>33904.00</td>\n",
       "      <td>43.83</td>\n",
       "    </tr>\n",
       "    <tr>\n",
       "      <th>3</th>\n",
       "      <td>4</td>\n",
       "      <td>Angola</td>\n",
       "      <td>34043709.00</td>\n",
       "      <td>Angola</td>\n",
       "      <td>710113.00</td>\n",
       "      <td>2.09</td>\n",
       "    </tr>\n",
       "    <tr>\n",
       "      <th>4</th>\n",
       "      <td>5</td>\n",
       "      <td>Anguilla</td>\n",
       "      <td>15117.00</td>\n",
       "      <td>Anguilla</td>\n",
       "      <td>8765.00</td>\n",
       "      <td>57.98</td>\n",
       "    </tr>\n",
       "    <tr>\n",
       "      <th>...</th>\n",
       "      <td>...</td>\n",
       "      <td>...</td>\n",
       "      <td>...</td>\n",
       "      <td>...</td>\n",
       "      <td>...</td>\n",
       "      <td>...</td>\n",
       "    </tr>\n",
       "    <tr>\n",
       "      <th>170</th>\n",
       "      <td>183</td>\n",
       "      <td>Venezuela</td>\n",
       "      <td>28728962.00</td>\n",
       "      <td>Venezuela</td>\n",
       "      <td>1100000.00</td>\n",
       "      <td>3.83</td>\n",
       "    </tr>\n",
       "    <tr>\n",
       "      <th>171</th>\n",
       "      <td>184</td>\n",
       "      <td>Vietnam</td>\n",
       "      <td>98253611.00</td>\n",
       "      <td>Vietnam</td>\n",
       "      <td>888459.00</td>\n",
       "      <td>0.90</td>\n",
       "    </tr>\n",
       "    <tr>\n",
       "      <th>172</th>\n",
       "      <td>185</td>\n",
       "      <td>Yemen</td>\n",
       "      <td>30558838.00</td>\n",
       "      <td>Yemen</td>\n",
       "      <td>13322.00</td>\n",
       "      <td>0.04</td>\n",
       "    </tr>\n",
       "    <tr>\n",
       "      <th>173</th>\n",
       "      <td>186</td>\n",
       "      <td>Zambia</td>\n",
       "      <td>18975907.00</td>\n",
       "      <td>Zambia</td>\n",
       "      <td>188219.00</td>\n",
       "      <td>0.99</td>\n",
       "    </tr>\n",
       "    <tr>\n",
       "      <th>174</th>\n",
       "      <td>187</td>\n",
       "      <td>Zimbabwe</td>\n",
       "      <td>15116142.00</td>\n",
       "      <td>Zimbabwe</td>\n",
       "      <td>863667.00</td>\n",
       "      <td>5.71</td>\n",
       "    </tr>\n",
       "  </tbody>\n",
       "</table>\n",
       "<p>174 rows × 6 columns</p>\n",
       "</div>"
      ]
     },
     "metadata": {},
     "execution_count": 36
    }
   ],
   "metadata": {
    "execution": {
     "iopub.execute_input": "2021-08-07T13:53:50.943450Z",
     "iopub.status.busy": "2021-08-07T13:53:50.942841Z",
     "iopub.status.idle": "2021-08-07T13:53:50.957526Z",
     "shell.execute_reply": "2021-08-07T13:53:50.956918Z",
     "shell.execute_reply.started": "2021-08-07T12:09:27.599376Z"
    },
    "papermill": {
     "duration": 0.078717,
     "end_time": "2021-08-07T13:53:50.957661",
     "exception": false,
     "start_time": "2021-08-07T13:53:50.878944",
     "status": "completed"
    },
    "tags": []
   }
  },
  {
   "cell_type": "markdown",
   "source": [
    "The reason why I used reset_option is that when we divide two column, the values tend to be float. However, the default format may be int so we cannot get our values. So remember when you do something similar, make sure that the format is float."
   ],
   "metadata": {
    "papermill": {
     "duration": 0.057472,
     "end_time": "2021-08-07T13:53:51.071997",
     "exception": false,
     "start_time": "2021-08-07T13:53:51.014525",
     "status": "completed"
    },
    "tags": []
   }
  },
  {
   "cell_type": "markdown",
   "source": [
    "It is totally good now. Let's analyze!"
   ],
   "metadata": {
    "papermill": {
     "duration": 0.056984,
     "end_time": "2021-08-07T13:53:51.185964",
     "exception": false,
     "start_time": "2021-08-07T13:53:51.128980",
     "status": "completed"
    },
    "tags": []
   }
  },
  {
   "cell_type": "markdown",
   "source": [
    "**3.5.1. Top 5 countries with highest vaccinations rate per population:**"
   ],
   "metadata": {
    "papermill": {
     "duration": 0.05601,
     "end_time": "2021-08-07T13:53:51.298454",
     "exception": false,
     "start_time": "2021-08-07T13:53:51.242444",
     "status": "completed"
    },
    "tags": []
   }
  },
  {
   "cell_type": "code",
   "execution_count": null,
   "source": [
    "tfh = cbn.sort_values('percentage', ascending=False).head(5)\r\n",
    "tfh"
   ],
   "outputs": [
    {
     "output_type": "execute_result",
     "data": {
      "text/plain": [
       "     index               country  2021_last_updated  country_vaccinations  \\\n",
       "99     105                 Malta          442934.00                 Malta   \n",
       "72      76               Iceland          343578.00               Iceland   \n",
       "31      32        Cayman Islands           66497.00        Cayman Islands   \n",
       "164    177  United Arab Emirates        10001593.00  United Arab Emirates   \n",
       "141    149            Seychelles           98946.00            Seychelles   \n",
       "\n",
       "     people_fully_vaccinated  percentage  \n",
       "99                 395537.00       89.30  \n",
       "72                 255322.00       74.31  \n",
       "31                  48111.00       72.35  \n",
       "164               7130830.00       71.30  \n",
       "141                 68553.00       69.28  "
      ],
      "text/html": [
       "<div>\n",
       "<style scoped>\n",
       "    .dataframe tbody tr th:only-of-type {\n",
       "        vertical-align: middle;\n",
       "    }\n",
       "\n",
       "    .dataframe tbody tr th {\n",
       "        vertical-align: top;\n",
       "    }\n",
       "\n",
       "    .dataframe thead th {\n",
       "        text-align: right;\n",
       "    }\n",
       "</style>\n",
       "<table border=\"1\" class=\"dataframe\">\n",
       "  <thead>\n",
       "    <tr style=\"text-align: right;\">\n",
       "      <th></th>\n",
       "      <th>index</th>\n",
       "      <th>country</th>\n",
       "      <th>2021_last_updated</th>\n",
       "      <th>country_vaccinations</th>\n",
       "      <th>people_fully_vaccinated</th>\n",
       "      <th>percentage</th>\n",
       "    </tr>\n",
       "  </thead>\n",
       "  <tbody>\n",
       "    <tr>\n",
       "      <th>99</th>\n",
       "      <td>105</td>\n",
       "      <td>Malta</td>\n",
       "      <td>442934.00</td>\n",
       "      <td>Malta</td>\n",
       "      <td>395537.00</td>\n",
       "      <td>89.30</td>\n",
       "    </tr>\n",
       "    <tr>\n",
       "      <th>72</th>\n",
       "      <td>76</td>\n",
       "      <td>Iceland</td>\n",
       "      <td>343578.00</td>\n",
       "      <td>Iceland</td>\n",
       "      <td>255322.00</td>\n",
       "      <td>74.31</td>\n",
       "    </tr>\n",
       "    <tr>\n",
       "      <th>31</th>\n",
       "      <td>32</td>\n",
       "      <td>Cayman Islands</td>\n",
       "      <td>66497.00</td>\n",
       "      <td>Cayman Islands</td>\n",
       "      <td>48111.00</td>\n",
       "      <td>72.35</td>\n",
       "    </tr>\n",
       "    <tr>\n",
       "      <th>164</th>\n",
       "      <td>177</td>\n",
       "      <td>United Arab Emirates</td>\n",
       "      <td>10001593.00</td>\n",
       "      <td>United Arab Emirates</td>\n",
       "      <td>7130830.00</td>\n",
       "      <td>71.30</td>\n",
       "    </tr>\n",
       "    <tr>\n",
       "      <th>141</th>\n",
       "      <td>149</td>\n",
       "      <td>Seychelles</td>\n",
       "      <td>98946.00</td>\n",
       "      <td>Seychelles</td>\n",
       "      <td>68553.00</td>\n",
       "      <td>69.28</td>\n",
       "    </tr>\n",
       "  </tbody>\n",
       "</table>\n",
       "</div>"
      ]
     },
     "metadata": {},
     "execution_count": 37
    }
   ],
   "metadata": {
    "execution": {
     "iopub.execute_input": "2021-08-07T13:53:51.424862Z",
     "iopub.status.busy": "2021-08-07T13:53:51.424105Z",
     "iopub.status.idle": "2021-08-07T13:53:51.426756Z",
     "shell.execute_reply": "2021-08-07T13:53:51.427238Z",
     "shell.execute_reply.started": "2021-08-07T12:09:27.624586Z"
    },
    "papermill": {
     "duration": 0.071472,
     "end_time": "2021-08-07T13:53:51.427406",
     "exception": false,
     "start_time": "2021-08-07T13:53:51.355934",
     "status": "completed"
    },
    "tags": []
   }
  },
  {
   "cell_type": "markdown",
   "source": [
    "**3.5.2. Top 5 countries with lowest vaccinations rate per population:**"
   ],
   "metadata": {
    "papermill": {
     "duration": 0.057523,
     "end_time": "2021-08-07T13:53:51.542094",
     "exception": false,
     "start_time": "2021-08-07T13:53:51.484571",
     "status": "completed"
    },
    "tags": []
   }
  },
  {
   "cell_type": "code",
   "execution_count": null,
   "source": [
    "cbn.sort_values('percentage').head(5)"
   ],
   "outputs": [
    {
     "output_type": "execute_result",
     "data": {
      "text/plain": [
       "     index       country  2021_last_updated country_vaccinations  \\\n",
       "68      72         Haiti        11555977.00                Haiti   \n",
       "26      27  Burkina Faso        21558166.00         Burkina Faso   \n",
       "169    182       Vanuatu          315214.00              Vanuatu   \n",
       "148    158   South Sudan        11400885.00          South Sudan   \n",
       "172    185         Yemen        30558838.00                Yemen   \n",
       "\n",
       "     people_fully_vaccinated  percentage  \n",
       "68                    341.00        0.00  \n",
       "26                   2371.00        0.01  \n",
       "169                   114.00        0.04  \n",
       "148                  4763.00        0.04  \n",
       "172                 13322.00        0.04  "
      ],
      "text/html": [
       "<div>\n",
       "<style scoped>\n",
       "    .dataframe tbody tr th:only-of-type {\n",
       "        vertical-align: middle;\n",
       "    }\n",
       "\n",
       "    .dataframe tbody tr th {\n",
       "        vertical-align: top;\n",
       "    }\n",
       "\n",
       "    .dataframe thead th {\n",
       "        text-align: right;\n",
       "    }\n",
       "</style>\n",
       "<table border=\"1\" class=\"dataframe\">\n",
       "  <thead>\n",
       "    <tr style=\"text-align: right;\">\n",
       "      <th></th>\n",
       "      <th>index</th>\n",
       "      <th>country</th>\n",
       "      <th>2021_last_updated</th>\n",
       "      <th>country_vaccinations</th>\n",
       "      <th>people_fully_vaccinated</th>\n",
       "      <th>percentage</th>\n",
       "    </tr>\n",
       "  </thead>\n",
       "  <tbody>\n",
       "    <tr>\n",
       "      <th>68</th>\n",
       "      <td>72</td>\n",
       "      <td>Haiti</td>\n",
       "      <td>11555977.00</td>\n",
       "      <td>Haiti</td>\n",
       "      <td>341.00</td>\n",
       "      <td>0.00</td>\n",
       "    </tr>\n",
       "    <tr>\n",
       "      <th>26</th>\n",
       "      <td>27</td>\n",
       "      <td>Burkina Faso</td>\n",
       "      <td>21558166.00</td>\n",
       "      <td>Burkina Faso</td>\n",
       "      <td>2371.00</td>\n",
       "      <td>0.01</td>\n",
       "    </tr>\n",
       "    <tr>\n",
       "      <th>169</th>\n",
       "      <td>182</td>\n",
       "      <td>Vanuatu</td>\n",
       "      <td>315214.00</td>\n",
       "      <td>Vanuatu</td>\n",
       "      <td>114.00</td>\n",
       "      <td>0.04</td>\n",
       "    </tr>\n",
       "    <tr>\n",
       "      <th>148</th>\n",
       "      <td>158</td>\n",
       "      <td>South Sudan</td>\n",
       "      <td>11400885.00</td>\n",
       "      <td>South Sudan</td>\n",
       "      <td>4763.00</td>\n",
       "      <td>0.04</td>\n",
       "    </tr>\n",
       "    <tr>\n",
       "      <th>172</th>\n",
       "      <td>185</td>\n",
       "      <td>Yemen</td>\n",
       "      <td>30558838.00</td>\n",
       "      <td>Yemen</td>\n",
       "      <td>13322.00</td>\n",
       "      <td>0.04</td>\n",
       "    </tr>\n",
       "  </tbody>\n",
       "</table>\n",
       "</div>"
      ]
     },
     "metadata": {},
     "execution_count": 38
    }
   ],
   "metadata": {
    "execution": {
     "iopub.execute_input": "2021-08-07T13:53:51.659573Z",
     "iopub.status.busy": "2021-08-07T13:53:51.659002Z",
     "iopub.status.idle": "2021-08-07T13:53:51.670598Z",
     "shell.execute_reply": "2021-08-07T13:53:51.670007Z",
     "shell.execute_reply.started": "2021-08-07T12:09:27.640201Z"
    },
    "papermill": {
     "duration": 0.071311,
     "end_time": "2021-08-07T13:53:51.670754",
     "exception": false,
     "start_time": "2021-08-07T13:53:51.599443",
     "status": "completed"
    },
    "tags": []
   }
  },
  {
   "cell_type": "markdown",
   "source": [
    "From these two tables, we can see that countries with low population tends to have high rate of vaccinations while countries with high population is oppostite. To test the hypothesis, I used scatterplot to plot the relationship between the two index to see wheter they are correlated or not."
   ],
   "metadata": {
    "papermill": {
     "duration": 0.059057,
     "end_time": "2021-08-07T13:53:51.789505",
     "exception": false,
     "start_time": "2021-08-07T13:53:51.730448",
     "status": "completed"
    },
    "tags": []
   }
  },
  {
   "cell_type": "code",
   "execution_count": null,
   "source": [
    "# Scatterplot\r\n",
    "fig = px.scatter(cbn, \r\n",
    "                y=\"2021_last_updated\", \r\n",
    "                x=\"percentage\",\r\n",
    "                labels = {'2021_last_updated' : 'Population', 'percentage' : 'Percentage'},\r\n",
    "                title = \"Scatterplot\"\r\n",
    "               )\r\n",
    "fig.show()"
   ],
   "outputs": [
    {
     "output_type": "display_data",
     "data": {
      "application/vnd.plotly.v1+json": {
       "config": {
        "plotlyServerURL": "https://plot.ly"
       },
       "data": [
        {
         "hovertemplate": "Percentage=%{x}<br>Population=%{y}<extra></extra>",
         "legendgroup": "",
         "marker": {
          "color": "#636efa",
          "symbol": "circle"
         },
         "mode": "markers",
         "name": "",
         "orientation": "v",
         "showlegend": false,
         "type": "scatter",
         "x": [
          18.975132033825727,
          1.6217165007705152,
          43.829099605713914,
          2.0858861177552654,
          57.98108090229543,
          18.727468558341307,
          1.7383527335137767,
          62.1012275661356,
          17.715443329086185,
          53.522974706119875,
          22.06573123259744,
          11.778105555667425,
          60.73491334683002,
          2.715061362346447,
          26.643011791526643,
          10.38817540371371,
          61.684921153592484,
          12.875187347164156,
          0.17144949757007083,
          66.1282009985505,
          60.86484852598939,
          15.172364554190517,
          5.360023115823098,
          21.300333556321878,
          8.117299663985337,
          15.04991602545443,
          0.010998152625784586,
          34.302447138711265,
          0.2046389368828801,
          61.21719136270355,
          3.854058147762303,
          72.35063235935456,
          0.20087149134250162,
          0.05695170339939542,
          64.1806525045238,
          25.693734655823953,
          4.644868272982316,
          54.5288926843154,
          16.54646942849105,
          37.17577385637867,
          24.86329425283578,
          50.618354733643464,
          38.9584585271697,
          59.29760841506643,
          27.243754070419996,
          39.821051689784134,
          18.120156585792884,
          1.7314468072876794,
          24.995112517888185,
          9.08346612149051,
          38.15197334410034,
          50.24058873478629,
          15.958713687435255,
          38.81400602070394,
          50.969841724038375,
          26.08037356728456,
          1.8544970777104448,
          0.4932748550907385,
          4.954267066658088,
          54.32732121439484,
          1.2766478392732725,
          51.722291619153246,
          48.45192256975579,
          14.36064355778841,
          2.041394391872576,
          2.508905357208431,
          17.973165583450633,
          0.0029508539174143388,
          2.9417028897939876,
          35.5380642501623,
          57.01553088713693,
          74.31267426901607,
          8.101407804538393,
          8.594625105011811,
          3.257332001423562,
          1.1989206274330289,
          58.1703867628857,
          61.297387949162065,
          55.40694897732328,
          4.45305259251266,
          32.97859993989251,
          21.991518328875927,
          22.9069485323928,
          1.216251261189942,
          21.297959258994414,
          2.6972549364570297,
          15.739078436660636,
          37.65664284707004,
          13.557463870552496,
          1.680409766192993,
          0.1759151293751306,
          49.29411764705882,
          48.432192838103376,
          51.96570360769608,
          0.7222115035792569,
          26.724299559937425,
          51.18285064155701,
          0.26770956703036614,
          89.29930870061905,
          0.39171269195070624,
          43.50175842485335,
          20.984422929105655,
          13.236691607616166,
          49.62162435777378,
          59.931420064699296,
          25.17844831566763,
          26.863572433192683,
          29.1612068586235,
          0.9937460177862499,
          1.972862626062326,
          66.6697315189408,
          8.384223174682356,
          55.999695638862356,
          21.34248009400966,
          15.822451613752008,
          2.4271829468618398,
          0.23910624995837632,
          0.6627961361543515,
          1.9765287214329834,
          19.6483629405367,
          35.285108601527625,
          6.426850791355338,
          8.061811038362178,
          16.835275246908363,
          0.18920520134259405,
          3.9702274100619106,
          18.105758816775253,
          9.62717062540048,
          47.26851317607385,
          61.051885768298185,
          61.87804828206316,
          25.79709955394251,
          18.952489482483728,
          3.030446468258369,
          13.834936983331076,
          12.681541096061387,
          69.06546726636682,
          28.0345699968813,
          1.7591885152794817,
          31.352961556724445,
          69.28324540658541,
          64.51856247367256,
          37.23738769647223,
          39.99934575249047,
          1.5550634139982629,
          5.535762578221683,
          15.04791927846037,
          0.04177745850431787,
          60.44861010625313,
          12.920660421115526,
          12.049297260794328,
          43.65342852764302,
          48.25603139482863,
          0.05077374896852191,
          2.0997413720767515,
          0.5761957204872011,
          6.11304398595867,
          1.8077478403733607,
          17.508631740477014,
          11.759239814632458,
          33.80886106756327,
          0.1591864694928508,
          5.52866795112372,
          71.29694239707615,
          57.779837735672714,
          49.97611704052963,
          65.51136816706699,
          3.6277017477578077,
          0.036165906336647485,
          3.8288887708508232,
          0.9042507353750083,
          0.043594589558673666,
          0.9918840770035393,
          5.713541193248912
         ],
         "xaxis": "x",
         "y": [
          2872370,
          44694125,
          77355,
          34043709,
          15117,
          45647878,
          2968615,
          107204,
          25818112,
          9046971,
          10231970,
          397288,
          1753023,
          166467803,
          287749,
          9442149,
          11636865,
          405664,
          12484726,
          62090,
          780761,
          11849333,
          2401818,
          214139548,
          441945,
          6891374,
          21558166,
          16969696,
          27293926,
          38101552,
          562498,
          66497,
          4929022,
          16965252,
          19223315,
          51307333,
          890402,
          17565,
          5143629,
          4079213,
          11316642,
          164873,
          1216447,
          5815474,
          72167,
          10964507,
          17913758,
          104455418,
          6521763,
          1454698,
          1325035,
          3533,
          903544,
          5549185,
          65442534,
          282680,
          2284339,
          2494147,
          3978752,
          83913565,
          31799764,
          10365492,
          56877,
          113059,
          18284071,
          13534269,
          790701,
          11555977,
          10079196,
          7558549,
          9631388,
          343578,
          1394784323,
          276653405,
          85132894,
          41278796,
          4987371,
          8803504,
          60359299,
          2974701,
          126007590,
          10278399,
          19017282,
          55110652,
          4335190,
          6638972,
          7389899,
          1864991,
          6766295,
          2160842,
          5192845,
          38250,
          2686523,
          635752,
          19700877,
          32817833,
          544067,
          20917818,
          442934,
          4787948,
          1273583,
          130398649,
          4022969,
          39511,
          3334503,
          628053,
          4977,
          37389135,
          32255928,
          2592071,
          10876,
          29724662,
          17176963,
          288481,
          4864657,
          6710413,
          25226024,
          211941489,
          1619,
          2082545,
          5470319,
          5236017,
          5235052,
          4388369,
          9136641,
          7228528,
          33399031,
          111197676,
          37791341,
          10164849,
          2936080,
          19116370,
          145909924,
          13309524,
          184475,
          200299,
          34017,
          35396127,
          17242666,
          8693536,
          98946,
          5901638,
          5460759,
          2078724,
          705759,
          60117282,
          51309725,
          11400885,
          46743753,
          21505975,
          592325,
          10166434,
          8721946,
          18340186,
          23858986,
          9771159,
          69966305,
          8498807,
          106873,
          11947507,
          85119676,
          6126777,
          43439885,
          10001593,
          68240877,
          333114077,
          3486314,
          33983141,
          315214,
          28728962,
          98253611,
          30558838,
          18975907,
          15116142
         ],
         "yaxis": "y"
        }
       ],
       "layout": {
        "legend": {
         "tracegroupgap": 0
        },
        "template": {
         "data": {
          "bar": [
           {
            "error_x": {
             "color": "#2a3f5f"
            },
            "error_y": {
             "color": "#2a3f5f"
            },
            "marker": {
             "line": {
              "color": "#E5ECF6",
              "width": 0.5
             },
             "pattern": {
              "fillmode": "overlay",
              "size": 10,
              "solidity": 0.2
             }
            },
            "type": "bar"
           }
          ],
          "barpolar": [
           {
            "marker": {
             "line": {
              "color": "#E5ECF6",
              "width": 0.5
             },
             "pattern": {
              "fillmode": "overlay",
              "size": 10,
              "solidity": 0.2
             }
            },
            "type": "barpolar"
           }
          ],
          "carpet": [
           {
            "aaxis": {
             "endlinecolor": "#2a3f5f",
             "gridcolor": "white",
             "linecolor": "white",
             "minorgridcolor": "white",
             "startlinecolor": "#2a3f5f"
            },
            "baxis": {
             "endlinecolor": "#2a3f5f",
             "gridcolor": "white",
             "linecolor": "white",
             "minorgridcolor": "white",
             "startlinecolor": "#2a3f5f"
            },
            "type": "carpet"
           }
          ],
          "choropleth": [
           {
            "colorbar": {
             "outlinewidth": 0,
             "ticks": ""
            },
            "type": "choropleth"
           }
          ],
          "contour": [
           {
            "colorbar": {
             "outlinewidth": 0,
             "ticks": ""
            },
            "colorscale": [
             [
              0,
              "#0d0887"
             ],
             [
              0.1111111111111111,
              "#46039f"
             ],
             [
              0.2222222222222222,
              "#7201a8"
             ],
             [
              0.3333333333333333,
              "#9c179e"
             ],
             [
              0.4444444444444444,
              "#bd3786"
             ],
             [
              0.5555555555555556,
              "#d8576b"
             ],
             [
              0.6666666666666666,
              "#ed7953"
             ],
             [
              0.7777777777777778,
              "#fb9f3a"
             ],
             [
              0.8888888888888888,
              "#fdca26"
             ],
             [
              1,
              "#f0f921"
             ]
            ],
            "type": "contour"
           }
          ],
          "contourcarpet": [
           {
            "colorbar": {
             "outlinewidth": 0,
             "ticks": ""
            },
            "type": "contourcarpet"
           }
          ],
          "heatmap": [
           {
            "colorbar": {
             "outlinewidth": 0,
             "ticks": ""
            },
            "colorscale": [
             [
              0,
              "#0d0887"
             ],
             [
              0.1111111111111111,
              "#46039f"
             ],
             [
              0.2222222222222222,
              "#7201a8"
             ],
             [
              0.3333333333333333,
              "#9c179e"
             ],
             [
              0.4444444444444444,
              "#bd3786"
             ],
             [
              0.5555555555555556,
              "#d8576b"
             ],
             [
              0.6666666666666666,
              "#ed7953"
             ],
             [
              0.7777777777777778,
              "#fb9f3a"
             ],
             [
              0.8888888888888888,
              "#fdca26"
             ],
             [
              1,
              "#f0f921"
             ]
            ],
            "type": "heatmap"
           }
          ],
          "heatmapgl": [
           {
            "colorbar": {
             "outlinewidth": 0,
             "ticks": ""
            },
            "colorscale": [
             [
              0,
              "#0d0887"
             ],
             [
              0.1111111111111111,
              "#46039f"
             ],
             [
              0.2222222222222222,
              "#7201a8"
             ],
             [
              0.3333333333333333,
              "#9c179e"
             ],
             [
              0.4444444444444444,
              "#bd3786"
             ],
             [
              0.5555555555555556,
              "#d8576b"
             ],
             [
              0.6666666666666666,
              "#ed7953"
             ],
             [
              0.7777777777777778,
              "#fb9f3a"
             ],
             [
              0.8888888888888888,
              "#fdca26"
             ],
             [
              1,
              "#f0f921"
             ]
            ],
            "type": "heatmapgl"
           }
          ],
          "histogram": [
           {
            "marker": {
             "pattern": {
              "fillmode": "overlay",
              "size": 10,
              "solidity": 0.2
             }
            },
            "type": "histogram"
           }
          ],
          "histogram2d": [
           {
            "colorbar": {
             "outlinewidth": 0,
             "ticks": ""
            },
            "colorscale": [
             [
              0,
              "#0d0887"
             ],
             [
              0.1111111111111111,
              "#46039f"
             ],
             [
              0.2222222222222222,
              "#7201a8"
             ],
             [
              0.3333333333333333,
              "#9c179e"
             ],
             [
              0.4444444444444444,
              "#bd3786"
             ],
             [
              0.5555555555555556,
              "#d8576b"
             ],
             [
              0.6666666666666666,
              "#ed7953"
             ],
             [
              0.7777777777777778,
              "#fb9f3a"
             ],
             [
              0.8888888888888888,
              "#fdca26"
             ],
             [
              1,
              "#f0f921"
             ]
            ],
            "type": "histogram2d"
           }
          ],
          "histogram2dcontour": [
           {
            "colorbar": {
             "outlinewidth": 0,
             "ticks": ""
            },
            "colorscale": [
             [
              0,
              "#0d0887"
             ],
             [
              0.1111111111111111,
              "#46039f"
             ],
             [
              0.2222222222222222,
              "#7201a8"
             ],
             [
              0.3333333333333333,
              "#9c179e"
             ],
             [
              0.4444444444444444,
              "#bd3786"
             ],
             [
              0.5555555555555556,
              "#d8576b"
             ],
             [
              0.6666666666666666,
              "#ed7953"
             ],
             [
              0.7777777777777778,
              "#fb9f3a"
             ],
             [
              0.8888888888888888,
              "#fdca26"
             ],
             [
              1,
              "#f0f921"
             ]
            ],
            "type": "histogram2dcontour"
           }
          ],
          "mesh3d": [
           {
            "colorbar": {
             "outlinewidth": 0,
             "ticks": ""
            },
            "type": "mesh3d"
           }
          ],
          "parcoords": [
           {
            "line": {
             "colorbar": {
              "outlinewidth": 0,
              "ticks": ""
             }
            },
            "type": "parcoords"
           }
          ],
          "pie": [
           {
            "automargin": true,
            "type": "pie"
           }
          ],
          "scatter": [
           {
            "marker": {
             "colorbar": {
              "outlinewidth": 0,
              "ticks": ""
             }
            },
            "type": "scatter"
           }
          ],
          "scatter3d": [
           {
            "line": {
             "colorbar": {
              "outlinewidth": 0,
              "ticks": ""
             }
            },
            "marker": {
             "colorbar": {
              "outlinewidth": 0,
              "ticks": ""
             }
            },
            "type": "scatter3d"
           }
          ],
          "scattercarpet": [
           {
            "marker": {
             "colorbar": {
              "outlinewidth": 0,
              "ticks": ""
             }
            },
            "type": "scattercarpet"
           }
          ],
          "scattergeo": [
           {
            "marker": {
             "colorbar": {
              "outlinewidth": 0,
              "ticks": ""
             }
            },
            "type": "scattergeo"
           }
          ],
          "scattergl": [
           {
            "marker": {
             "colorbar": {
              "outlinewidth": 0,
              "ticks": ""
             }
            },
            "type": "scattergl"
           }
          ],
          "scattermapbox": [
           {
            "marker": {
             "colorbar": {
              "outlinewidth": 0,
              "ticks": ""
             }
            },
            "type": "scattermapbox"
           }
          ],
          "scatterpolar": [
           {
            "marker": {
             "colorbar": {
              "outlinewidth": 0,
              "ticks": ""
             }
            },
            "type": "scatterpolar"
           }
          ],
          "scatterpolargl": [
           {
            "marker": {
             "colorbar": {
              "outlinewidth": 0,
              "ticks": ""
             }
            },
            "type": "scatterpolargl"
           }
          ],
          "scatterternary": [
           {
            "marker": {
             "colorbar": {
              "outlinewidth": 0,
              "ticks": ""
             }
            },
            "type": "scatterternary"
           }
          ],
          "surface": [
           {
            "colorbar": {
             "outlinewidth": 0,
             "ticks": ""
            },
            "colorscale": [
             [
              0,
              "#0d0887"
             ],
             [
              0.1111111111111111,
              "#46039f"
             ],
             [
              0.2222222222222222,
              "#7201a8"
             ],
             [
              0.3333333333333333,
              "#9c179e"
             ],
             [
              0.4444444444444444,
              "#bd3786"
             ],
             [
              0.5555555555555556,
              "#d8576b"
             ],
             [
              0.6666666666666666,
              "#ed7953"
             ],
             [
              0.7777777777777778,
              "#fb9f3a"
             ],
             [
              0.8888888888888888,
              "#fdca26"
             ],
             [
              1,
              "#f0f921"
             ]
            ],
            "type": "surface"
           }
          ],
          "table": [
           {
            "cells": {
             "fill": {
              "color": "#EBF0F8"
             },
             "line": {
              "color": "white"
             }
            },
            "header": {
             "fill": {
              "color": "#C8D4E3"
             },
             "line": {
              "color": "white"
             }
            },
            "type": "table"
           }
          ]
         },
         "layout": {
          "annotationdefaults": {
           "arrowcolor": "#2a3f5f",
           "arrowhead": 0,
           "arrowwidth": 1
          },
          "autotypenumbers": "strict",
          "coloraxis": {
           "colorbar": {
            "outlinewidth": 0,
            "ticks": ""
           }
          },
          "colorscale": {
           "diverging": [
            [
             0,
             "#8e0152"
            ],
            [
             0.1,
             "#c51b7d"
            ],
            [
             0.2,
             "#de77ae"
            ],
            [
             0.3,
             "#f1b6da"
            ],
            [
             0.4,
             "#fde0ef"
            ],
            [
             0.5,
             "#f7f7f7"
            ],
            [
             0.6,
             "#e6f5d0"
            ],
            [
             0.7,
             "#b8e186"
            ],
            [
             0.8,
             "#7fbc41"
            ],
            [
             0.9,
             "#4d9221"
            ],
            [
             1,
             "#276419"
            ]
           ],
           "sequential": [
            [
             0,
             "#0d0887"
            ],
            [
             0.1111111111111111,
             "#46039f"
            ],
            [
             0.2222222222222222,
             "#7201a8"
            ],
            [
             0.3333333333333333,
             "#9c179e"
            ],
            [
             0.4444444444444444,
             "#bd3786"
            ],
            [
             0.5555555555555556,
             "#d8576b"
            ],
            [
             0.6666666666666666,
             "#ed7953"
            ],
            [
             0.7777777777777778,
             "#fb9f3a"
            ],
            [
             0.8888888888888888,
             "#fdca26"
            ],
            [
             1,
             "#f0f921"
            ]
           ],
           "sequentialminus": [
            [
             0,
             "#0d0887"
            ],
            [
             0.1111111111111111,
             "#46039f"
            ],
            [
             0.2222222222222222,
             "#7201a8"
            ],
            [
             0.3333333333333333,
             "#9c179e"
            ],
            [
             0.4444444444444444,
             "#bd3786"
            ],
            [
             0.5555555555555556,
             "#d8576b"
            ],
            [
             0.6666666666666666,
             "#ed7953"
            ],
            [
             0.7777777777777778,
             "#fb9f3a"
            ],
            [
             0.8888888888888888,
             "#fdca26"
            ],
            [
             1,
             "#f0f921"
            ]
           ]
          },
          "colorway": [
           "#636efa",
           "#EF553B",
           "#00cc96",
           "#ab63fa",
           "#FFA15A",
           "#19d3f3",
           "#FF6692",
           "#B6E880",
           "#FF97FF",
           "#FECB52"
          ],
          "font": {
           "color": "#2a3f5f"
          },
          "geo": {
           "bgcolor": "white",
           "lakecolor": "white",
           "landcolor": "#E5ECF6",
           "showlakes": true,
           "showland": true,
           "subunitcolor": "white"
          },
          "hoverlabel": {
           "align": "left"
          },
          "hovermode": "closest",
          "mapbox": {
           "style": "light"
          },
          "paper_bgcolor": "white",
          "plot_bgcolor": "#E5ECF6",
          "polar": {
           "angularaxis": {
            "gridcolor": "white",
            "linecolor": "white",
            "ticks": ""
           },
           "bgcolor": "#E5ECF6",
           "radialaxis": {
            "gridcolor": "white",
            "linecolor": "white",
            "ticks": ""
           }
          },
          "scene": {
           "xaxis": {
            "backgroundcolor": "#E5ECF6",
            "gridcolor": "white",
            "gridwidth": 2,
            "linecolor": "white",
            "showbackground": true,
            "ticks": "",
            "zerolinecolor": "white"
           },
           "yaxis": {
            "backgroundcolor": "#E5ECF6",
            "gridcolor": "white",
            "gridwidth": 2,
            "linecolor": "white",
            "showbackground": true,
            "ticks": "",
            "zerolinecolor": "white"
           },
           "zaxis": {
            "backgroundcolor": "#E5ECF6",
            "gridcolor": "white",
            "gridwidth": 2,
            "linecolor": "white",
            "showbackground": true,
            "ticks": "",
            "zerolinecolor": "white"
           }
          },
          "shapedefaults": {
           "line": {
            "color": "#2a3f5f"
           }
          },
          "ternary": {
           "aaxis": {
            "gridcolor": "white",
            "linecolor": "white",
            "ticks": ""
           },
           "baxis": {
            "gridcolor": "white",
            "linecolor": "white",
            "ticks": ""
           },
           "bgcolor": "#E5ECF6",
           "caxis": {
            "gridcolor": "white",
            "linecolor": "white",
            "ticks": ""
           }
          },
          "title": {
           "x": 0.05
          },
          "xaxis": {
           "automargin": true,
           "gridcolor": "white",
           "linecolor": "white",
           "ticks": "",
           "title": {
            "standoff": 15
           },
           "zerolinecolor": "white",
           "zerolinewidth": 2
          },
          "yaxis": {
           "automargin": true,
           "gridcolor": "white",
           "linecolor": "white",
           "ticks": "",
           "title": {
            "standoff": 15
           },
           "zerolinecolor": "white",
           "zerolinewidth": 2
          }
         }
        },
        "title": {
         "text": "Scatterplot"
        },
        "xaxis": {
         "anchor": "y",
         "domain": [
          0,
          1
         ],
         "title": {
          "text": "Percentage"
         }
        },
        "yaxis": {
         "anchor": "x",
         "domain": [
          0,
          1
         ],
         "title": {
          "text": "Population"
         }
        }
       }
      }
     },
     "metadata": {}
    }
   ],
   "metadata": {
    "execution": {
     "iopub.execute_input": "2021-08-07T13:53:51.913584Z",
     "iopub.status.busy": "2021-08-07T13:53:51.912586Z",
     "iopub.status.idle": "2021-08-07T13:53:51.967245Z",
     "shell.execute_reply": "2021-08-07T13:53:51.966586Z",
     "shell.execute_reply.started": "2021-08-07T13:01:06.834428Z"
    },
    "papermill": {
     "duration": 0.118684,
     "end_time": "2021-08-07T13:53:51.967384",
     "exception": false,
     "start_time": "2021-08-07T13:53:51.848700",
     "status": "completed"
    },
    "tags": []
   }
  },
  {
   "cell_type": "markdown",
   "source": [
    "Here is the scatterplot we are looking for. But, it looks like there is something unclear. Since we are having the outliers, the range is too wide. Therefore, I dropped the outliers to have a clearer view."
   ],
   "metadata": {
    "papermill": {
     "duration": 0.058405,
     "end_time": "2021-08-07T13:53:52.085604",
     "exception": false,
     "start_time": "2021-08-07T13:53:52.027199",
     "status": "completed"
    },
    "tags": []
   }
  },
  {
   "cell_type": "code",
   "execution_count": null,
   "source": [
    "# Find quantile range and select normal values\r\n",
    "pd.set_option('display.float_format', lambda x: '%.0f'% x)\r\n",
    "cbn = cbn.sort_values('2021_last_updated', ascending=False)\r\n",
    "qt1 = cbn['2021_last_updated'].quantile(0.25) # Quantile 1\r\n",
    "qt3 = cbn['2021_last_updated'].quantile(0.75) # Quantile 3\r\n",
    "IQR_cbn = qt3 - qt1 # Quantile range\r\n",
    "Upper_cbn = qt3 + 1.5*IQR_cbn # Upper whisker\r\n",
    "Lower_cbn = qt1 - 1.5*IQR_cbn # Lower whisker \r\n",
    "cbn_sort = cbn[(Lower_cbn < cbn['2021_last_updated']) & (cbn['2021_last_updated'] < Upper_cbn)].reset_index()"
   ],
   "outputs": [],
   "metadata": {
    "execution": {
     "iopub.execute_input": "2021-08-07T13:53:52.211977Z",
     "iopub.status.busy": "2021-08-07T13:53:52.210910Z",
     "iopub.status.idle": "2021-08-07T13:53:52.218177Z",
     "shell.execute_reply": "2021-08-07T13:53:52.217680Z",
     "shell.execute_reply.started": "2021-08-07T12:31:31.303513Z"
    },
    "papermill": {
     "duration": 0.072901,
     "end_time": "2021-08-07T13:53:52.218316",
     "exception": false,
     "start_time": "2021-08-07T13:53:52.145415",
     "status": "completed"
    },
    "tags": []
   }
  },
  {
   "cell_type": "code",
   "execution_count": null,
   "source": [
    "# Scatter plot for normal values\r\n",
    "fig = px.scatter(cbn_sort, \r\n",
    "                y=\"2021_last_updated\", \r\n",
    "                x=\"percentage\",\r\n",
    "                labels = {'2021_last_updated' : 'Population', 'percentage' : 'Percentage'},\r\n",
    "                title = \"Scatterplot excluding outliers\"\r\n",
    "               )\r\n",
    "fig.show()"
   ],
   "outputs": [
    {
     "output_type": "display_data",
     "data": {
      "application/vnd.plotly.v1+json": {
       "config": {
        "plotlyServerURL": "https://plot.ly"
       },
       "data": [
        {
         "hovertemplate": "Percentage=%{x}<br>Population=%{y}<extra></extra>",
         "legendgroup": "",
         "marker": {
          "color": "#636efa",
          "symbol": "circle"
         },
         "mode": "markers",
         "name": "",
         "orientation": "v",
         "showlegend": false,
         "type": "scatter",
         "x": [
          1.216251261189942,
          15.04791927846037,
          25.693734655823953,
          60.44861010625313,
          18.727468558341307,
          1.6217165007705152,
          5.52866795112372,
          1.1989206274330289,
          61.21719136270355,
          47.26851317607385,
          29.1612068586235,
          28.0345699968813,
          2.0858861177552654,
          3.6277017477578077,
          18.105758816775253,
          26.724299559937425,
          0.9937460177862499,
          1.2766478392732725,
          0.043594589558673666,
          8.384223174682356,
          3.8288887708508232,
          0.2046389368828801,
          17.715443329086185,
          0.23910624995837632,
          2.0997413720767515,
          0.010998152625784586,
          12.920660421115526,
          0.26770956703036614,
          0.7222115035792569,
          64.1806525045238,
          25.79709955394251,
          22.9069485323928,
          0.9918840770035393,
          0.05077374896852191,
          2.041394391872576,
          18.120156585792884,
          1.7591885152794817,
          55.999695638862356,
          34.302447138711265,
          0.05695170339939542,
          5.713541193248912,
          2.508905357208431,
          3.030446468258369,
          0.17144949757007083,
          11.759239814632458,
          15.172364554190517,
          61.684921153592484,
          0.0029508539174143388,
          0.04177745850431787,
          24.86329425283578,
          39.821051689784134,
          51.722291619153246,
          21.991518328875927,
          22.06573123259744,
          43.65342852764302,
          61.051885768298185,
          2.9417028897939876,
          71.29694239707615,
          0.5761957204872011,
          57.01553088713693,
          10.38817540371371,
          0.18920520134259405,
          53.522974706119875,
          61.297387949162065,
          48.25603139482863,
          31.352961556724445,
          1.8077478403733607,
          35.5380642501623,
          15.739078436660636,
          3.9702274100619106,
          15.04991602545443,
          13.557463870552496,
          2.4271829468618398,
          2.6972549364570297,
          24.995112517888185,
          0.1591864694928508,
          64.51856247367256,
          59.29760841506643,
          38.81400602070394,
          35.285108601527625,
          37.23738769647223,
          6.426850791355338,
          8.061811038362178,
          0.1759151293751306,
          16.54646942849105,
          58.1703867628857,
          0.20087149134250162,
          15.822451613752008,
          0.39171269195070624,
          16.835275246908363,
          21.297959258994414,
          37.17577385637867,
          13.236691607616166,
          4.954267066658088,
          65.51136816706699,
          59.931420064699296,
          4.45305259251266,
          1.7383527335137767,
          61.87804828206316,
          18.975132033825727,
          48.432192838103376,
          1.972862626062326,
          0.4932748550907385,
          5.360023115823098,
          1.8544970777104448,
          1.680409766192993,
          19.6483629405367,
          39.99934575249047,
          37.65664284707004,
          60.73491334683002,
          9.08346612149051,
          38.15197334410034,
          43.50175842485335,
          38.9584585271697,
          15.958713687435255,
          4.644868272982316,
          17.973165583450633,
          60.86484852598939,
          1.5550634139982629,
          51.96570360769608,
          25.17844831566763,
          12.049297260794328,
          3.854058147762303,
          51.18285064155701,
          89.29930870061905,
          8.117299663985337,
          12.875187347164156,
          11.778105555667425,
          74.31267426901607,
          0.036165906336647485,
          21.34248009400966,
          26.643011791526643,
          26.08037356728456,
          12.681541096061387,
          13.834936983331076,
          50.618354733643464,
          14.36064355778841,
          62.1012275661356,
          17.508631740477014,
          69.28324540658541,
          43.829099605713914,
          27.243754070419996,
          72.35063235935456,
          66.1282009985505,
          48.45192256975579,
          49.62162435777378,
          49.29411764705882,
          69.06546726636682,
          54.5288926843154,
          57.98108090229543,
          66.6697315189408,
          26.863572433192683,
          50.24058873478629,
          1.9765287214329834
         ],
         "xaxis": "x",
         "y": [
          55110652,
          51309725,
          51307333,
          46743753,
          45647878,
          44694125,
          43439885,
          41278796,
          38101552,
          37791341,
          37389135,
          35396127,
          34043709,
          33983141,
          33399031,
          32817833,
          32255928,
          31799764,
          30558838,
          29724662,
          28728962,
          27293926,
          25818112,
          25226024,
          23858986,
          21558166,
          21505975,
          20917818,
          19700877,
          19223315,
          19116370,
          19017282,
          18975907,
          18340186,
          18284071,
          17913758,
          17242666,
          17176963,
          16969696,
          16965252,
          15116142,
          13534269,
          13309524,
          12484726,
          11947507,
          11849333,
          11636865,
          11555977,
          11400885,
          11316642,
          10964507,
          10365492,
          10278399,
          10231970,
          10166434,
          10164849,
          10079196,
          10001593,
          9771159,
          9631388,
          9442149,
          9136641,
          9046971,
          8803504,
          8721946,
          8693536,
          8498807,
          7558549,
          7389899,
          7228528,
          6891374,
          6766295,
          6710413,
          6638972,
          6521763,
          6126777,
          5901638,
          5815474,
          5549185,
          5470319,
          5460759,
          5236017,
          5235052,
          5192845,
          5143629,
          4987371,
          4929022,
          4864657,
          4787948,
          4388369,
          4335190,
          4079213,
          4022969,
          3978752,
          3486314,
          3334503,
          2974701,
          2968615,
          2936080,
          2872370,
          2686523,
          2592071,
          2494147,
          2401818,
          2284339,
          2160842,
          2082545,
          2078724,
          1864991,
          1753023,
          1454698,
          1325035,
          1273583,
          1216447,
          903544,
          890402,
          790701,
          780761,
          705759,
          635752,
          628053,
          592325,
          562498,
          544067,
          442934,
          441945,
          405664,
          397288,
          343578,
          315214,
          288481,
          287749,
          282680,
          200299,
          184475,
          164873,
          113059,
          107204,
          106873,
          98946,
          77355,
          72167,
          66497,
          62090,
          56877,
          39511,
          38250,
          34017,
          17565,
          15117,
          10876,
          4977,
          3533,
          1619
         ],
         "yaxis": "y"
        }
       ],
       "layout": {
        "legend": {
         "tracegroupgap": 0
        },
        "template": {
         "data": {
          "bar": [
           {
            "error_x": {
             "color": "#2a3f5f"
            },
            "error_y": {
             "color": "#2a3f5f"
            },
            "marker": {
             "line": {
              "color": "#E5ECF6",
              "width": 0.5
             },
             "pattern": {
              "fillmode": "overlay",
              "size": 10,
              "solidity": 0.2
             }
            },
            "type": "bar"
           }
          ],
          "barpolar": [
           {
            "marker": {
             "line": {
              "color": "#E5ECF6",
              "width": 0.5
             },
             "pattern": {
              "fillmode": "overlay",
              "size": 10,
              "solidity": 0.2
             }
            },
            "type": "barpolar"
           }
          ],
          "carpet": [
           {
            "aaxis": {
             "endlinecolor": "#2a3f5f",
             "gridcolor": "white",
             "linecolor": "white",
             "minorgridcolor": "white",
             "startlinecolor": "#2a3f5f"
            },
            "baxis": {
             "endlinecolor": "#2a3f5f",
             "gridcolor": "white",
             "linecolor": "white",
             "minorgridcolor": "white",
             "startlinecolor": "#2a3f5f"
            },
            "type": "carpet"
           }
          ],
          "choropleth": [
           {
            "colorbar": {
             "outlinewidth": 0,
             "ticks": ""
            },
            "type": "choropleth"
           }
          ],
          "contour": [
           {
            "colorbar": {
             "outlinewidth": 0,
             "ticks": ""
            },
            "colorscale": [
             [
              0,
              "#0d0887"
             ],
             [
              0.1111111111111111,
              "#46039f"
             ],
             [
              0.2222222222222222,
              "#7201a8"
             ],
             [
              0.3333333333333333,
              "#9c179e"
             ],
             [
              0.4444444444444444,
              "#bd3786"
             ],
             [
              0.5555555555555556,
              "#d8576b"
             ],
             [
              0.6666666666666666,
              "#ed7953"
             ],
             [
              0.7777777777777778,
              "#fb9f3a"
             ],
             [
              0.8888888888888888,
              "#fdca26"
             ],
             [
              1,
              "#f0f921"
             ]
            ],
            "type": "contour"
           }
          ],
          "contourcarpet": [
           {
            "colorbar": {
             "outlinewidth": 0,
             "ticks": ""
            },
            "type": "contourcarpet"
           }
          ],
          "heatmap": [
           {
            "colorbar": {
             "outlinewidth": 0,
             "ticks": ""
            },
            "colorscale": [
             [
              0,
              "#0d0887"
             ],
             [
              0.1111111111111111,
              "#46039f"
             ],
             [
              0.2222222222222222,
              "#7201a8"
             ],
             [
              0.3333333333333333,
              "#9c179e"
             ],
             [
              0.4444444444444444,
              "#bd3786"
             ],
             [
              0.5555555555555556,
              "#d8576b"
             ],
             [
              0.6666666666666666,
              "#ed7953"
             ],
             [
              0.7777777777777778,
              "#fb9f3a"
             ],
             [
              0.8888888888888888,
              "#fdca26"
             ],
             [
              1,
              "#f0f921"
             ]
            ],
            "type": "heatmap"
           }
          ],
          "heatmapgl": [
           {
            "colorbar": {
             "outlinewidth": 0,
             "ticks": ""
            },
            "colorscale": [
             [
              0,
              "#0d0887"
             ],
             [
              0.1111111111111111,
              "#46039f"
             ],
             [
              0.2222222222222222,
              "#7201a8"
             ],
             [
              0.3333333333333333,
              "#9c179e"
             ],
             [
              0.4444444444444444,
              "#bd3786"
             ],
             [
              0.5555555555555556,
              "#d8576b"
             ],
             [
              0.6666666666666666,
              "#ed7953"
             ],
             [
              0.7777777777777778,
              "#fb9f3a"
             ],
             [
              0.8888888888888888,
              "#fdca26"
             ],
             [
              1,
              "#f0f921"
             ]
            ],
            "type": "heatmapgl"
           }
          ],
          "histogram": [
           {
            "marker": {
             "pattern": {
              "fillmode": "overlay",
              "size": 10,
              "solidity": 0.2
             }
            },
            "type": "histogram"
           }
          ],
          "histogram2d": [
           {
            "colorbar": {
             "outlinewidth": 0,
             "ticks": ""
            },
            "colorscale": [
             [
              0,
              "#0d0887"
             ],
             [
              0.1111111111111111,
              "#46039f"
             ],
             [
              0.2222222222222222,
              "#7201a8"
             ],
             [
              0.3333333333333333,
              "#9c179e"
             ],
             [
              0.4444444444444444,
              "#bd3786"
             ],
             [
              0.5555555555555556,
              "#d8576b"
             ],
             [
              0.6666666666666666,
              "#ed7953"
             ],
             [
              0.7777777777777778,
              "#fb9f3a"
             ],
             [
              0.8888888888888888,
              "#fdca26"
             ],
             [
              1,
              "#f0f921"
             ]
            ],
            "type": "histogram2d"
           }
          ],
          "histogram2dcontour": [
           {
            "colorbar": {
             "outlinewidth": 0,
             "ticks": ""
            },
            "colorscale": [
             [
              0,
              "#0d0887"
             ],
             [
              0.1111111111111111,
              "#46039f"
             ],
             [
              0.2222222222222222,
              "#7201a8"
             ],
             [
              0.3333333333333333,
              "#9c179e"
             ],
             [
              0.4444444444444444,
              "#bd3786"
             ],
             [
              0.5555555555555556,
              "#d8576b"
             ],
             [
              0.6666666666666666,
              "#ed7953"
             ],
             [
              0.7777777777777778,
              "#fb9f3a"
             ],
             [
              0.8888888888888888,
              "#fdca26"
             ],
             [
              1,
              "#f0f921"
             ]
            ],
            "type": "histogram2dcontour"
           }
          ],
          "mesh3d": [
           {
            "colorbar": {
             "outlinewidth": 0,
             "ticks": ""
            },
            "type": "mesh3d"
           }
          ],
          "parcoords": [
           {
            "line": {
             "colorbar": {
              "outlinewidth": 0,
              "ticks": ""
             }
            },
            "type": "parcoords"
           }
          ],
          "pie": [
           {
            "automargin": true,
            "type": "pie"
           }
          ],
          "scatter": [
           {
            "marker": {
             "colorbar": {
              "outlinewidth": 0,
              "ticks": ""
             }
            },
            "type": "scatter"
           }
          ],
          "scatter3d": [
           {
            "line": {
             "colorbar": {
              "outlinewidth": 0,
              "ticks": ""
             }
            },
            "marker": {
             "colorbar": {
              "outlinewidth": 0,
              "ticks": ""
             }
            },
            "type": "scatter3d"
           }
          ],
          "scattercarpet": [
           {
            "marker": {
             "colorbar": {
              "outlinewidth": 0,
              "ticks": ""
             }
            },
            "type": "scattercarpet"
           }
          ],
          "scattergeo": [
           {
            "marker": {
             "colorbar": {
              "outlinewidth": 0,
              "ticks": ""
             }
            },
            "type": "scattergeo"
           }
          ],
          "scattergl": [
           {
            "marker": {
             "colorbar": {
              "outlinewidth": 0,
              "ticks": ""
             }
            },
            "type": "scattergl"
           }
          ],
          "scattermapbox": [
           {
            "marker": {
             "colorbar": {
              "outlinewidth": 0,
              "ticks": ""
             }
            },
            "type": "scattermapbox"
           }
          ],
          "scatterpolar": [
           {
            "marker": {
             "colorbar": {
              "outlinewidth": 0,
              "ticks": ""
             }
            },
            "type": "scatterpolar"
           }
          ],
          "scatterpolargl": [
           {
            "marker": {
             "colorbar": {
              "outlinewidth": 0,
              "ticks": ""
             }
            },
            "type": "scatterpolargl"
           }
          ],
          "scatterternary": [
           {
            "marker": {
             "colorbar": {
              "outlinewidth": 0,
              "ticks": ""
             }
            },
            "type": "scatterternary"
           }
          ],
          "surface": [
           {
            "colorbar": {
             "outlinewidth": 0,
             "ticks": ""
            },
            "colorscale": [
             [
              0,
              "#0d0887"
             ],
             [
              0.1111111111111111,
              "#46039f"
             ],
             [
              0.2222222222222222,
              "#7201a8"
             ],
             [
              0.3333333333333333,
              "#9c179e"
             ],
             [
              0.4444444444444444,
              "#bd3786"
             ],
             [
              0.5555555555555556,
              "#d8576b"
             ],
             [
              0.6666666666666666,
              "#ed7953"
             ],
             [
              0.7777777777777778,
              "#fb9f3a"
             ],
             [
              0.8888888888888888,
              "#fdca26"
             ],
             [
              1,
              "#f0f921"
             ]
            ],
            "type": "surface"
           }
          ],
          "table": [
           {
            "cells": {
             "fill": {
              "color": "#EBF0F8"
             },
             "line": {
              "color": "white"
             }
            },
            "header": {
             "fill": {
              "color": "#C8D4E3"
             },
             "line": {
              "color": "white"
             }
            },
            "type": "table"
           }
          ]
         },
         "layout": {
          "annotationdefaults": {
           "arrowcolor": "#2a3f5f",
           "arrowhead": 0,
           "arrowwidth": 1
          },
          "autotypenumbers": "strict",
          "coloraxis": {
           "colorbar": {
            "outlinewidth": 0,
            "ticks": ""
           }
          },
          "colorscale": {
           "diverging": [
            [
             0,
             "#8e0152"
            ],
            [
             0.1,
             "#c51b7d"
            ],
            [
             0.2,
             "#de77ae"
            ],
            [
             0.3,
             "#f1b6da"
            ],
            [
             0.4,
             "#fde0ef"
            ],
            [
             0.5,
             "#f7f7f7"
            ],
            [
             0.6,
             "#e6f5d0"
            ],
            [
             0.7,
             "#b8e186"
            ],
            [
             0.8,
             "#7fbc41"
            ],
            [
             0.9,
             "#4d9221"
            ],
            [
             1,
             "#276419"
            ]
           ],
           "sequential": [
            [
             0,
             "#0d0887"
            ],
            [
             0.1111111111111111,
             "#46039f"
            ],
            [
             0.2222222222222222,
             "#7201a8"
            ],
            [
             0.3333333333333333,
             "#9c179e"
            ],
            [
             0.4444444444444444,
             "#bd3786"
            ],
            [
             0.5555555555555556,
             "#d8576b"
            ],
            [
             0.6666666666666666,
             "#ed7953"
            ],
            [
             0.7777777777777778,
             "#fb9f3a"
            ],
            [
             0.8888888888888888,
             "#fdca26"
            ],
            [
             1,
             "#f0f921"
            ]
           ],
           "sequentialminus": [
            [
             0,
             "#0d0887"
            ],
            [
             0.1111111111111111,
             "#46039f"
            ],
            [
             0.2222222222222222,
             "#7201a8"
            ],
            [
             0.3333333333333333,
             "#9c179e"
            ],
            [
             0.4444444444444444,
             "#bd3786"
            ],
            [
             0.5555555555555556,
             "#d8576b"
            ],
            [
             0.6666666666666666,
             "#ed7953"
            ],
            [
             0.7777777777777778,
             "#fb9f3a"
            ],
            [
             0.8888888888888888,
             "#fdca26"
            ],
            [
             1,
             "#f0f921"
            ]
           ]
          },
          "colorway": [
           "#636efa",
           "#EF553B",
           "#00cc96",
           "#ab63fa",
           "#FFA15A",
           "#19d3f3",
           "#FF6692",
           "#B6E880",
           "#FF97FF",
           "#FECB52"
          ],
          "font": {
           "color": "#2a3f5f"
          },
          "geo": {
           "bgcolor": "white",
           "lakecolor": "white",
           "landcolor": "#E5ECF6",
           "showlakes": true,
           "showland": true,
           "subunitcolor": "white"
          },
          "hoverlabel": {
           "align": "left"
          },
          "hovermode": "closest",
          "mapbox": {
           "style": "light"
          },
          "paper_bgcolor": "white",
          "plot_bgcolor": "#E5ECF6",
          "polar": {
           "angularaxis": {
            "gridcolor": "white",
            "linecolor": "white",
            "ticks": ""
           },
           "bgcolor": "#E5ECF6",
           "radialaxis": {
            "gridcolor": "white",
            "linecolor": "white",
            "ticks": ""
           }
          },
          "scene": {
           "xaxis": {
            "backgroundcolor": "#E5ECF6",
            "gridcolor": "white",
            "gridwidth": 2,
            "linecolor": "white",
            "showbackground": true,
            "ticks": "",
            "zerolinecolor": "white"
           },
           "yaxis": {
            "backgroundcolor": "#E5ECF6",
            "gridcolor": "white",
            "gridwidth": 2,
            "linecolor": "white",
            "showbackground": true,
            "ticks": "",
            "zerolinecolor": "white"
           },
           "zaxis": {
            "backgroundcolor": "#E5ECF6",
            "gridcolor": "white",
            "gridwidth": 2,
            "linecolor": "white",
            "showbackground": true,
            "ticks": "",
            "zerolinecolor": "white"
           }
          },
          "shapedefaults": {
           "line": {
            "color": "#2a3f5f"
           }
          },
          "ternary": {
           "aaxis": {
            "gridcolor": "white",
            "linecolor": "white",
            "ticks": ""
           },
           "baxis": {
            "gridcolor": "white",
            "linecolor": "white",
            "ticks": ""
           },
           "bgcolor": "#E5ECF6",
           "caxis": {
            "gridcolor": "white",
            "linecolor": "white",
            "ticks": ""
           }
          },
          "title": {
           "x": 0.05
          },
          "xaxis": {
           "automargin": true,
           "gridcolor": "white",
           "linecolor": "white",
           "ticks": "",
           "title": {
            "standoff": 15
           },
           "zerolinecolor": "white",
           "zerolinewidth": 2
          },
          "yaxis": {
           "automargin": true,
           "gridcolor": "white",
           "linecolor": "white",
           "ticks": "",
           "title": {
            "standoff": 15
           },
           "zerolinecolor": "white",
           "zerolinewidth": 2
          }
         }
        },
        "title": {
         "text": "Scatterplot excluding outliers"
        },
        "xaxis": {
         "anchor": "y",
         "domain": [
          0,
          1
         ],
         "title": {
          "text": "Percentage"
         }
        },
        "yaxis": {
         "anchor": "x",
         "domain": [
          0,
          1
         ],
         "title": {
          "text": "Population"
         }
        }
       }
      }
     },
     "metadata": {}
    }
   ],
   "metadata": {
    "execution": {
     "iopub.execute_input": "2021-08-07T13:53:52.359109Z",
     "iopub.status.busy": "2021-08-07T13:53:52.348448Z",
     "iopub.status.idle": "2021-08-07T13:53:52.391058Z",
     "shell.execute_reply": "2021-08-07T13:53:52.390242Z",
     "shell.execute_reply.started": "2021-08-07T13:01:55.735441Z"
    },
    "papermill": {
     "duration": 0.114794,
     "end_time": "2021-08-07T13:53:52.391195",
     "exception": false,
     "start_time": "2021-08-07T13:53:52.276401",
     "status": "completed"
    },
    "tags": []
   }
  },
  {
   "cell_type": "markdown",
   "source": [
    "Now it is much clearer. This scatterplot is null which means there is no relationship between population and the rate of vaccinations and we can reject the hypothesis."
   ],
   "metadata": {
    "papermill": {
     "duration": 0.058175,
     "end_time": "2021-08-07T13:53:52.508201",
     "exception": false,
     "start_time": "2021-08-07T13:53:52.450026",
     "status": "completed"
    },
    "tags": []
   }
  },
  {
   "cell_type": "markdown",
   "source": [
    "**If you are reading this setence, I guess you are having a clearer view of how vaccinations analysis is made. Thank you for spending your time with me!**"
   ],
   "metadata": {
    "papermill": {
     "duration": 0.058423,
     "end_time": "2021-08-07T13:53:52.625301",
     "exception": false,
     "start_time": "2021-08-07T13:53:52.566878",
     "status": "completed"
    },
    "tags": []
   }
  }
 ],
 "metadata": {
  "kernelspec": {
   "name": "python3",
   "display_name": "Python 3.9.6 64-bit ('Data': venv)"
  },
  "language_info": {
   "codemirror_mode": {
    "name": "ipython",
    "version": 3
   },
   "file_extension": ".py",
   "mimetype": "text/x-python",
   "name": "python",
   "nbconvert_exporter": "python",
   "pygments_lexer": "ipython3",
   "version": "3.9.6"
  },
  "papermill": {
   "default_parameters": {},
   "duration": 23.902101,
   "end_time": "2021-08-07T13:53:54.328865",
   "environment_variables": {},
   "exception": null,
   "input_path": "__notebook__.ipynb",
   "output_path": "__notebook__.ipynb",
   "parameters": {},
   "start_time": "2021-08-07T13:53:30.426764",
   "version": "2.3.3"
  },
  "interpreter": {
   "hash": "c6039175e1f68e363a4ae1d7da0f960eaec732801456ddeb877cedf4184402c6"
  }
 },
 "nbformat": 4,
 "nbformat_minor": 5
}